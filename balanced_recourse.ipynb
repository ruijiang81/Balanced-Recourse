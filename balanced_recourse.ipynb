{
 "cells": [
  {
   "cell_type": "code",
   "execution_count": 1,
   "id": "30f2bb23",
   "metadata": {},
   "outputs": [
    {
     "name": "stderr",
     "output_type": "stream",
     "text": [
      "Using TensorFlow backend.\n"
     ]
    },
    {
     "name": "stdout",
     "output_type": "stream",
     "text": [
      "[INFO] Using Python-MIP package version 1.12.0 [model.py <module>]\n"
     ]
    }
   ],
   "source": [
    "import warnings\n",
    "warnings.filterwarnings(\"ignore\")\n",
    "from codecs import ignore_errors\n",
    "from carla import MLModelCatalog\n",
    "from carla.data.catalog.online_catalog import OnlineCatalog\n",
    "from carla.recourse_methods import GrowingSpheres, Wachter, CRUD \n",
    "from sklearn.linear_model import LogisticRegression\n",
    "from carla.recourse_methods import CCHVAE, balanceCCHVAE\n",
    "from carla import Benchmark\n",
    "from carla.models.negative_instances import predict_negative_instances\n",
    "import numpy as np\n",
    "import argparse \n",
    "import logging \n",
    "from utils_recourse import *\n",
    "from carla.data.catalog import CsvCatalog\n",
    "import pandas as pd \n",
    "import copy \n"
   ]
  },
  {
   "cell_type": "code",
   "execution_count": 2,
   "id": "b01f6870",
   "metadata": {},
   "outputs": [],
   "source": [
    "np.random.seed(0)\n",
    "seed_everything(0)\n",
    "set_style()"
   ]
  },
  {
   "cell_type": "code",
   "execution_count": 3,
   "id": "7a747414",
   "metadata": {},
   "outputs": [
    {
     "data": {
      "image/png": "[encoded data removed]",
      "text/plain": [
       "<Figure size 432x288 with 1 Axes>"
      ]
     },
     "metadata": {},
     "output_type": "display_data"
    }
   ],
   "source": [
    "malepay_size = 200\n",
    "femalepay_size = 200\n",
    "malenotpay_size = 200\n",
    "femalenotpay_size = 200\n",
    "mu1 = np.array([0,10])\n",
    "mu2 = np.array([5,5])\n",
    "mu3 = np.array([-5,-10])\n",
    "mu4 = np.array([0,-15])\n",
    "sigma1 = np.array([[5,0],[0,5]])\n",
    "sigma2 = np.array([[5,0],[0,5]])\n",
    "sigma3 = np.array([[5,0],[0,5]])\n",
    "sigma4 = np.array([[5,0],[0,5]]) \n",
    "male_repay = np.random.multivariate_normal(mean = mu1, cov = sigma1, size = malepay_size)\n",
    "female_repay = np.random.multivariate_normal(mean = mu2 , cov = sigma2, size = femalepay_size)\n",
    "\n",
    "male_default = np.random.multivariate_normal(mean = mu3, cov = sigma3, size = malenotpay_size)\n",
    "female_default = np.random.multivariate_normal(mean = mu4, cov = sigma4, size = femalenotpay_size)\n",
    "\n",
    "all_data = np.concatenate([male_repay, female_repay, male_default, female_default])\n",
    "y = np.array([1]*malepay_size+[1]*femalepay_size+[0]*malenotpay_size+[0]*femalenotpay_size)\n",
    "sens = np.concatenate([np.ones(malepay_size),np.zeros(femalepay_size), \\\n",
    "    np.ones(malenotpay_size),np.zeros(femalenotpay_size)])\n",
    "labels = np.concatenate([np.ones(malepay_size),np.ones(femalepay_size), \\\n",
    "    np.zeros(malenotpay_size),np.zeros(femalenotpay_size)])\n",
    "\n",
    "# reshape to [0,1]\n",
    "#'''\n",
    "all_data[:,0] = (all_data[:,0]) / np.max(np.abs(all_data[:,0]))\n",
    "all_data[:,0] = (all_data[:,0] + 1) / 2\n",
    "all_data[:,1] = (all_data[:,1]) / np.max(np.abs(all_data[:,1]))\n",
    "all_data[:,1] = (all_data[:,1] + 1) / 2\n",
    "#'''\n",
    "import matplotlib.pyplot as plt \n",
    "plt.scatter(all_data[:,0][np.logical_and(sens==1,y==1)],all_data[:,1][np.logical_and(sens==1,y==1)],label = 'Male Accepted')\n",
    "plt.scatter(all_data[:,0][np.logical_and(sens==0,y==1)],all_data[:,1][np.logical_and(sens==0,y==1)],label = 'Female Accepted')\n",
    "plt.scatter(all_data[:,0][np.logical_and(sens==1,y==0)],all_data[:,1][np.logical_and(sens==1,y==0)],label = 'Male Default',color='grey')\n",
    "plt.scatter(all_data[:,0][np.logical_and(sens==0,y==0)],all_data[:,1][np.logical_and(sens==0,y==0)],label = 'Female Default',color='cyan')\n",
    "plt.legend()\n",
    "plt.show()\n",
    "plt.savefig(f'./log/synfig/syn_original.pdf')\n",
    "plt.close()\n",
    "import pandas as pd \n",
    "df = pd.DataFrame(data = {'x1':all_data[:,0], 'x2':all_data[:,1], \"sex\":(sens).astype(int), \\\n",
    "\"y\": (labels).astype(int)})        \n",
    "df = df.sample(frac=1)\n",
    "df.to_csv('./data/synthetic_impact/syn.csv', index=False)\n",
    "df.to_csv('./balance_data/syn_train.csv', index = False)\n",
    "continuous = ['x1','x2']\n",
    "categorical = ['sex']\n",
    "immutable = ['sex']\n",
    "dataset = CsvCatalog(file_path=\"./data/synthetic_impact/syn.csv\",\n",
    "                    continuous=continuous,\n",
    "                    categorical=categorical,\n",
    "                    immutables=immutable,\n",
    "                    scaling_method=\"Identity\",\n",
    "                    target='y')   "
   ]
  },
  {
   "cell_type": "code",
   "execution_count": 4,
   "id": "02881685",
   "metadata": {},
   "outputs": [
    {
     "name": "stdout",
     "output_type": "stream",
     "text": [
      "balance on test set 0.5083333333333333, balance on test set 0.475\n",
      "Epoch 0/199\n",
      "----------\n",
      "train Loss: 0.3102 Acc: 0.9300\n",
      "\n",
      "test Loss: 0.1321 Acc: 1.0000\n",
      "\n",
      "Epoch 1/199\n",
      "----------\n",
      "train Loss: 0.1053 Acc: 1.0000\n",
      "\n",
      "test Loss: 0.0767 Acc: 1.0000\n",
      "\n",
      "Epoch 2/199\n",
      "----------\n",
      "train Loss: 0.0671 Acc: 1.0000\n",
      "\n",
      "test Loss: 0.0537 Acc: 1.0000\n",
      "\n",
      "Epoch 3/199\n",
      "----------\n",
      "train Loss: 0.0492 Acc: 1.0000\n",
      "\n",
      "test Loss: 0.0404 Acc: 1.0000\n",
      "\n",
      "Epoch 4/199\n",
      "----------\n",
      "train Loss: 0.0382 Acc: 1.0000\n",
      "\n",
      "test Loss: 0.0325 Acc: 1.0000\n",
      "\n",
      "Epoch 5/199\n",
      "----------\n",
      "train Loss: 0.0310 Acc: 1.0000\n",
      "\n",
      "test Loss: 0.0262 Acc: 1.0000\n",
      "\n",
      "Epoch 6/199\n",
      "----------\n",
      "train Loss: 0.0257 Acc: 1.0000\n",
      "\n",
      "test Loss: 0.0220 Acc: 1.0000\n",
      "\n",
      "Epoch 7/199\n",
      "----------\n",
      "train Loss: 0.0217 Acc: 1.0000\n",
      "\n",
      "test Loss: 0.0186 Acc: 1.0000\n",
      "\n",
      "Epoch 8/199\n",
      "----------\n",
      "train Loss: 0.0185 Acc: 1.0000\n",
      "\n",
      "test Loss: 0.0165 Acc: 1.0000\n",
      "\n",
      "Epoch 9/199\n",
      "----------\n",
      "train Loss: 0.0162 Acc: 1.0000\n",
      "\n",
      "test Loss: 0.0139 Acc: 1.0000\n",
      "\n",
      "Epoch 10/199\n",
      "----------\n",
      "train Loss: 0.0142 Acc: 1.0000\n",
      "\n",
      "test Loss: 0.0125 Acc: 1.0000\n",
      "\n",
      "Epoch 11/199\n",
      "----------\n",
      "train Loss: 0.0126 Acc: 1.0000\n",
      "\n",
      "test Loss: 0.0108 Acc: 1.0000\n",
      "\n",
      "Epoch 12/199\n",
      "----------\n",
      "train Loss: 0.0111 Acc: 1.0000\n",
      "\n",
      "test Loss: 0.0096 Acc: 1.0000\n",
      "\n",
      "Epoch 13/199\n",
      "----------\n",
      "train Loss: 0.0098 Acc: 1.0000\n",
      "\n",
      "test Loss: 0.0085 Acc: 1.0000\n",
      "\n",
      "Epoch 14/199\n",
      "----------\n",
      "train Loss: 0.0088 Acc: 1.0000\n",
      "\n",
      "test Loss: 0.0076 Acc: 1.0000\n",
      "\n",
      "Epoch 15/199\n",
      "----------\n",
      "train Loss: 0.0079 Acc: 1.0000\n",
      "\n",
      "test Loss: 0.0068 Acc: 1.0000\n",
      "\n",
      "Epoch 16/199\n",
      "----------\n",
      "train Loss: 0.0072 Acc: 1.0000\n",
      "\n",
      "test Loss: 0.0064 Acc: 1.0000\n",
      "\n",
      "Epoch 17/199\n",
      "----------\n",
      "train Loss: 0.0065 Acc: 1.0000\n",
      "\n",
      "test Loss: 0.0055 Acc: 1.0000\n",
      "\n",
      "Epoch 18/199\n",
      "----------\n",
      "train Loss: 0.0059 Acc: 1.0000\n",
      "\n",
      "test Loss: 0.0050 Acc: 1.0000\n",
      "\n",
      "Epoch 19/199\n",
      "----------\n",
      "train Loss: 0.0053 Acc: 1.0000\n",
      "\n",
      "test Loss: 0.0045 Acc: 1.0000\n",
      "\n",
      "Epoch 20/199\n",
      "----------\n",
      "train Loss: 0.0048 Acc: 1.0000\n",
      "\n",
      "test Loss: 0.0041 Acc: 1.0000\n",
      "\n",
      "Epoch 21/199\n",
      "----------\n",
      "train Loss: 0.0044 Acc: 1.0000\n",
      "\n",
      "test Loss: 0.0037 Acc: 1.0000\n",
      "\n",
      "Epoch 22/199\n",
      "----------\n",
      "train Loss: 0.0040 Acc: 1.0000\n",
      "\n",
      "test Loss: 0.0034 Acc: 1.0000\n",
      "\n",
      "Epoch 23/199\n",
      "----------\n",
      "train Loss: 0.0036 Acc: 1.0000\n",
      "\n",
      "test Loss: 0.0031 Acc: 1.0000\n",
      "\n",
      "Epoch 24/199\n",
      "----------\n",
      "train Loss: 0.0034 Acc: 1.0000\n",
      "\n",
      "test Loss: 0.0029 Acc: 1.0000\n",
      "\n",
      "Epoch 25/199\n",
      "----------\n",
      "train Loss: 0.0031 Acc: 1.0000\n",
      "\n",
      "test Loss: 0.0026 Acc: 1.0000\n",
      "\n",
      "Epoch 26/199\n",
      "----------\n",
      "train Loss: 0.0028 Acc: 1.0000\n",
      "\n",
      "test Loss: 0.0024 Acc: 1.0000\n",
      "\n",
      "Epoch 27/199\n",
      "----------\n",
      "train Loss: 0.0026 Acc: 1.0000\n",
      "\n",
      "test Loss: 0.0022 Acc: 1.0000\n",
      "\n",
      "Epoch 28/199\n",
      "----------\n",
      "train Loss: 0.0024 Acc: 1.0000\n",
      "\n",
      "test Loss: 0.0020 Acc: 1.0000\n",
      "\n",
      "Epoch 29/199\n",
      "----------\n",
      "train Loss: 0.0022 Acc: 1.0000\n",
      "\n",
      "test Loss: 0.0018 Acc: 1.0000\n",
      "\n",
      "Epoch 30/199\n",
      "----------\n",
      "train Loss: 0.0020 Acc: 1.0000\n",
      "\n",
      "test Loss: 0.0016 Acc: 1.0000\n",
      "\n",
      "Epoch 31/199\n",
      "----------\n",
      "train Loss: 0.0018 Acc: 1.0000\n",
      "\n",
      "test Loss: 0.0015 Acc: 1.0000\n",
      "\n",
      "Epoch 32/199\n",
      "----------\n",
      "train Loss: 0.0017 Acc: 1.0000\n",
      "\n",
      "test Loss: 0.0014 Acc: 1.0000\n",
      "\n",
      "Epoch 33/199\n",
      "----------\n",
      "train Loss: 0.0016 Acc: 1.0000\n",
      "\n",
      "test Loss: 0.0013 Acc: 1.0000\n",
      "\n",
      "Epoch 34/199\n",
      "----------\n",
      "train Loss: 0.0015 Acc: 1.0000\n",
      "\n",
      "test Loss: 0.0012 Acc: 1.0000\n",
      "\n",
      "Epoch 35/199\n",
      "----------\n",
      "train Loss: 0.0013 Acc: 1.0000\n",
      "\n",
      "test Loss: 0.0011 Acc: 1.0000\n",
      "\n",
      "Epoch 36/199\n",
      "----------\n",
      "train Loss: 0.0012 Acc: 1.0000\n",
      "\n",
      "test Loss: 0.0010 Acc: 1.0000\n",
      "\n",
      "Epoch 37/199\n",
      "----------\n",
      "train Loss: 0.0012 Acc: 1.0000\n",
      "\n",
      "test Loss: 0.0009 Acc: 1.0000\n",
      "\n",
      "Epoch 38/199\n",
      "----------\n",
      "train Loss: 0.0011 Acc: 1.0000\n",
      "\n",
      "test Loss: 0.0008 Acc: 1.0000\n",
      "\n",
      "Epoch 39/199\n",
      "----------\n",
      "train Loss: 0.0010 Acc: 1.0000\n",
      "\n",
      "test Loss: 0.0008 Acc: 1.0000\n",
      "\n",
      "Epoch 40/199\n",
      "----------\n",
      "train Loss: 0.0009 Acc: 1.0000\n",
      "\n",
      "test Loss: 0.0008 Acc: 1.0000\n",
      "\n",
      "Epoch 41/199\n",
      "----------\n",
      "train Loss: 0.0008 Acc: 1.0000\n",
      "\n",
      "test Loss: 0.0007 Acc: 1.0000\n",
      "\n",
      "Epoch 42/199\n",
      "----------\n",
      "train Loss: 0.0008 Acc: 1.0000\n",
      "\n",
      "test Loss: 0.0006 Acc: 1.0000\n",
      "\n",
      "Epoch 43/199\n",
      "----------\n",
      "train Loss: 0.0007 Acc: 1.0000\n",
      "\n",
      "test Loss: 0.0006 Acc: 1.0000\n",
      "\n",
      "Epoch 44/199\n",
      "----------\n",
      "train Loss: 0.0007 Acc: 1.0000\n",
      "\n",
      "test Loss: 0.0005 Acc: 1.0000\n",
      "\n",
      "Epoch 45/199\n",
      "----------\n",
      "train Loss: 0.0006 Acc: 1.0000\n",
      "\n",
      "test Loss: 0.0005 Acc: 1.0000\n",
      "\n",
      "Epoch 46/199\n",
      "----------\n",
      "train Loss: 0.0006 Acc: 1.0000\n",
      "\n",
      "test Loss: 0.0004 Acc: 1.0000\n",
      "\n",
      "Epoch 47/199\n",
      "----------\n",
      "train Loss: 0.0005 Acc: 1.0000\n",
      "\n",
      "test Loss: 0.0004 Acc: 1.0000\n",
      "\n",
      "Epoch 48/199\n",
      "----------\n",
      "train Loss: 0.0005 Acc: 1.0000\n",
      "\n",
      "test Loss: 0.0004 Acc: 1.0000\n",
      "\n",
      "Epoch 49/199\n",
      "----------\n",
      "train Loss: 0.0005 Acc: 1.0000\n",
      "\n",
      "test Loss: 0.0003 Acc: 1.0000\n",
      "\n",
      "Epoch 50/199\n",
      "----------\n",
      "train Loss: 0.0004 Acc: 1.0000\n",
      "\n",
      "test Loss: 0.0003 Acc: 1.0000\n",
      "\n",
      "Epoch 51/199\n",
      "----------\n",
      "train Loss: 0.0004 Acc: 1.0000\n",
      "\n",
      "test Loss: 0.0003 Acc: 1.0000\n",
      "\n",
      "Epoch 52/199\n",
      "----------\n",
      "train Loss: 0.0003 Acc: 1.0000\n",
      "\n",
      "test Loss: 0.0003 Acc: 1.0000\n",
      "\n",
      "Epoch 53/199\n",
      "----------\n",
      "train Loss: 0.0003 Acc: 1.0000\n",
      "\n",
      "test Loss: 0.0003 Acc: 1.0000\n",
      "\n",
      "Epoch 54/199\n",
      "----------\n",
      "train Loss: 0.0003 Acc: 1.0000\n",
      "\n",
      "test Loss: 0.0003 Acc: 1.0000\n",
      "\n",
      "Epoch 55/199\n",
      "----------\n",
      "train Loss: 0.0003 Acc: 1.0000\n",
      "\n",
      "test Loss: 0.0002 Acc: 1.0000\n",
      "\n",
      "Epoch 56/199\n",
      "----------\n",
      "train Loss: 0.0003 Acc: 1.0000\n",
      "\n",
      "test Loss: 0.0002 Acc: 1.0000\n",
      "\n",
      "Epoch 57/199\n",
      "----------\n",
      "train Loss: 0.0003 Acc: 1.0000\n",
      "\n",
      "test Loss: 0.0002 Acc: 1.0000\n",
      "\n",
      "Epoch 58/199\n",
      "----------\n",
      "train Loss: 0.0002 Acc: 1.0000\n",
      "\n",
      "test Loss: 0.0002 Acc: 1.0000\n",
      "\n",
      "Epoch 59/199\n",
      "----------\n",
      "train Loss: 0.0002 Acc: 1.0000\n",
      "\n",
      "test Loss: 0.0002 Acc: 1.0000\n",
      "\n",
      "Epoch 60/199\n",
      "----------\n",
      "train Loss: 0.0002 Acc: 1.0000\n",
      "\n",
      "test Loss: 0.0002 Acc: 1.0000\n",
      "\n",
      "Epoch 61/199\n",
      "----------\n",
      "train Loss: 0.0002 Acc: 1.0000\n",
      "\n",
      "test Loss: 0.0001 Acc: 1.0000\n",
      "\n",
      "Epoch 62/199\n",
      "----------\n",
      "train Loss: 0.0002 Acc: 1.0000\n",
      "\n",
      "test Loss: 0.0001 Acc: 1.0000\n",
      "\n",
      "Epoch 63/199\n",
      "----------\n",
      "train Loss: 0.0002 Acc: 1.0000\n",
      "\n",
      "test Loss: 0.0001 Acc: 1.0000\n",
      "\n",
      "Epoch 64/199\n",
      "----------\n",
      "train Loss: 0.0002 Acc: 1.0000\n",
      "\n",
      "test Loss: 0.0001 Acc: 1.0000\n",
      "\n",
      "Epoch 65/199\n",
      "----------\n",
      "train Loss: 0.0001 Acc: 1.0000\n",
      "\n",
      "test Loss: 0.0001 Acc: 1.0000\n",
      "\n",
      "Epoch 66/199\n",
      "----------\n",
      "train Loss: 0.0001 Acc: 1.0000\n",
      "\n",
      "test Loss: 0.0001 Acc: 1.0000\n",
      "\n",
      "Epoch 67/199\n",
      "----------\n",
      "train Loss: 0.0001 Acc: 1.0000\n",
      "\n",
      "test Loss: 0.0001 Acc: 1.0000\n",
      "\n",
      "Epoch 68/199\n",
      "----------\n",
      "train Loss: 0.0001 Acc: 1.0000\n",
      "\n",
      "test Loss: 0.0001 Acc: 1.0000\n",
      "\n",
      "Epoch 69/199\n",
      "----------\n",
      "train Loss: 0.0001 Acc: 1.0000\n",
      "\n",
      "test Loss: 0.0001 Acc: 1.0000\n",
      "\n",
      "Epoch 70/199\n",
      "----------\n",
      "train Loss: 0.0001 Acc: 1.0000\n",
      "\n",
      "test Loss: 0.0001 Acc: 1.0000\n",
      "\n",
      "Epoch 71/199\n",
      "----------\n",
      "train Loss: 0.0001 Acc: 1.0000\n",
      "\n",
      "test Loss: 0.0001 Acc: 1.0000\n",
      "\n",
      "Epoch 72/199\n",
      "----------\n",
      "train Loss: 0.0001 Acc: 1.0000\n",
      "\n",
      "test Loss: 0.0001 Acc: 1.0000\n",
      "\n",
      "Epoch 73/199\n",
      "----------\n",
      "train Loss: 0.0001 Acc: 1.0000\n",
      "\n",
      "test Loss: 0.0001 Acc: 1.0000\n",
      "\n",
      "Epoch 74/199\n",
      "----------\n",
      "train Loss: 0.0001 Acc: 1.0000\n",
      "\n",
      "test Loss: 0.0001 Acc: 1.0000\n",
      "\n",
      "Epoch 75/199\n",
      "----------\n",
      "train Loss: 0.0001 Acc: 1.0000\n",
      "\n",
      "test Loss: 0.0001 Acc: 1.0000\n",
      "\n",
      "Epoch 76/199\n",
      "----------\n",
      "train Loss: 0.0001 Acc: 1.0000\n",
      "\n",
      "test Loss: 0.0001 Acc: 1.0000\n",
      "\n",
      "Epoch 77/199\n",
      "----------\n",
      "train Loss: 0.0001 Acc: 1.0000\n",
      "\n",
      "test Loss: 0.0000 Acc: 1.0000\n",
      "\n",
      "Epoch 78/199\n",
      "----------\n",
      "train Loss: 0.0001 Acc: 1.0000\n",
      "\n",
      "test Loss: 0.0001 Acc: 1.0000\n",
      "\n",
      "Epoch 79/199\n",
      "----------\n",
      "train Loss: 0.0001 Acc: 1.0000\n",
      "\n",
      "test Loss: 0.0000 Acc: 1.0000\n",
      "\n",
      "Epoch 80/199\n",
      "----------\n",
      "train Loss: 0.0001 Acc: 1.0000\n",
      "\n",
      "test Loss: 0.0000 Acc: 1.0000\n",
      "\n",
      "Epoch 81/199\n",
      "----------\n",
      "train Loss: 0.0001 Acc: 1.0000\n",
      "\n",
      "test Loss: 0.0000 Acc: 1.0000\n",
      "\n",
      "Epoch 82/199\n",
      "----------\n",
      "train Loss: 0.0001 Acc: 1.0000\n",
      "\n",
      "test Loss: 0.0000 Acc: 1.0000\n",
      "\n",
      "Epoch 83/199\n",
      "----------\n",
      "train Loss: 0.0000 Acc: 1.0000\n",
      "\n",
      "test Loss: 0.0000 Acc: 1.0000\n",
      "\n",
      "Epoch 84/199\n",
      "----------\n",
      "train Loss: 0.0000 Acc: 1.0000\n",
      "\n",
      "test Loss: 0.0000 Acc: 1.0000\n",
      "\n",
      "Epoch 85/199\n",
      "----------\n",
      "train Loss: 0.0000 Acc: 1.0000\n",
      "\n",
      "test Loss: 0.0000 Acc: 1.0000\n",
      "\n",
      "Epoch 86/199\n",
      "----------\n",
      "train Loss: 0.0000 Acc: 1.0000\n",
      "\n",
      "test Loss: 0.0000 Acc: 1.0000\n",
      "\n",
      "Epoch 87/199\n",
      "----------\n",
      "train Loss: 0.0000 Acc: 1.0000\n",
      "\n",
      "test Loss: 0.0000 Acc: 1.0000\n",
      "\n",
      "Epoch 88/199\n",
      "----------\n",
      "train Loss: 0.0000 Acc: 1.0000\n",
      "\n",
      "test Loss: 0.0000 Acc: 1.0000\n",
      "\n",
      "Epoch 89/199\n",
      "----------\n",
      "train Loss: 0.0000 Acc: 1.0000\n",
      "\n",
      "test Loss: 0.0000 Acc: 1.0000\n",
      "\n",
      "Epoch 90/199\n",
      "----------\n",
      "train Loss: 0.0000 Acc: 1.0000\n",
      "\n",
      "test Loss: 0.0000 Acc: 1.0000\n",
      "\n",
      "Epoch 91/199\n",
      "----------\n",
      "train Loss: 0.0000 Acc: 1.0000\n",
      "\n",
      "test Loss: 0.0000 Acc: 1.0000\n",
      "\n",
      "Epoch 92/199\n",
      "----------\n",
      "train Loss: 0.0000 Acc: 1.0000\n",
      "\n",
      "test Loss: 0.0000 Acc: 1.0000\n",
      "\n",
      "Epoch 93/199\n",
      "----------\n",
      "train Loss: 0.0000 Acc: 1.0000\n",
      "\n",
      "test Loss: 0.0000 Acc: 1.0000\n",
      "\n",
      "Epoch 94/199\n",
      "----------\n",
      "train Loss: 0.0000 Acc: 1.0000\n",
      "\n",
      "test Loss: 0.0000 Acc: 1.0000\n",
      "\n",
      "Epoch 95/199\n",
      "----------\n",
      "train Loss: 0.0000 Acc: 1.0000\n",
      "\n",
      "test Loss: 0.0000 Acc: 1.0000\n",
      "\n",
      "Epoch 96/199\n",
      "----------\n",
      "train Loss: 0.0000 Acc: 1.0000\n",
      "\n",
      "test Loss: 0.0000 Acc: 1.0000\n",
      "\n",
      "Epoch 97/199\n",
      "----------\n",
      "train Loss: 0.0000 Acc: 1.0000\n",
      "\n",
      "test Loss: 0.0000 Acc: 1.0000\n",
      "\n",
      "Epoch 98/199\n",
      "----------\n",
      "train Loss: 0.0000 Acc: 1.0000\n",
      "\n",
      "test Loss: 0.0000 Acc: 1.0000\n",
      "\n",
      "Epoch 99/199\n",
      "----------\n",
      "train Loss: 0.0000 Acc: 1.0000\n",
      "\n",
      "test Loss: 0.0000 Acc: 1.0000\n",
      "\n",
      "Epoch 100/199\n",
      "----------\n",
      "train Loss: 0.0000 Acc: 1.0000\n",
      "\n"
     ]
    },
    {
     "name": "stdout",
     "output_type": "stream",
     "text": [
      "test Loss: 0.0000 Acc: 1.0000\n",
      "\n",
      "Epoch 101/199\n",
      "----------\n",
      "train Loss: 0.0000 Acc: 1.0000\n",
      "\n",
      "test Loss: 0.0000 Acc: 1.0000\n",
      "\n",
      "Epoch 102/199\n",
      "----------\n",
      "train Loss: 0.0000 Acc: 1.0000\n",
      "\n",
      "test Loss: 0.0000 Acc: 1.0000\n",
      "\n",
      "Epoch 103/199\n",
      "----------\n",
      "train Loss: 0.0000 Acc: 1.0000\n",
      "\n",
      "test Loss: 0.0000 Acc: 1.0000\n",
      "\n",
      "Epoch 104/199\n",
      "----------\n",
      "train Loss: 0.0000 Acc: 1.0000\n",
      "\n",
      "test Loss: 0.0000 Acc: 1.0000\n",
      "\n",
      "Epoch 105/199\n",
      "----------\n",
      "train Loss: 0.0000 Acc: 1.0000\n",
      "\n",
      "test Loss: 0.0000 Acc: 1.0000\n",
      "\n",
      "Epoch 106/199\n",
      "----------\n",
      "train Loss: 0.0000 Acc: 1.0000\n",
      "\n",
      "test Loss: 0.0000 Acc: 1.0000\n",
      "\n",
      "Epoch 107/199\n",
      "----------\n",
      "train Loss: 0.0000 Acc: 1.0000\n",
      "\n",
      "test Loss: 0.0000 Acc: 1.0000\n",
      "\n",
      "Epoch 108/199\n",
      "----------\n",
      "train Loss: 0.0000 Acc: 1.0000\n",
      "\n",
      "test Loss: 0.0000 Acc: 1.0000\n",
      "\n",
      "Epoch 109/199\n",
      "----------\n",
      "train Loss: 0.0000 Acc: 1.0000\n",
      "\n",
      "test Loss: 0.0000 Acc: 1.0000\n",
      "\n",
      "Epoch 110/199\n",
      "----------\n",
      "train Loss: 0.0000 Acc: 1.0000\n",
      "\n",
      "test Loss: 0.0000 Acc: 1.0000\n",
      "\n",
      "Epoch 111/199\n",
      "----------\n",
      "train Loss: 0.0000 Acc: 1.0000\n",
      "\n",
      "test Loss: 0.0000 Acc: 1.0000\n",
      "\n",
      "Epoch 112/199\n",
      "----------\n",
      "train Loss: 0.0000 Acc: 1.0000\n",
      "\n",
      "test Loss: 0.0000 Acc: 1.0000\n",
      "\n",
      "Epoch 113/199\n",
      "----------\n",
      "train Loss: 0.0000 Acc: 1.0000\n",
      "\n",
      "test Loss: 0.0000 Acc: 1.0000\n",
      "\n",
      "Epoch 114/199\n",
      "----------\n",
      "train Loss: 0.0000 Acc: 1.0000\n",
      "\n",
      "test Loss: 0.0000 Acc: 1.0000\n",
      "\n",
      "Epoch 115/199\n",
      "----------\n",
      "train Loss: 0.0000 Acc: 1.0000\n",
      "\n",
      "test Loss: 0.0000 Acc: 1.0000\n",
      "\n",
      "Epoch 116/199\n",
      "----------\n",
      "train Loss: 0.0000 Acc: 1.0000\n",
      "\n",
      "test Loss: 0.0000 Acc: 1.0000\n",
      "\n",
      "Epoch 117/199\n",
      "----------\n",
      "train Loss: 0.0000 Acc: 1.0000\n",
      "\n",
      "test Loss: 0.0000 Acc: 1.0000\n",
      "\n",
      "Epoch 118/199\n",
      "----------\n",
      "train Loss: 0.0000 Acc: 1.0000\n",
      "\n",
      "test Loss: 0.0000 Acc: 1.0000\n",
      "\n",
      "Epoch 119/199\n",
      "----------\n",
      "train Loss: 0.0000 Acc: 1.0000\n",
      "\n",
      "test Loss: 0.0000 Acc: 1.0000\n",
      "\n",
      "Epoch 120/199\n",
      "----------\n",
      "train Loss: 0.0000 Acc: 1.0000\n",
      "\n",
      "test Loss: 0.0000 Acc: 1.0000\n",
      "\n",
      "Epoch 121/199\n",
      "----------\n",
      "train Loss: 0.0000 Acc: 1.0000\n",
      "\n",
      "test Loss: 0.0000 Acc: 1.0000\n",
      "\n",
      "Epoch 122/199\n",
      "----------\n",
      "train Loss: 0.0000 Acc: 1.0000\n",
      "\n",
      "test Loss: 0.0000 Acc: 1.0000\n",
      "\n",
      "Epoch 123/199\n",
      "----------\n",
      "train Loss: 0.0000 Acc: 1.0000\n",
      "\n",
      "test Loss: 0.0000 Acc: 1.0000\n",
      "\n",
      "Epoch 124/199\n",
      "----------\n",
      "train Loss: 0.0000 Acc: 1.0000\n",
      "\n",
      "test Loss: 0.0000 Acc: 1.0000\n",
      "\n",
      "Epoch 125/199\n",
      "----------\n",
      "train Loss: 0.0000 Acc: 1.0000\n",
      "\n",
      "test Loss: 0.0000 Acc: 1.0000\n",
      "\n",
      "Epoch 126/199\n",
      "----------\n",
      "train Loss: 0.0000 Acc: 1.0000\n",
      "\n",
      "test Loss: 0.0000 Acc: 1.0000\n",
      "\n",
      "Epoch 127/199\n",
      "----------\n",
      "train Loss: 0.0000 Acc: 1.0000\n",
      "\n",
      "test Loss: 0.0000 Acc: 1.0000\n",
      "\n",
      "Epoch 128/199\n",
      "----------\n",
      "train Loss: 0.0000 Acc: 1.0000\n",
      "\n",
      "test Loss: 0.0000 Acc: 1.0000\n",
      "\n",
      "Epoch 129/199\n",
      "----------\n",
      "train Loss: 0.0000 Acc: 1.0000\n",
      "\n",
      "test Loss: 0.0000 Acc: 1.0000\n",
      "\n",
      "Epoch 130/199\n",
      "----------\n",
      "train Loss: 0.0000 Acc: 1.0000\n",
      "\n",
      "test Loss: 0.0000 Acc: 1.0000\n",
      "\n",
      "Epoch 131/199\n",
      "----------\n",
      "train Loss: 0.0000 Acc: 1.0000\n",
      "\n",
      "test Loss: 0.0000 Acc: 1.0000\n",
      "\n",
      "Epoch 132/199\n",
      "----------\n",
      "train Loss: 0.0000 Acc: 1.0000\n",
      "\n",
      "test Loss: 0.0000 Acc: 1.0000\n",
      "\n",
      "Epoch 133/199\n",
      "----------\n",
      "train Loss: 0.0000 Acc: 1.0000\n",
      "\n",
      "test Loss: 0.0000 Acc: 1.0000\n",
      "\n",
      "Epoch 134/199\n",
      "----------\n",
      "train Loss: 0.0000 Acc: 1.0000\n",
      "\n",
      "test Loss: 0.0000 Acc: 1.0000\n",
      "\n",
      "Epoch 135/199\n",
      "----------\n",
      "train Loss: 0.0000 Acc: 1.0000\n",
      "\n",
      "test Loss: 0.0000 Acc: 1.0000\n",
      "\n",
      "Epoch 136/199\n",
      "----------\n",
      "train Loss: 0.0000 Acc: 1.0000\n",
      "\n",
      "test Loss: 0.0000 Acc: 1.0000\n",
      "\n",
      "Epoch 137/199\n",
      "----------\n",
      "train Loss: 0.0000 Acc: 1.0000\n",
      "\n",
      "test Loss: 0.0000 Acc: 1.0000\n",
      "\n",
      "Epoch 138/199\n",
      "----------\n",
      "train Loss: 0.0000 Acc: 1.0000\n",
      "\n",
      "test Loss: 0.0000 Acc: 1.0000\n",
      "\n",
      "Epoch 139/199\n",
      "----------\n",
      "train Loss: 0.0000 Acc: 1.0000\n",
      "\n",
      "test Loss: 0.0000 Acc: 1.0000\n",
      "\n",
      "Epoch 140/199\n",
      "----------\n",
      "train Loss: 0.0000 Acc: 1.0000\n",
      "\n",
      "test Loss: 0.0000 Acc: 1.0000\n",
      "\n",
      "Epoch 141/199\n",
      "----------\n",
      "train Loss: 0.0000 Acc: 1.0000\n",
      "\n",
      "test Loss: 0.0000 Acc: 1.0000\n",
      "\n",
      "Epoch 142/199\n",
      "----------\n",
      "train Loss: 0.0000 Acc: 1.0000\n",
      "\n",
      "test Loss: 0.0000 Acc: 1.0000\n",
      "\n",
      "Epoch 143/199\n",
      "----------\n",
      "train Loss: 0.0000 Acc: 1.0000\n",
      "\n",
      "test Loss: 0.0000 Acc: 1.0000\n",
      "\n",
      "Epoch 144/199\n",
      "----------\n",
      "train Loss: 0.0000 Acc: 1.0000\n",
      "\n",
      "test Loss: 0.0000 Acc: 1.0000\n",
      "\n",
      "Epoch 145/199\n",
      "----------\n",
      "train Loss: 0.0000 Acc: 1.0000\n",
      "\n",
      "test Loss: 0.0000 Acc: 1.0000\n",
      "\n",
      "Epoch 146/199\n",
      "----------\n",
      "train Loss: 0.0000 Acc: 1.0000\n",
      "\n",
      "test Loss: 0.0000 Acc: 1.0000\n",
      "\n",
      "Epoch 147/199\n",
      "----------\n",
      "train Loss: 0.0000 Acc: 1.0000\n",
      "\n",
      "test Loss: 0.0000 Acc: 1.0000\n",
      "\n",
      "Epoch 148/199\n",
      "----------\n",
      "train Loss: 0.0000 Acc: 1.0000\n",
      "\n",
      "test Loss: 0.0000 Acc: 1.0000\n",
      "\n",
      "Epoch 149/199\n",
      "----------\n",
      "train Loss: 0.0000 Acc: 1.0000\n",
      "\n",
      "test Loss: 0.0000 Acc: 1.0000\n",
      "\n",
      "Epoch 150/199\n",
      "----------\n",
      "train Loss: 0.0000 Acc: 1.0000\n",
      "\n",
      "test Loss: 0.0000 Acc: 1.0000\n",
      "\n",
      "Epoch 151/199\n",
      "----------\n",
      "train Loss: 0.0000 Acc: 1.0000\n",
      "\n",
      "test Loss: 0.0000 Acc: 1.0000\n",
      "\n",
      "Epoch 152/199\n",
      "----------\n",
      "train Loss: 0.0000 Acc: 1.0000\n",
      "\n",
      "test Loss: 0.0000 Acc: 1.0000\n",
      "\n",
      "Epoch 153/199\n",
      "----------\n",
      "train Loss: 0.0000 Acc: 1.0000\n",
      "\n",
      "test Loss: 0.0000 Acc: 1.0000\n",
      "\n",
      "Epoch 154/199\n",
      "----------\n",
      "train Loss: 0.0000 Acc: 1.0000\n",
      "\n",
      "test Loss: 0.0000 Acc: 1.0000\n",
      "\n",
      "Epoch 155/199\n",
      "----------\n",
      "train Loss: 0.0000 Acc: 1.0000\n",
      "\n",
      "test Loss: 0.0000 Acc: 1.0000\n",
      "\n",
      "Epoch 156/199\n",
      "----------\n",
      "train Loss: 0.0000 Acc: 1.0000\n",
      "\n",
      "test Loss: 0.0000 Acc: 1.0000\n",
      "\n",
      "Epoch 157/199\n",
      "----------\n",
      "train Loss: 0.0000 Acc: 1.0000\n",
      "\n",
      "test Loss: 0.0000 Acc: 1.0000\n",
      "\n",
      "Epoch 158/199\n",
      "----------\n",
      "train Loss: 0.0000 Acc: 1.0000\n",
      "\n",
      "test Loss: 0.0000 Acc: 1.0000\n",
      "\n",
      "Epoch 159/199\n",
      "----------\n",
      "train Loss: 0.0000 Acc: 1.0000\n",
      "\n",
      "test Loss: 0.0000 Acc: 1.0000\n",
      "\n",
      "Epoch 160/199\n",
      "----------\n",
      "train Loss: 0.0000 Acc: 1.0000\n",
      "\n",
      "test Loss: 0.0000 Acc: 1.0000\n",
      "\n",
      "Epoch 161/199\n",
      "----------\n",
      "train Loss: 0.0000 Acc: 1.0000\n",
      "\n",
      "test Loss: 0.0000 Acc: 1.0000\n",
      "\n",
      "Epoch 162/199\n",
      "----------\n",
      "train Loss: 0.0000 Acc: 1.0000\n",
      "\n",
      "test Loss: 0.0000 Acc: 1.0000\n",
      "\n",
      "Epoch 163/199\n",
      "----------\n",
      "train Loss: 0.0000 Acc: 1.0000\n",
      "\n",
      "test Loss: 0.0000 Acc: 1.0000\n",
      "\n",
      "Epoch 164/199\n",
      "----------\n",
      "train Loss: 0.0000 Acc: 1.0000\n",
      "\n",
      "test Loss: 0.0000 Acc: 1.0000\n",
      "\n",
      "Epoch 165/199\n",
      "----------\n",
      "train Loss: 0.0000 Acc: 1.0000\n",
      "\n",
      "test Loss: 0.0000 Acc: 1.0000\n",
      "\n",
      "Epoch 166/199\n",
      "----------\n",
      "train Loss: 0.0000 Acc: 1.0000\n",
      "\n",
      "test Loss: 0.0000 Acc: 1.0000\n",
      "\n",
      "Epoch 167/199\n",
      "----------\n",
      "train Loss: 0.0000 Acc: 1.0000\n",
      "\n",
      "test Loss: 0.0000 Acc: 1.0000\n",
      "\n",
      "Epoch 168/199\n",
      "----------\n",
      "train Loss: 0.0000 Acc: 1.0000\n",
      "\n",
      "test Loss: 0.0000 Acc: 1.0000\n",
      "\n",
      "Epoch 169/199\n",
      "----------\n",
      "train Loss: 0.0000 Acc: 1.0000\n",
      "\n",
      "test Loss: 0.0000 Acc: 1.0000\n",
      "\n",
      "Epoch 170/199\n",
      "----------\n",
      "train Loss: 0.0000 Acc: 1.0000\n",
      "\n",
      "test Loss: 0.0000 Acc: 1.0000\n",
      "\n",
      "Epoch 171/199\n",
      "----------\n",
      "train Loss: 0.0000 Acc: 1.0000\n",
      "\n",
      "test Loss: 0.0000 Acc: 1.0000\n",
      "\n",
      "Epoch 172/199\n",
      "----------\n",
      "train Loss: 0.0000 Acc: 1.0000\n",
      "\n",
      "test Loss: 0.0000 Acc: 1.0000\n",
      "\n",
      "Epoch 173/199\n",
      "----------\n",
      "train Loss: 0.0000 Acc: 1.0000\n",
      "\n",
      "test Loss: 0.0000 Acc: 1.0000\n",
      "\n",
      "Epoch 174/199\n",
      "----------\n",
      "train Loss: 0.0000 Acc: 1.0000\n",
      "\n",
      "test Loss: 0.0000 Acc: 1.0000\n",
      "\n",
      "Epoch 175/199\n",
      "----------\n",
      "train Loss: 0.0000 Acc: 1.0000\n",
      "\n",
      "test Loss: 0.0000 Acc: 1.0000\n",
      "\n",
      "Epoch 176/199\n",
      "----------\n",
      "train Loss: 0.0000 Acc: 1.0000\n",
      "\n",
      "test Loss: 0.0000 Acc: 1.0000\n",
      "\n",
      "Epoch 177/199\n",
      "----------\n",
      "train Loss: 0.0000 Acc: 1.0000\n",
      "\n",
      "test Loss: 0.0000 Acc: 1.0000\n",
      "\n",
      "Epoch 178/199\n",
      "----------\n",
      "train Loss: 0.0000 Acc: 1.0000\n",
      "\n",
      "test Loss: 0.0000 Acc: 1.0000\n",
      "\n",
      "Epoch 179/199\n",
      "----------\n",
      "train Loss: 0.0000 Acc: 1.0000\n",
      "\n",
      "test Loss: 0.0000 Acc: 1.0000\n",
      "\n",
      "Epoch 180/199\n",
      "----------\n",
      "train Loss: 0.0000 Acc: 1.0000\n",
      "\n",
      "test Loss: 0.0000 Acc: 1.0000\n",
      "\n",
      "Epoch 181/199\n",
      "----------\n",
      "train Loss: 0.0000 Acc: 1.0000\n",
      "\n",
      "test Loss: 0.0000 Acc: 1.0000\n",
      "\n",
      "Epoch 182/199\n",
      "----------\n",
      "train Loss: 0.0000 Acc: 1.0000\n",
      "\n",
      "test Loss: 0.0000 Acc: 1.0000\n",
      "\n",
      "Epoch 183/199\n",
      "----------\n",
      "train Loss: 0.0000 Acc: 1.0000\n",
      "\n",
      "test Loss: 0.0000 Acc: 1.0000\n",
      "\n",
      "Epoch 184/199\n",
      "----------\n",
      "train Loss: 0.0000 Acc: 1.0000\n",
      "\n",
      "test Loss: 0.0000 Acc: 1.0000\n",
      "\n",
      "Epoch 185/199\n",
      "----------\n",
      "train Loss: 0.0000 Acc: 1.0000\n",
      "\n",
      "test Loss: 0.0000 Acc: 1.0000\n",
      "\n",
      "Epoch 186/199\n",
      "----------\n",
      "train Loss: 0.0000 Acc: 1.0000\n",
      "\n",
      "test Loss: 0.0000 Acc: 1.0000\n",
      "\n",
      "Epoch 187/199\n",
      "----------\n",
      "train Loss: 0.0000 Acc: 1.0000\n",
      "\n",
      "test Loss: 0.0000 Acc: 1.0000\n",
      "\n",
      "Epoch 188/199\n",
      "----------\n",
      "train Loss: 0.0000 Acc: 1.0000\n",
      "\n",
      "test Loss: 0.0000 Acc: 1.0000\n",
      "\n",
      "Epoch 189/199\n",
      "----------\n",
      "train Loss: 0.0000 Acc: 1.0000\n",
      "\n",
      "test Loss: 0.0000 Acc: 1.0000\n",
      "\n",
      "Epoch 190/199\n",
      "----------\n",
      "train Loss: 0.0000 Acc: 1.0000\n",
      "\n",
      "test Loss: 0.0000 Acc: 1.0000\n",
      "\n",
      "Epoch 191/199\n",
      "----------\n",
      "train Loss: 0.0000 Acc: 1.0000\n",
      "\n",
      "test Loss: 0.0000 Acc: 1.0000\n",
      "\n",
      "Epoch 192/199\n",
      "----------\n",
      "train Loss: 0.0000 Acc: 1.0000\n",
      "\n",
      "test Loss: 0.0000 Acc: 1.0000\n",
      "\n",
      "Epoch 193/199\n",
      "----------\n",
      "train Loss: 0.0000 Acc: 1.0000\n",
      "\n",
      "test Loss: 0.0000 Acc: 1.0000\n",
      "\n",
      "Epoch 194/199\n",
      "----------\n",
      "train Loss: 0.0000 Acc: 1.0000\n",
      "\n",
      "test Loss: 0.0000 Acc: 1.0000\n",
      "\n",
      "Epoch 195/199\n",
      "----------\n",
      "train Loss: 0.0000 Acc: 1.0000\n",
      "\n",
      "test Loss: 0.0000 Acc: 1.0000\n",
      "\n",
      "Epoch 196/199\n",
      "----------\n",
      "train Loss: 0.0000 Acc: 1.0000\n",
      "\n",
      "test Loss: 0.0000 Acc: 1.0000\n",
      "\n",
      "Epoch 197/199\n",
      "----------\n",
      "train Loss: 0.0000 Acc: 1.0000\n",
      "\n",
      "test Loss: 0.0000 Acc: 1.0000\n",
      "\n",
      "Epoch 198/199\n",
      "----------\n",
      "train Loss: 0.0000 Acc: 1.0000\n",
      "\n",
      "test Loss: 0.0000 Acc: 1.0000\n",
      "\n",
      "Epoch 199/199\n",
      "----------\n",
      "train Loss: 0.0000 Acc: 1.0000\n",
      "\n",
      "test Loss: 0.0000 Acc: 1.0000\n",
      "\n",
      "accuracy of trained model is 1.0\n",
      "accuracy of trained model is 1.0\n"
     ]
    }
   ],
   "source": [
    "ml_model = MLModelCatalog(\n",
    "    dataset,\n",
    "    model_type=\"linear\",\n",
    "    load_online=False,\n",
    "    backend=\"pytorch\", \n",
    "    force_train = True\n",
    ")\n",
    "training_params = {\"lr\": 1e-1, \"epochs\": 200, \"batch_size\": 32, \"hidden_size\": [1024]}\n",
    "ml_model.train(\n",
    "    learning_rate=training_params[\"lr\"],\n",
    "    epochs=training_params[\"epochs\"],\n",
    "    batch_size=training_params[\"batch_size\"],\n",
    "    hidden_size=training_params[\"hidden_size\"], \n",
    "    force_train = True\n",
    ")\n",
    "labels = ml_model.predict(dataset.df_test)\n",
    "labels = (labels > 0.5 ) * 1\n",
    "print(f'accuracy of trained model is {np.mean([i==j for i,j in zip(labels, dataset.df_test[dataset.target].values)])}')\n",
    "\n",
    "labels = ml_model.predict(dataset.df_train)\n",
    "labels = (labels > 0.5 ) * 1\n",
    "print(f'accuracy of trained model is {np.mean([i==j for i,j in zip(labels, dataset.df_train[dataset.target].values)])}')"
   ]
  },
  {
   "cell_type": "code",
   "execution_count": 5,
   "id": "d087c25f",
   "metadata": {},
   "outputs": [],
   "source": [
    "result = pd.DataFrame(columns = ['metric','value','method'])\n",
    "sensitive = \"sex_1\""
   ]
  },
  {
   "cell_type": "code",
   "execution_count": 6,
   "id": "50168a65",
   "metadata": {},
   "outputs": [
    {
     "name": "stdout",
     "output_type": "stream",
     "text": [
      "Previous Centralization is 0.4930555555555556\n",
      "Previous Atkinson is 0.7977247848552864\n",
      "Previous Avg Proximity is 0.6626241039997373\n"
     ]
    }
   ],
   "source": [
    "pred = (ml_model.predict(dataset.df_train) > 0.5) * 1.\n",
    "pred_origin = ((ml_model.predict(dataset.df_train) > 0.5) * 1.).reshape(-1)\n",
    "p_central, radius = centralization(dataset.df_train[sensitive].values, \\\n",
    "    dataset.df_train[['x1','x2']].values)\n",
    "print(f'Previous Centralization is {p_central}')\n",
    "p_atkinson = atkinson(dataset.df_train[sensitive].values,\\\n",
    "    dataset.df_train[['x1','x2']].values, \\\n",
    "    origin_features = dataset.df_train[['x1','x2']].values, \\\n",
    "            #y = dataset.df_train[dataset.target])\n",
    ")\n",
    "p_atkinson = atkinson(dataset.df_train[sensitive].values,\\\n",
    "    dataset.df_train[['x1','x2']].values, \\\n",
    "    origin_features = dataset.df_train[['x1','x2']].values[pred_origin == 1], \\\n",
    ")    \n",
    "print(f'Previous Atkinson is {p_atkinson}')\n",
    "sen_feature = sensitive\n",
    "mutable_feature = ['x1','x2']\n",
    "a = dataset.df_train\n",
    "p_ap = avg_proximity2(a[sen_feature].values,\\\n",
    "    a[mutable_feature].values)\n",
    "print(f'Previous Avg Proximity is {p_ap}')\n",
    "\n",
    "result = result.append({'metric':'centralization_pre', \\\n",
    "    'value': p_central, 'method': 'None'}, ignore_index = True)\n",
    "result = result.append({'metric':'atkinson_pre', \\\n",
    "    'value': p_atkinson, 'method': 'None'}, ignore_index = True)\n",
    "result = result.append({'metric':'avgproxi_pre', \\\n",
    "    'value': p_ap, 'method': 'None'}, ignore_index = True)\n"
   ]
  },
  {
   "cell_type": "code",
   "execution_count": 7,
   "id": "2640a0e2",
   "metadata": {},
   "outputs": [],
   "source": [
    "df.to_csv('./balance_data/syn_train.csv')"
   ]
  },
  {
   "cell_type": "markdown",
   "id": "705e4eea",
   "metadata": {},
   "source": [
    "# WATCHER"
   ]
  },
  {
   "cell_type": "code",
   "execution_count": 8,
   "id": "9a792673",
   "metadata": {},
   "outputs": [
    {
     "name": "stdout",
     "output_type": "stream",
     "text": [
      "[INFO] Counterfactual Explanation Found [wachter.py wachter_recourse]\n",
      "[INFO] Counterfactual Explanation Found [wachter.py wachter_recourse]\n",
      "[INFO] Counterfactual Explanation Found [wachter.py wachter_recourse]\n",
      "[INFO] Counterfactual Explanation Found [wachter.py wachter_recourse]\n",
      "[INFO] Counterfactual Explanation Found [wachter.py wachter_recourse]\n",
      "[INFO] Counterfactual Explanation Found [wachter.py wachter_recourse]\n",
      "[INFO] Counterfactual Explanation Found [wachter.py wachter_recourse]\n",
      "[INFO] Counterfactual Explanation Found [wachter.py wachter_recourse]\n",
      "[INFO] Counterfactual Explanation Found [wachter.py wachter_recourse]\n",
      "[INFO] Counterfactual Explanation Found [wachter.py wachter_recourse]\n",
      "[INFO] Counterfactual Explanation Found [wachter.py wachter_recourse]\n",
      "[INFO] Counterfactual Explanation Found [wachter.py wachter_recourse]\n",
      "[INFO] Counterfactual Explanation Found [wachter.py wachter_recourse]\n",
      "[INFO] Counterfactual Explanation Found [wachter.py wachter_recourse]\n",
      "[INFO] Counterfactual Explanation Found [wachter.py wachter_recourse]\n",
      "[INFO] Counterfactual Explanation Found [wachter.py wachter_recourse]\n",
      "[INFO] Counterfactual Explanation Found [wachter.py wachter_recourse]\n",
      "[INFO] Counterfactual Explanation Found [wachter.py wachter_recourse]\n",
      "[INFO] Counterfactual Explanation Found [wachter.py wachter_recourse]\n",
      "[INFO] Counterfactual Explanation Found [wachter.py wachter_recourse]\n",
      "[INFO] Counterfactual Explanation Found [wachter.py wachter_recourse]\n",
      "[INFO] Counterfactual Explanation Found [wachter.py wachter_recourse]\n",
      "[INFO] Counterfactual Explanation Found [wachter.py wachter_recourse]\n",
      "[INFO] Counterfactual Explanation Found [wachter.py wachter_recourse]\n",
      "[INFO] Counterfactual Explanation Found [wachter.py wachter_recourse]\n",
      "[INFO] Counterfactual Explanation Found [wachter.py wachter_recourse]\n",
      "[INFO] Counterfactual Explanation Found [wachter.py wachter_recourse]\n",
      "[INFO] Counterfactual Explanation Found [wachter.py wachter_recourse]\n",
      "[INFO] Counterfactual Explanation Found [wachter.py wachter_recourse]\n",
      "[INFO] Counterfactual Explanation Found [wachter.py wachter_recourse]\n",
      "[INFO] Counterfactual Explanation Found [wachter.py wachter_recourse]\n",
      "[INFO] Counterfactual Explanation Found [wachter.py wachter_recourse]\n",
      "[INFO] Counterfactual Explanation Found [wachter.py wachter_recourse]\n",
      "[INFO] Counterfactual Explanation Found [wachter.py wachter_recourse]\n",
      "[INFO] Counterfactual Explanation Found [wachter.py wachter_recourse]\n",
      "[INFO] Counterfactual Explanation Found [wachter.py wachter_recourse]\n",
      "[INFO] Counterfactual Explanation Found [wachter.py wachter_recourse]\n",
      "[INFO] Counterfactual Explanation Found [wachter.py wachter_recourse]\n",
      "[INFO] Counterfactual Explanation Found [wachter.py wachter_recourse]\n",
      "[INFO] Counterfactual Explanation Found [wachter.py wachter_recourse]\n",
      "[INFO] Counterfactual Explanation Found [wachter.py wachter_recourse]\n",
      "[INFO] Counterfactual Explanation Found [wachter.py wachter_recourse]\n",
      "[INFO] Counterfactual Explanation Found [wachter.py wachter_recourse]\n",
      "[INFO] Counterfactual Explanation Found [wachter.py wachter_recourse]\n",
      "[INFO] Counterfactual Explanation Found [wachter.py wachter_recourse]\n",
      "[INFO] Counterfactual Explanation Found [wachter.py wachter_recourse]\n",
      "[INFO] Counterfactual Explanation Found [wachter.py wachter_recourse]\n",
      "[INFO] Counterfactual Explanation Found [wachter.py wachter_recourse]\n",
      "[INFO] Counterfactual Explanation Found [wachter.py wachter_recourse]\n",
      "[INFO] Counterfactual Explanation Found [wachter.py wachter_recourse]\n",
      "[INFO] Counterfactual Explanation Found [wachter.py wachter_recourse]\n",
      "[INFO] Counterfactual Explanation Found [wachter.py wachter_recourse]\n",
      "[INFO] Counterfactual Explanation Found [wachter.py wachter_recourse]\n",
      "[INFO] Counterfactual Explanation Found [wachter.py wachter_recourse]\n",
      "[INFO] Counterfactual Explanation Found [wachter.py wachter_recourse]\n",
      "[INFO] Counterfactual Explanation Found [wachter.py wachter_recourse]\n",
      "[INFO] Counterfactual Explanation Found [wachter.py wachter_recourse]\n",
      "[INFO] Counterfactual Explanation Found [wachter.py wachter_recourse]\n",
      "[INFO] Counterfactual Explanation Found [wachter.py wachter_recourse]\n",
      "[INFO] Counterfactual Explanation Found [wachter.py wachter_recourse]\n",
      "[INFO] Counterfactual Explanation Found [wachter.py wachter_recourse]\n",
      "[INFO] Counterfactual Explanation Found [wachter.py wachter_recourse]\n",
      "[INFO] Counterfactual Explanation Found [wachter.py wachter_recourse]\n",
      "[INFO] Counterfactual Explanation Found [wachter.py wachter_recourse]\n",
      "[INFO] Counterfactual Explanation Found [wachter.py wachter_recourse]\n",
      "[INFO] Counterfactual Explanation Found [wachter.py wachter_recourse]\n",
      "[INFO] Counterfactual Explanation Found [wachter.py wachter_recourse]\n",
      "[INFO] Counterfactual Explanation Found [wachter.py wachter_recourse]\n",
      "[INFO] Counterfactual Explanation Found [wachter.py wachter_recourse]\n",
      "[INFO] Counterfactual Explanation Found [wachter.py wachter_recourse]\n",
      "[INFO] Counterfactual Explanation Found [wachter.py wachter_recourse]\n",
      "[INFO] Counterfactual Explanation Found [wachter.py wachter_recourse]\n",
      "[INFO] Counterfactual Explanation Found [wachter.py wachter_recourse]\n",
      "[INFO] Counterfactual Explanation Found [wachter.py wachter_recourse]\n",
      "[INFO] Counterfactual Explanation Found [wachter.py wachter_recourse]\n",
      "[INFO] Counterfactual Explanation Found [wachter.py wachter_recourse]\n",
      "[INFO] Counterfactual Explanation Found [wachter.py wachter_recourse]\n",
      "[INFO] Counterfactual Explanation Found [wachter.py wachter_recourse]\n",
      "[INFO] Counterfactual Explanation Found [wachter.py wachter_recourse]\n",
      "[INFO] Counterfactual Explanation Found [wachter.py wachter_recourse]\n",
      "[INFO] Counterfactual Explanation Found [wachter.py wachter_recourse]\n",
      "[INFO] Counterfactual Explanation Found [wachter.py wachter_recourse]\n",
      "[INFO] Counterfactual Explanation Found [wachter.py wachter_recourse]\n",
      "[INFO] Counterfactual Explanation Found [wachter.py wachter_recourse]\n",
      "[INFO] Counterfactual Explanation Found [wachter.py wachter_recourse]\n",
      "[INFO] Counterfactual Explanation Found [wachter.py wachter_recourse]\n",
      "[INFO] Counterfactual Explanation Found [wachter.py wachter_recourse]\n",
      "[INFO] Counterfactual Explanation Found [wachter.py wachter_recourse]\n",
      "[INFO] Counterfactual Explanation Found [wachter.py wachter_recourse]\n",
      "[INFO] Counterfactual Explanation Found [wachter.py wachter_recourse]\n",
      "[INFO] Counterfactual Explanation Found [wachter.py wachter_recourse]\n",
      "[INFO] Counterfactual Explanation Found [wachter.py wachter_recourse]\n",
      "[INFO] Counterfactual Explanation Found [wachter.py wachter_recourse]\n",
      "[INFO] Counterfactual Explanation Found [wachter.py wachter_recourse]\n",
      "[INFO] Counterfactual Explanation Found [wachter.py wachter_recourse]\n",
      "[INFO] Counterfactual Explanation Found [wachter.py wachter_recourse]\n",
      "[INFO] Counterfactual Explanation Found [wachter.py wachter_recourse]\n",
      "[INFO] Counterfactual Explanation Found [wachter.py wachter_recourse]\n",
      "[INFO] Counterfactual Explanation Found [wachter.py wachter_recourse]\n",
      "[INFO] Counterfactual Explanation Found [wachter.py wachter_recourse]\n",
      "[INFO] Counterfactual Explanation Found [wachter.py wachter_recourse]\n",
      "[INFO] Counterfactual Explanation Found [wachter.py wachter_recourse]\n",
      "[INFO] Counterfactual Explanation Found [wachter.py wachter_recourse]\n",
      "[INFO] Counterfactual Explanation Found [wachter.py wachter_recourse]\n",
      "[INFO] Counterfactual Explanation Found [wachter.py wachter_recourse]\n",
      "[INFO] Counterfactual Explanation Found [wachter.py wachter_recourse]\n",
      "[INFO] Counterfactual Explanation Found [wachter.py wachter_recourse]\n",
      "[INFO] Counterfactual Explanation Found [wachter.py wachter_recourse]\n",
      "[INFO] Counterfactual Explanation Found [wachter.py wachter_recourse]\n",
      "[INFO] Counterfactual Explanation Found [wachter.py wachter_recourse]\n",
      "[INFO] Counterfactual Explanation Found [wachter.py wachter_recourse]\n",
      "[INFO] Counterfactual Explanation Found [wachter.py wachter_recourse]\n",
      "[INFO] Counterfactual Explanation Found [wachter.py wachter_recourse]\n",
      "[INFO] Counterfactual Explanation Found [wachter.py wachter_recourse]\n",
      "[INFO] Counterfactual Explanation Found [wachter.py wachter_recourse]\n",
      "[INFO] Counterfactual Explanation Found [wachter.py wachter_recourse]\n",
      "[INFO] Counterfactual Explanation Found [wachter.py wachter_recourse]\n",
      "[INFO] Counterfactual Explanation Found [wachter.py wachter_recourse]\n"
     ]
    },
    {
     "name": "stdout",
     "output_type": "stream",
     "text": [
      "[INFO] Counterfactual Explanation Found [wachter.py wachter_recourse]\n",
      "[INFO] Counterfactual Explanation Found [wachter.py wachter_recourse]\n",
      "[INFO] Counterfactual Explanation Found [wachter.py wachter_recourse]\n",
      "[INFO] Counterfactual Explanation Found [wachter.py wachter_recourse]\n",
      "[INFO] Counterfactual Explanation Found [wachter.py wachter_recourse]\n",
      "[INFO] Counterfactual Explanation Found [wachter.py wachter_recourse]\n",
      "[INFO] Counterfactual Explanation Found [wachter.py wachter_recourse]\n",
      "[INFO] Counterfactual Explanation Found [wachter.py wachter_recourse]\n",
      "[INFO] Counterfactual Explanation Found [wachter.py wachter_recourse]\n",
      "[INFO] Counterfactual Explanation Found [wachter.py wachter_recourse]\n",
      "[INFO] Counterfactual Explanation Found [wachter.py wachter_recourse]\n",
      "[INFO] Counterfactual Explanation Found [wachter.py wachter_recourse]\n",
      "[INFO] Counterfactual Explanation Found [wachter.py wachter_recourse]\n",
      "[INFO] Counterfactual Explanation Found [wachter.py wachter_recourse]\n",
      "[INFO] Counterfactual Explanation Found [wachter.py wachter_recourse]\n",
      "[INFO] Counterfactual Explanation Found [wachter.py wachter_recourse]\n",
      "[INFO] Counterfactual Explanation Found [wachter.py wachter_recourse]\n",
      "[INFO] Counterfactual Explanation Found [wachter.py wachter_recourse]\n",
      "[INFO] Counterfactual Explanation Found [wachter.py wachter_recourse]\n",
      "[INFO] Counterfactual Explanation Found [wachter.py wachter_recourse]\n",
      "[INFO] Counterfactual Explanation Found [wachter.py wachter_recourse]\n",
      "[INFO] Counterfactual Explanation Found [wachter.py wachter_recourse]\n",
      "[INFO] Counterfactual Explanation Found [wachter.py wachter_recourse]\n",
      "[INFO] Counterfactual Explanation Found [wachter.py wachter_recourse]\n",
      "[INFO] Counterfactual Explanation Found [wachter.py wachter_recourse]\n",
      "[INFO] Counterfactual Explanation Found [wachter.py wachter_recourse]\n",
      "[INFO] Counterfactual Explanation Found [wachter.py wachter_recourse]\n",
      "[INFO] Counterfactual Explanation Found [wachter.py wachter_recourse]\n",
      "[INFO] Counterfactual Explanation Found [wachter.py wachter_recourse]\n",
      "[INFO] Counterfactual Explanation Found [wachter.py wachter_recourse]\n",
      "[INFO] Counterfactual Explanation Found [wachter.py wachter_recourse]\n",
      "[INFO] Counterfactual Explanation Found [wachter.py wachter_recourse]\n",
      "[INFO] Counterfactual Explanation Found [wachter.py wachter_recourse]\n",
      "[INFO] Counterfactual Explanation Found [wachter.py wachter_recourse]\n",
      "[INFO] Counterfactual Explanation Found [wachter.py wachter_recourse]\n",
      "[INFO] Counterfactual Explanation Found [wachter.py wachter_recourse]\n",
      "[INFO] Counterfactual Explanation Found [wachter.py wachter_recourse]\n",
      "[INFO] Counterfactual Explanation Found [wachter.py wachter_recourse]\n",
      "[INFO] Counterfactual Explanation Found [wachter.py wachter_recourse]\n",
      "[INFO] Counterfactual Explanation Found [wachter.py wachter_recourse]\n",
      "[INFO] Counterfactual Explanation Found [wachter.py wachter_recourse]\n",
      "[INFO] Counterfactual Explanation Found [wachter.py wachter_recourse]\n",
      "[INFO] Counterfactual Explanation Found [wachter.py wachter_recourse]\n",
      "[INFO] Counterfactual Explanation Found [wachter.py wachter_recourse]\n",
      "[INFO] Counterfactual Explanation Found [wachter.py wachter_recourse]\n",
      "[INFO] Counterfactual Explanation Found [wachter.py wachter_recourse]\n",
      "[INFO] Counterfactual Explanation Found [wachter.py wachter_recourse]\n",
      "[INFO] Counterfactual Explanation Found [wachter.py wachter_recourse]\n",
      "[INFO] Counterfactual Explanation Found [wachter.py wachter_recourse]\n",
      "[INFO] Counterfactual Explanation Found [wachter.py wachter_recourse]\n",
      "[INFO] Counterfactual Explanation Found [wachter.py wachter_recourse]\n",
      "[INFO] Counterfactual Explanation Found [wachter.py wachter_recourse]\n",
      "[INFO] Counterfactual Explanation Found [wachter.py wachter_recourse]\n",
      "[INFO] Counterfactual Explanation Found [wachter.py wachter_recourse]\n",
      "[INFO] Counterfactual Explanation Found [wachter.py wachter_recourse]\n",
      "[INFO] Counterfactual Explanation Found [wachter.py wachter_recourse]\n",
      "[INFO] Counterfactual Explanation Found [wachter.py wachter_recourse]\n",
      "[INFO] Counterfactual Explanation Found [wachter.py wachter_recourse]\n",
      "[INFO] Counterfactual Explanation Found [wachter.py wachter_recourse]\n",
      "[INFO] Counterfactual Explanation Found [wachter.py wachter_recourse]\n",
      "[INFO] Counterfactual Explanation Found [wachter.py wachter_recourse]\n",
      "[INFO] Counterfactual Explanation Found [wachter.py wachter_recourse]\n",
      "[INFO] Counterfactual Explanation Found [wachter.py wachter_recourse]\n",
      "[INFO] Counterfactual Explanation Found [wachter.py wachter_recourse]\n",
      "[INFO] Counterfactual Explanation Found [wachter.py wachter_recourse]\n",
      "[INFO] Counterfactual Explanation Found [wachter.py wachter_recourse]\n",
      "[INFO] Counterfactual Explanation Found [wachter.py wachter_recourse]\n",
      "[INFO] Counterfactual Explanation Found [wachter.py wachter_recourse]\n",
      "[INFO] Counterfactual Explanation Found [wachter.py wachter_recourse]\n",
      "[INFO] Counterfactual Explanation Found [wachter.py wachter_recourse]\n",
      "[INFO] Counterfactual Explanation Found [wachter.py wachter_recourse]\n",
      "[INFO] Counterfactual Explanation Found [wachter.py wachter_recourse]\n",
      "[INFO] Counterfactual Explanation Found [wachter.py wachter_recourse]\n",
      "[INFO] Counterfactual Explanation Found [wachter.py wachter_recourse]\n",
      "[INFO] Counterfactual Explanation Found [wachter.py wachter_recourse]\n",
      "[INFO] Counterfactual Explanation Found [wachter.py wachter_recourse]\n",
      "[INFO] Counterfactual Explanation Found [wachter.py wachter_recourse]\n",
      "[INFO] Counterfactual Explanation Found [wachter.py wachter_recourse]\n",
      "[INFO] Counterfactual Explanation Found [wachter.py wachter_recourse]\n",
      "[INFO] Counterfactual Explanation Found [wachter.py wachter_recourse]\n",
      "[INFO] Counterfactual Explanation Found [wachter.py wachter_recourse]\n",
      "[INFO] Counterfactual Explanation Found [wachter.py wachter_recourse]\n",
      "[INFO] Counterfactual Explanation Found [wachter.py wachter_recourse]\n",
      "[INFO] Counterfactual Explanation Found [wachter.py wachter_recourse]\n",
      "[INFO] Counterfactual Explanation Found [wachter.py wachter_recourse]\n",
      "[INFO] Counterfactual Explanation Found [wachter.py wachter_recourse]\n",
      "[INFO] Counterfactual Explanation Found [wachter.py wachter_recourse]\n",
      "[INFO] Counterfactual Explanation Found [wachter.py wachter_recourse]\n",
      "[INFO] Counterfactual Explanation Found [wachter.py wachter_recourse]\n",
      "[INFO] Counterfactual Explanation Found [wachter.py wachter_recourse]\n",
      "[INFO] Counterfactual Explanation Found [wachter.py wachter_recourse]\n",
      "[INFO] Counterfactual Explanation Found [wachter.py wachter_recourse]\n",
      "[INFO] Counterfactual Explanation Found [wachter.py wachter_recourse]\n",
      "[INFO] Counterfactual Explanation Found [wachter.py wachter_recourse]\n",
      "[INFO] Counterfactual Explanation Found [wachter.py wachter_recourse]\n",
      "[INFO] Counterfactual Explanation Found [wachter.py wachter_recourse]\n",
      "[INFO] Counterfactual Explanation Found [wachter.py wachter_recourse]\n",
      "[INFO] Counterfactual Explanation Found [wachter.py wachter_recourse]\n",
      "[INFO] Counterfactual Explanation Found [wachter.py wachter_recourse]\n",
      "[INFO] Counterfactual Explanation Found [wachter.py wachter_recourse]\n",
      "[INFO] Counterfactual Explanation Found [wachter.py wachter_recourse]\n",
      "[INFO] Counterfactual Explanation Found [wachter.py wachter_recourse]\n",
      "[INFO] Counterfactual Explanation Found [wachter.py wachter_recourse]\n",
      "[INFO] Counterfactual Explanation Found [wachter.py wachter_recourse]\n",
      "[INFO] Counterfactual Explanation Found [wachter.py wachter_recourse]\n",
      "[INFO] Counterfactual Explanation Found [wachter.py wachter_recourse]\n",
      "[INFO] Counterfactual Explanation Found [wachter.py wachter_recourse]\n",
      "[INFO] Counterfactual Explanation Found [wachter.py wachter_recourse]\n",
      "[INFO] Counterfactual Explanation Found [wachter.py wachter_recourse]\n",
      "[INFO] Counterfactual Explanation Found [wachter.py wachter_recourse]\n",
      "[INFO] Counterfactual Explanation Found [wachter.py wachter_recourse]\n",
      "[INFO] Counterfactual Explanation Found [wachter.py wachter_recourse]\n",
      "[INFO] Counterfactual Explanation Found [wachter.py wachter_recourse]\n",
      "[INFO] Counterfactual Explanation Found [wachter.py wachter_recourse]\n",
      "[INFO] Counterfactual Explanation Found [wachter.py wachter_recourse]\n",
      "[INFO] Counterfactual Explanation Found [wachter.py wachter_recourse]\n",
      "[INFO] Counterfactual Explanation Found [wachter.py wachter_recourse]\n",
      "[INFO] Counterfactual Explanation Found [wachter.py wachter_recourse]\n"
     ]
    },
    {
     "name": "stdout",
     "output_type": "stream",
     "text": [
      "[INFO] Counterfactual Explanation Found [wachter.py wachter_recourse]\n",
      "[INFO] Counterfactual Explanation Found [wachter.py wachter_recourse]\n",
      "[INFO] Counterfactual Explanation Found [wachter.py wachter_recourse]\n",
      "[INFO] Counterfactual Explanation Found [wachter.py wachter_recourse]\n",
      "[INFO] Counterfactual Explanation Found [wachter.py wachter_recourse]\n",
      "[INFO] Counterfactual Explanation Found [wachter.py wachter_recourse]\n",
      "[INFO] Counterfactual Explanation Found [wachter.py wachter_recourse]\n",
      "[INFO] Counterfactual Explanation Found [wachter.py wachter_recourse]\n",
      "[INFO] Counterfactual Explanation Found [wachter.py wachter_recourse]\n",
      "[INFO] Counterfactual Explanation Found [wachter.py wachter_recourse]\n",
      "[INFO] Counterfactual Explanation Found [wachter.py wachter_recourse]\n",
      "[INFO] Counterfactual Explanation Found [wachter.py wachter_recourse]\n",
      "[INFO] Counterfactual Explanation Found [wachter.py wachter_recourse]\n",
      "[INFO] Counterfactual Explanation Found [wachter.py wachter_recourse]\n",
      "[INFO] Counterfactual Explanation Found [wachter.py wachter_recourse]\n",
      "[INFO] Counterfactual Explanation Found [wachter.py wachter_recourse]\n",
      "[INFO] Counterfactual Explanation Found [wachter.py wachter_recourse]\n",
      "[INFO] Counterfactual Explanation Found [wachter.py wachter_recourse]\n",
      "[INFO] Counterfactual Explanation Found [wachter.py wachter_recourse]\n",
      "[INFO] Counterfactual Explanation Found [wachter.py wachter_recourse]\n",
      "[INFO] Counterfactual Explanation Found [wachter.py wachter_recourse]\n",
      "[INFO] Counterfactual Explanation Found [wachter.py wachter_recourse]\n",
      "[INFO] Counterfactual Explanation Found [wachter.py wachter_recourse]\n",
      "[INFO] Counterfactual Explanation Found [wachter.py wachter_recourse]\n",
      "[INFO] Counterfactual Explanation Found [wachter.py wachter_recourse]\n",
      "[INFO] Counterfactual Explanation Found [wachter.py wachter_recourse]\n",
      "[INFO] Counterfactual Explanation Found [wachter.py wachter_recourse]\n",
      "[INFO] Counterfactual Explanation Found [wachter.py wachter_recourse]\n",
      "[INFO] Counterfactual Explanation Found [wachter.py wachter_recourse]\n",
      "[INFO] Counterfactual Explanation Found [wachter.py wachter_recourse]\n",
      "[INFO] Counterfactual Explanation Found [wachter.py wachter_recourse]\n",
      "[INFO] Counterfactual Explanation Found [wachter.py wachter_recourse]\n",
      "[INFO] Counterfactual Explanation Found [wachter.py wachter_recourse]\n",
      "[INFO] Counterfactual Explanation Found [wachter.py wachter_recourse]\n",
      "[INFO] Counterfactual Explanation Found [wachter.py wachter_recourse]\n",
      "[INFO] Counterfactual Explanation Found [wachter.py wachter_recourse]\n",
      "[INFO] Counterfactual Explanation Found [wachter.py wachter_recourse]\n",
      "[INFO] Counterfactual Explanation Found [wachter.py wachter_recourse]\n",
      "[INFO] Counterfactual Explanation Found [wachter.py wachter_recourse]\n",
      "[INFO] Counterfactual Explanation Found [wachter.py wachter_recourse]\n",
      "[INFO] Counterfactual Explanation Found [wachter.py wachter_recourse]\n",
      "[INFO] Counterfactual Explanation Found [wachter.py wachter_recourse]\n",
      "[INFO] Counterfactual Explanation Found [wachter.py wachter_recourse]\n",
      "[INFO] Counterfactual Explanation Found [wachter.py wachter_recourse]\n",
      "[INFO] Counterfactual Explanation Found [wachter.py wachter_recourse]\n",
      "[INFO] Counterfactual Explanation Found [wachter.py wachter_recourse]\n",
      "[INFO] Counterfactual Explanation Found [wachter.py wachter_recourse]\n",
      "[INFO] Counterfactual Explanation Found [wachter.py wachter_recourse]\n",
      "[INFO] Counterfactual Explanation Found [wachter.py wachter_recourse]\n",
      "[INFO] Counterfactual Explanation Found [wachter.py wachter_recourse]\n",
      "[INFO] Counterfactual Explanation Found [wachter.py wachter_recourse]\n",
      "[INFO] Counterfactual Explanation Found [wachter.py wachter_recourse]\n",
      "[INFO] Counterfactual Explanation Found [wachter.py wachter_recourse]\n",
      "[INFO] Counterfactual Explanation Found [wachter.py wachter_recourse]\n",
      "[INFO] Counterfactual Explanation Found [wachter.py wachter_recourse]\n",
      "[INFO] Counterfactual Explanation Found [wachter.py wachter_recourse]\n",
      "[INFO] Counterfactual Explanation Found [wachter.py wachter_recourse]\n",
      "[INFO] Counterfactual Explanation Found [wachter.py wachter_recourse]\n",
      "[INFO] Counterfactual Explanation Found [wachter.py wachter_recourse]\n"
     ]
    },
    {
     "data": {
      "image/png": "[encoded data removed]",
      "text/plain": [
       "<Figure size 432x288 with 1 Axes>"
      ]
     },
     "metadata": {},
     "output_type": "display_data"
    },
    {
     "name": "stdout",
     "output_type": "stream",
     "text": [
      "Current Centralization is 0.5\n",
      "Current Atkinson is 0.8235359641207509\n",
      "Current Avg Proxi Index is 0.7355946454690031\n",
      "invalidation is 0.0\n",
      "0.30451324088887305\n",
      "0.28917617954596697\n",
      "0.015337061342906078\n",
      "(295, 4)\n",
      "(295,)\n"
     ]
    }
   ],
   "source": [
    "hyperparams = {\"loss_type\": \"BCE\", \"binary_cat_features\": True}\n",
    "ar_model = Wachter(ml_model, hyperparams)\n",
    "\n",
    "negative_instances = dataset.df_train[ml_model.predict(dataset.df_train)<0.5]\n",
    "negative_instances.to_csv('./balance_data/syn_negative_instances.csv')\n",
    "cf = ar_model.get_counterfactuals(negative_instances)\n",
    "cf.index = negative_instances.index\n",
    "sensitive = \"sex_1\"\n",
    "\n",
    "import matplotlib.pyplot as plt\n",
    "import copy \n",
    "current_population = copy.deepcopy(dataset.df_train)\n",
    "\n",
    "cf = encode_constraint(cf, negative_instances, [sensitive])\n",
    "current_population = copy.deepcopy(dataset.df_train)\n",
    "current_population.loc[negative_instances.index,['x1','x2',sensitive]] = cf[['x1','x2',sensitive]].values\n",
    "current_population = current_population.dropna()\n",
    "plt.scatter(current_population.x1[current_population[sensitive]==1],current_population.x2[current_population[sensitive]==1],label='male')\n",
    "plt.scatter(current_population.x1[current_population[sensitive]==0],current_population.x2[current_population[sensitive]==0],label='female')\n",
    "temp1 = cf['x1'][negative_instances[sensitive]==1]\n",
    "temp2 = cf['x2'][negative_instances[sensitive]==1]\n",
    "# randomization for visual purpose \n",
    "noise = 0\n",
    "plt.scatter(temp1 + np.random.uniform(size=len(temp1)) * noise,\\\n",
    "    temp2 + np.random.uniform(size=len(temp2)) * noise, label = 'recourse male')\n",
    "temp1 = cf['x1'][negative_instances[sensitive]==0]\n",
    "temp2 = cf['x2'][negative_instances[sensitive]==0]\n",
    "plt.scatter(temp1 + np.random.uniform(size=len(temp1)) * noise,\\\n",
    "    temp2 + np.random.uniform(size=len(temp2)) * noise, label = 'recourse female')\n",
    "plt.legend()\n",
    "plt.show()\n",
    "plt.savefig(f'./log/synfig/syn_wachter_after.pdf')\n",
    "plt.close()\n",
    "\n",
    "features = ['x1','x2']\n",
    "pred = (ml_model.predict(current_population) > 0.5).reshape(-1)\n",
    "predprob = (ml_model.predict(current_population)).reshape(-1)\n",
    "c_central, radius = centralization(current_population[sen_feature].values, \\\n",
    "    current_population[features].values, \n",
    "    radius\n",
    "    )\n",
    "print(f'Current Centralization is {c_central}')\n",
    "c_atkinson = atkinson(current_population[sen_feature].values, \\\n",
    "    current_population[features].values, \\\n",
    "    origin_features = dataset.df_train[mutable_feature].values)\n",
    "print(f'Current Atkinson is {c_atkinson}')\n",
    "a = current_population\n",
    "b = dataset.df_train\n",
    "c_ap = avg_proximity2(a[sen_feature].values, \\\n",
    "    a[features].values)\n",
    "print(f'Current Avg Proxi Index is {c_ap}')    \n",
    "\n",
    "inv_rate = invalidation(cf, ml_model)\n",
    "print(f'invalidation is {inv_rate}')\n",
    "rec_cost = recourse_cost(negative_instances, cf)\n",
    "\n",
    "negative_sens = negative_instances[sensitive]\n",
    "rec_fair = fairness_cost(negative_instances, cf, negative_sens)\n",
    "\n",
    "vynn = ynn(dataset.df[cf.columns], cf, ml_model, 5)\n",
    "close = closeness(cf[mutable_feature], dataset.df[dataset.df.y==1][mutable_feature])\n",
    "result = result.append({'metric':'centralization_after', \\\n",
    "    'value': c_central, 'method': 'Watcher'}, ignore_index = True)\n",
    "result = result.append({'metric':'atkinson_after', \\\n",
    "    'value': c_atkinson, 'method': 'Watcher'}, ignore_index = True)\n",
    "result = result.append({'metric':'avgproxi_after', \\\n",
    "    'value': c_ap, 'method': 'Watcher'}, ignore_index = True)\n",
    "\n",
    "result = result.append({'metric':'inv_rate', \\\n",
    "    'value': inv_rate, 'method': 'Watcher'}, ignore_index = True)\n",
    "result = result.append({ 'metric':'recourse_cost', \\\n",
    "    'value': rec_cost,  'method': 'Watcher'}, ignore_index = True)\n",
    "result = result.append({ 'metric':'recourse_faircost', \\\n",
    "    'value': rec_fair,  'method': 'Watcher'}, ignore_index = True) \n",
    "result = result.append({ 'metric':'ynn', \\\n",
    "    'value': vynn,  'method': 'Watcher'}, ignore_index = True)             \n",
    "result.value = result.value.astype(float)"
   ]
  },
  {
   "cell_type": "code",
   "execution_count": 9,
   "id": "6467de95",
   "metadata": {},
   "outputs": [
    {
     "data": {
      "text/html": [
       "<div>\n",
       "<style scoped>\n",
       "    .dataframe tbody tr th:only-of-type {\n",
       "        vertical-align: middle;\n",
       "    }\n",
       "\n",
       "    .dataframe tbody tr th {\n",
       "        vertical-align: top;\n",
       "    }\n",
       "\n",
       "    .dataframe thead th {\n",
       "        text-align: right;\n",
       "    }\n",
       "</style>\n",
       "<table border=\"1\" class=\"dataframe\">\n",
       "  <thead>\n",
       "    <tr style=\"text-align: right;\">\n",
       "      <th></th>\n",
       "      <th>metric</th>\n",
       "      <th>value</th>\n",
       "      <th>method</th>\n",
       "    </tr>\n",
       "  </thead>\n",
       "  <tbody>\n",
       "    <tr>\n",
       "      <th>0</th>\n",
       "      <td>centralization_pre</td>\n",
       "      <td>0.493056</td>\n",
       "      <td>None</td>\n",
       "    </tr>\n",
       "    <tr>\n",
       "      <th>1</th>\n",
       "      <td>atkinson_pre</td>\n",
       "      <td>0.797725</td>\n",
       "      <td>None</td>\n",
       "    </tr>\n",
       "    <tr>\n",
       "      <th>2</th>\n",
       "      <td>avgproxi_pre</td>\n",
       "      <td>0.662624</td>\n",
       "      <td>None</td>\n",
       "    </tr>\n",
       "    <tr>\n",
       "      <th>3</th>\n",
       "      <td>centralization_after</td>\n",
       "      <td>0.500000</td>\n",
       "      <td>Watcher</td>\n",
       "    </tr>\n",
       "    <tr>\n",
       "      <th>4</th>\n",
       "      <td>atkinson_after</td>\n",
       "      <td>0.823536</td>\n",
       "      <td>Watcher</td>\n",
       "    </tr>\n",
       "    <tr>\n",
       "      <th>5</th>\n",
       "      <td>avgproxi_after</td>\n",
       "      <td>0.735595</td>\n",
       "      <td>Watcher</td>\n",
       "    </tr>\n",
       "    <tr>\n",
       "      <th>6</th>\n",
       "      <td>inv_rate</td>\n",
       "      <td>0.000000</td>\n",
       "      <td>Watcher</td>\n",
       "    </tr>\n",
       "    <tr>\n",
       "      <th>7</th>\n",
       "      <td>recourse_cost</td>\n",
       "      <td>0.296403</td>\n",
       "      <td>Watcher</td>\n",
       "    </tr>\n",
       "    <tr>\n",
       "      <th>8</th>\n",
       "      <td>recourse_faircost</td>\n",
       "      <td>0.015337</td>\n",
       "      <td>Watcher</td>\n",
       "    </tr>\n",
       "    <tr>\n",
       "      <th>9</th>\n",
       "      <td>ynn</td>\n",
       "      <td>0.649492</td>\n",
       "      <td>Watcher</td>\n",
       "    </tr>\n",
       "  </tbody>\n",
       "</table>\n",
       "</div>"
      ],
      "text/plain": [
       "                 metric     value   method\n",
       "0    centralization_pre  0.493056     None\n",
       "1          atkinson_pre  0.797725     None\n",
       "2          avgproxi_pre  0.662624     None\n",
       "3  centralization_after  0.500000  Watcher\n",
       "4        atkinson_after  0.823536  Watcher\n",
       "5        avgproxi_after  0.735595  Watcher\n",
       "6              inv_rate  0.000000  Watcher\n",
       "7         recourse_cost  0.296403  Watcher\n",
       "8     recourse_faircost  0.015337  Watcher\n",
       "9                   ynn  0.649492  Watcher"
      ]
     },
     "execution_count": 9,
     "metadata": {},
     "output_type": "execute_result"
    }
   ],
   "source": [
    "result "
   ]
  },
  {
   "cell_type": "markdown",
   "id": "805f1276",
   "metadata": {},
   "source": [
    "# CCHVAE"
   ]
  },
  {
   "cell_type": "code",
   "execution_count": 10,
   "id": "63e423b7",
   "metadata": {},
   "outputs": [
    {
     "name": "stdout",
     "output_type": "stream",
     "text": [
      "[INFO] Start training of Variational Autoencoder... [vae.py fit]\n",
      "[INFO] [Epoch: 0/1000] [objective: 43.370] [vae.py fit]\n",
      "[INFO] [ELBO train: 43.37] [vae.py fit]\n",
      "[INFO] [ELBO train: 40.0] [vae.py fit]\n",
      "[INFO] [ELBO train: 38.26] [vae.py fit]\n",
      "[INFO] [ELBO train: 38.17] [vae.py fit]\n",
      "[INFO] [ELBO train: 38.15] [vae.py fit]\n",
      "[INFO] [ELBO train: 38.1] [vae.py fit]\n",
      "[INFO] [ELBO train: 38.09] [vae.py fit]\n",
      "[INFO] [ELBO train: 38.04] [vae.py fit]\n",
      "[INFO] [ELBO train: 38.0] [vae.py fit]\n",
      "[INFO] [ELBO train: 37.98] [vae.py fit]\n",
      "[INFO] [Epoch: 10/1000] [objective: 37.971] [vae.py fit]\n",
      "[INFO] [ELBO train: 37.97] [vae.py fit]\n",
      "[INFO] [ELBO train: 37.97] [vae.py fit]\n",
      "[INFO] [ELBO train: 38.02] [vae.py fit]\n",
      "[INFO] [ELBO train: 38.05] [vae.py fit]\n",
      "[INFO] [ELBO train: 38.07] [vae.py fit]\n",
      "[INFO] [ELBO train: 38.08] [vae.py fit]\n",
      "[INFO] [ELBO train: 38.15] [vae.py fit]\n",
      "[INFO] [ELBO train: 38.17] [vae.py fit]\n",
      "[INFO] [ELBO train: 38.18] [vae.py fit]\n",
      "[INFO] [ELBO train: 38.21] [vae.py fit]\n",
      "[INFO] [Epoch: 20/1000] [objective: 38.250] [vae.py fit]\n",
      "[INFO] [ELBO train: 38.25] [vae.py fit]\n",
      "[INFO] [ELBO train: 38.28] [vae.py fit]\n",
      "[INFO] [ELBO train: 38.28] [vae.py fit]\n",
      "[INFO] [ELBO train: 38.32] [vae.py fit]\n",
      "[INFO] [ELBO train: 38.36] [vae.py fit]\n",
      "[INFO] [ELBO train: 38.39] [vae.py fit]\n",
      "[INFO] [ELBO train: 38.41] [vae.py fit]\n",
      "[INFO] [ELBO train: 38.4] [vae.py fit]\n",
      "[INFO] [ELBO train: 38.43] [vae.py fit]\n",
      "[INFO] [ELBO train: 38.46] [vae.py fit]\n",
      "[INFO] [Epoch: 30/1000] [objective: 38.486] [vae.py fit]\n",
      "[INFO] [ELBO train: 38.49] [vae.py fit]\n",
      "[INFO] [ELBO train: 38.52] [vae.py fit]\n",
      "[INFO] [ELBO train: 38.58] [vae.py fit]\n",
      "[INFO] [ELBO train: 38.59] [vae.py fit]\n",
      "[INFO] [ELBO train: 38.59] [vae.py fit]\n",
      "[INFO] [ELBO train: 38.61] [vae.py fit]\n",
      "[INFO] [ELBO train: 38.64] [vae.py fit]\n",
      "[INFO] [ELBO train: 38.63] [vae.py fit]\n",
      "[INFO] [ELBO train: 38.68] [vae.py fit]\n",
      "[INFO] [ELBO train: 38.74] [vae.py fit]\n",
      "[INFO] [Epoch: 40/1000] [objective: 38.722] [vae.py fit]\n",
      "[INFO] [ELBO train: 38.72] [vae.py fit]\n",
      "[INFO] [ELBO train: 38.76] [vae.py fit]\n",
      "[INFO] [ELBO train: 38.81] [vae.py fit]\n",
      "[INFO] [ELBO train: 38.77] [vae.py fit]\n",
      "[INFO] [ELBO train: 38.81] [vae.py fit]\n",
      "[INFO] [ELBO train: 38.82] [vae.py fit]\n",
      "[INFO] [ELBO train: 38.79] [vae.py fit]\n",
      "[INFO] [ELBO train: 38.9] [vae.py fit]\n",
      "[INFO] [ELBO train: 38.84] [vae.py fit]\n",
      "[INFO] [ELBO train: 38.83] [vae.py fit]\n",
      "[INFO] [Epoch: 50/1000] [objective: 38.897] [vae.py fit]\n",
      "[INFO] [ELBO train: 38.9] [vae.py fit]\n",
      "[INFO] [ELBO train: 38.88] [vae.py fit]\n",
      "[INFO] [ELBO train: 38.9] [vae.py fit]\n",
      "[INFO] [ELBO train: 38.89] [vae.py fit]\n",
      "[INFO] [ELBO train: 38.89] [vae.py fit]\n",
      "[INFO] [ELBO train: 38.88] [vae.py fit]\n",
      "[INFO] [ELBO train: 38.91] [vae.py fit]\n",
      "[INFO] [ELBO train: 38.97] [vae.py fit]\n",
      "[INFO] [ELBO train: 38.92] [vae.py fit]\n",
      "[INFO] [ELBO train: 38.93] [vae.py fit]\n",
      "[INFO] [Epoch: 60/1000] [objective: 38.993] [vae.py fit]\n",
      "[INFO] [ELBO train: 38.99] [vae.py fit]\n",
      "[INFO] [ELBO train: 38.98] [vae.py fit]\n",
      "[INFO] [ELBO train: 38.96] [vae.py fit]\n",
      "[INFO] [ELBO train: 38.97] [vae.py fit]\n",
      "[INFO] [ELBO train: 38.99] [vae.py fit]\n",
      "[INFO] [ELBO train: 39.04] [vae.py fit]\n",
      "[INFO] [ELBO train: 39.03] [vae.py fit]\n",
      "[INFO] [ELBO train: 39.03] [vae.py fit]\n",
      "[INFO] [ELBO train: 39.11] [vae.py fit]\n",
      "[INFO] [ELBO train: 39.1] [vae.py fit]\n",
      "[INFO] [Epoch: 70/1000] [objective: 39.009] [vae.py fit]\n",
      "[INFO] [ELBO train: 39.01] [vae.py fit]\n",
      "[INFO] [ELBO train: 39.06] [vae.py fit]\n",
      "[INFO] [ELBO train: 39.09] [vae.py fit]\n",
      "[INFO] [ELBO train: 39.03] [vae.py fit]\n",
      "[INFO] [ELBO train: 39.12] [vae.py fit]\n",
      "[INFO] [ELBO train: 39.19] [vae.py fit]\n",
      "[INFO] [ELBO train: 39.11] [vae.py fit]\n",
      "[INFO] [ELBO train: 39.12] [vae.py fit]\n",
      "[INFO] [ELBO train: 39.09] [vae.py fit]\n",
      "[INFO] [ELBO train: 39.12] [vae.py fit]\n",
      "[INFO] [Epoch: 80/1000] [objective: 39.175] [vae.py fit]\n",
      "[INFO] [ELBO train: 39.18] [vae.py fit]\n",
      "[INFO] [ELBO train: 39.19] [vae.py fit]\n",
      "[INFO] [ELBO train: 39.21] [vae.py fit]\n",
      "[INFO] [ELBO train: 39.15] [vae.py fit]\n",
      "[INFO] [ELBO train: 39.2] [vae.py fit]\n",
      "[INFO] [ELBO train: 39.16] [vae.py fit]\n",
      "[INFO] [ELBO train: 39.27] [vae.py fit]\n",
      "[INFO] [ELBO train: 39.14] [vae.py fit]\n",
      "[INFO] [ELBO train: 39.27] [vae.py fit]\n",
      "[INFO] [ELBO train: 39.19] [vae.py fit]\n",
      "[INFO] [Epoch: 90/1000] [objective: 39.271] [vae.py fit]\n",
      "[INFO] [ELBO train: 39.27] [vae.py fit]\n",
      "[INFO] [ELBO train: 39.25] [vae.py fit]\n",
      "[INFO] [ELBO train: 39.3] [vae.py fit]\n",
      "[INFO] [ELBO train: 39.32] [vae.py fit]\n",
      "[INFO] [ELBO train: 39.3] [vae.py fit]\n",
      "[INFO] [ELBO train: 39.32] [vae.py fit]\n",
      "[INFO] [ELBO train: 39.27] [vae.py fit]\n",
      "[INFO] [ELBO train: 39.33] [vae.py fit]\n",
      "[INFO] [ELBO train: 39.36] [vae.py fit]\n",
      "[INFO] [ELBO train: 39.34] [vae.py fit]\n",
      "[INFO] [Epoch: 100/1000] [objective: 39.325] [vae.py fit]\n",
      "[INFO] [ELBO train: 39.32] [vae.py fit]\n",
      "[INFO] [ELBO train: 39.35] [vae.py fit]\n",
      "[INFO] [ELBO train: 39.38] [vae.py fit]\n",
      "[INFO] [ELBO train: 39.33] [vae.py fit]\n",
      "[INFO] [ELBO train: 39.4] [vae.py fit]\n",
      "[INFO] [ELBO train: 39.4] [vae.py fit]\n",
      "[INFO] [ELBO train: 39.41] [vae.py fit]\n",
      "[INFO] [ELBO train: 39.41] [vae.py fit]\n",
      "[INFO] [ELBO train: 39.36] [vae.py fit]\n",
      "[INFO] [ELBO train: 39.42] [vae.py fit]\n",
      "[INFO] [Epoch: 110/1000] [objective: 39.438] [vae.py fit]\n",
      "[INFO] [ELBO train: 39.44] [vae.py fit]\n",
      "[INFO] [ELBO train: 39.51] [vae.py fit]\n",
      "[INFO] [ELBO train: 39.49] [vae.py fit]\n",
      "[INFO] [ELBO train: 39.5] [vae.py fit]\n",
      "[INFO] [ELBO train: 39.53] [vae.py fit]\n",
      "[INFO] [ELBO train: 39.53] [vae.py fit]\n",
      "[INFO] [ELBO train: 39.5] [vae.py fit]\n",
      "[INFO] [ELBO train: 39.54] [vae.py fit]\n",
      "[INFO] [ELBO train: 39.52] [vae.py fit]\n",
      "[INFO] [ELBO train: 39.56] [vae.py fit]\n",
      "[INFO] [Epoch: 120/1000] [objective: 39.542] [vae.py fit]\n",
      "[INFO] [ELBO train: 39.54] [vae.py fit]\n",
      "[INFO] [ELBO train: 39.57] [vae.py fit]\n",
      "[INFO] [ELBO train: 39.56] [vae.py fit]\n",
      "[INFO] [ELBO train: 39.68] [vae.py fit]\n",
      "[INFO] [ELBO train: 39.62] [vae.py fit]\n",
      "[INFO] [ELBO train: 39.64] [vae.py fit]\n",
      "[INFO] [ELBO train: 39.54] [vae.py fit]\n",
      "[INFO] [ELBO train: 39.72] [vae.py fit]\n",
      "[INFO] [ELBO train: 39.66] [vae.py fit]\n",
      "[INFO] [ELBO train: 39.68] [vae.py fit]\n",
      "[INFO] [Epoch: 130/1000] [objective: 39.666] [vae.py fit]\n",
      "[INFO] [ELBO train: 39.67] [vae.py fit]\n",
      "[INFO] [ELBO train: 39.61] [vae.py fit]\n",
      "[INFO] [ELBO train: 39.69] [vae.py fit]\n",
      "[INFO] [ELBO train: 39.74] [vae.py fit]\n",
      "[INFO] [ELBO train: 39.68] [vae.py fit]\n",
      "[INFO] [ELBO train: 39.75] [vae.py fit]\n",
      "[INFO] [ELBO train: 39.7] [vae.py fit]\n",
      "[INFO] [ELBO train: 39.87] [vae.py fit]\n",
      "[INFO] [ELBO train: 39.87] [vae.py fit]\n",
      "[INFO] [ELBO train: 39.76] [vae.py fit]\n",
      "[INFO] [Epoch: 140/1000] [objective: 39.744] [vae.py fit]\n",
      "[INFO] [ELBO train: 39.74] [vae.py fit]\n",
      "[INFO] [ELBO train: 39.76] [vae.py fit]\n",
      "[INFO] [ELBO train: 39.76] [vae.py fit]\n",
      "[INFO] [ELBO train: 39.74] [vae.py fit]\n",
      "[INFO] [ELBO train: 39.79] [vae.py fit]\n",
      "[INFO] [ELBO train: 39.76] [vae.py fit]\n",
      "[INFO] [ELBO train: 39.81] [vae.py fit]\n",
      "[INFO] [ELBO train: 39.83] [vae.py fit]\n",
      "[INFO] [ELBO train: 39.88] [vae.py fit]\n",
      "[INFO] [ELBO train: 39.81] [vae.py fit]\n",
      "[INFO] [Epoch: 150/1000] [objective: 39.813] [vae.py fit]\n",
      "[INFO] [ELBO train: 39.81] [vae.py fit]\n",
      "[INFO] [ELBO train: 39.9] [vae.py fit]\n",
      "[INFO] [ELBO train: 39.9] [vae.py fit]\n",
      "[INFO] [ELBO train: 39.95] [vae.py fit]\n",
      "[INFO] [ELBO train: 39.83] [vae.py fit]\n",
      "[INFO] [ELBO train: 39.79] [vae.py fit]\n",
      "[INFO] [ELBO train: 39.89] [vae.py fit]\n",
      "[INFO] [ELBO train: 39.87] [vae.py fit]\n",
      "[INFO] [ELBO train: 40.0] [vae.py fit]\n",
      "[INFO] [ELBO train: 39.86] [vae.py fit]\n",
      "[INFO] [Epoch: 160/1000] [objective: 39.912] [vae.py fit]\n",
      "[INFO] [ELBO train: 39.91] [vae.py fit]\n",
      "[INFO] [ELBO train: 39.83] [vae.py fit]\n",
      "[INFO] [ELBO train: 39.87] [vae.py fit]\n",
      "[INFO] [ELBO train: 39.95] [vae.py fit]\n",
      "[INFO] [ELBO train: 40.03] [vae.py fit]\n",
      "[INFO] [ELBO train: 40.06] [vae.py fit]\n",
      "[INFO] [ELBO train: 39.94] [vae.py fit]\n",
      "[INFO] [ELBO train: 39.98] [vae.py fit]\n",
      "[INFO] [ELBO train: 40.04] [vae.py fit]\n",
      "[INFO] [ELBO train: 40.0] [vae.py fit]\n",
      "[INFO] [Epoch: 170/1000] [objective: 40.147] [vae.py fit]\n",
      "[INFO] [ELBO train: 40.15] [vae.py fit]\n",
      "[INFO] [ELBO train: 40.18] [vae.py fit]\n",
      "[INFO] [ELBO train: 40.01] [vae.py fit]\n",
      "[INFO] [ELBO train: 40.09] [vae.py fit]\n",
      "[INFO] [ELBO train: 40.05] [vae.py fit]\n",
      "[INFO] [ELBO train: 40.04] [vae.py fit]\n",
      "[INFO] [ELBO train: 39.98] [vae.py fit]\n",
      "[INFO] [ELBO train: 40.07] [vae.py fit]\n"
     ]
    },
    {
     "name": "stdout",
     "output_type": "stream",
     "text": [
      "[INFO] [ELBO train: 40.07] [vae.py fit]\n",
      "[INFO] [ELBO train: 40.12] [vae.py fit]\n",
      "[INFO] [Epoch: 180/1000] [objective: 40.046] [vae.py fit]\n",
      "[INFO] [ELBO train: 40.05] [vae.py fit]\n",
      "[INFO] [ELBO train: 40.04] [vae.py fit]\n",
      "[INFO] [ELBO train: 40.18] [vae.py fit]\n",
      "[INFO] [ELBO train: 39.98] [vae.py fit]\n",
      "[INFO] [ELBO train: 40.13] [vae.py fit]\n",
      "[INFO] [ELBO train: 40.03] [vae.py fit]\n",
      "[INFO] [ELBO train: 40.1] [vae.py fit]\n",
      "[INFO] [ELBO train: 40.16] [vae.py fit]\n",
      "[INFO] [ELBO train: 40.02] [vae.py fit]\n",
      "[INFO] [ELBO train: 40.2] [vae.py fit]\n",
      "[INFO] [Epoch: 190/1000] [objective: 40.185] [vae.py fit]\n",
      "[INFO] [ELBO train: 40.19] [vae.py fit]\n",
      "[INFO] [ELBO train: 40.23] [vae.py fit]\n",
      "[INFO] [ELBO train: 40.3] [vae.py fit]\n",
      "[INFO] [ELBO train: 40.15] [vae.py fit]\n",
      "[INFO] [ELBO train: 40.27] [vae.py fit]\n",
      "[INFO] [ELBO train: 40.28] [vae.py fit]\n",
      "[INFO] [ELBO train: 40.14] [vae.py fit]\n",
      "[INFO] [ELBO train: 40.25] [vae.py fit]\n",
      "[INFO] [ELBO train: 40.18] [vae.py fit]\n",
      "[INFO] [ELBO train: 40.26] [vae.py fit]\n",
      "[INFO] [Epoch: 200/1000] [objective: 40.264] [vae.py fit]\n",
      "[INFO] [ELBO train: 40.26] [vae.py fit]\n",
      "[INFO] [ELBO train: 40.29] [vae.py fit]\n",
      "[INFO] [ELBO train: 40.26] [vae.py fit]\n",
      "[INFO] [ELBO train: 40.33] [vae.py fit]\n",
      "[INFO] [ELBO train: 40.2] [vae.py fit]\n",
      "[INFO] [ELBO train: 40.3] [vae.py fit]\n",
      "[INFO] [ELBO train: 40.24] [vae.py fit]\n",
      "[INFO] [ELBO train: 40.29] [vae.py fit]\n",
      "[INFO] [ELBO train: 40.35] [vae.py fit]\n",
      "[INFO] [ELBO train: 40.32] [vae.py fit]\n",
      "[INFO] [Epoch: 210/1000] [objective: 40.462] [vae.py fit]\n",
      "[INFO] [ELBO train: 40.46] [vae.py fit]\n",
      "[INFO] [ELBO train: 40.32] [vae.py fit]\n",
      "[INFO] [ELBO train: 40.22] [vae.py fit]\n",
      "[INFO] [ELBO train: 40.32] [vae.py fit]\n",
      "[INFO] [ELBO train: 40.41] [vae.py fit]\n",
      "[INFO] [ELBO train: 40.43] [vae.py fit]\n",
      "[INFO] [ELBO train: 40.23] [vae.py fit]\n",
      "[INFO] [ELBO train: 40.48] [vae.py fit]\n",
      "[INFO] [ELBO train: 40.39] [vae.py fit]\n",
      "[INFO] [ELBO train: 40.49] [vae.py fit]\n",
      "[INFO] [Epoch: 220/1000] [objective: 40.369] [vae.py fit]\n",
      "[INFO] [ELBO train: 40.37] [vae.py fit]\n",
      "[INFO] [ELBO train: 40.48] [vae.py fit]\n",
      "[INFO] [ELBO train: 40.43] [vae.py fit]\n",
      "[INFO] [ELBO train: 40.36] [vae.py fit]\n",
      "[INFO] [ELBO train: 40.53] [vae.py fit]\n",
      "[INFO] [ELBO train: 40.46] [vae.py fit]\n",
      "[INFO] [ELBO train: 40.43] [vae.py fit]\n",
      "[INFO] [ELBO train: 40.41] [vae.py fit]\n",
      "[INFO] [ELBO train: 40.42] [vae.py fit]\n",
      "[INFO] [ELBO train: 40.58] [vae.py fit]\n",
      "[INFO] [Epoch: 230/1000] [objective: 40.494] [vae.py fit]\n",
      "[INFO] [ELBO train: 40.49] [vae.py fit]\n",
      "[INFO] [ELBO train: 40.65] [vae.py fit]\n",
      "[INFO] [ELBO train: 40.54] [vae.py fit]\n",
      "[INFO] [ELBO train: 40.47] [vae.py fit]\n",
      "[INFO] [ELBO train: 40.58] [vae.py fit]\n",
      "[INFO] [ELBO train: 40.52] [vae.py fit]\n",
      "[INFO] [ELBO train: 40.51] [vae.py fit]\n",
      "[INFO] [ELBO train: 40.63] [vae.py fit]\n",
      "[INFO] [ELBO train: 40.42] [vae.py fit]\n",
      "[INFO] [ELBO train: 40.71] [vae.py fit]\n",
      "[INFO] [Epoch: 240/1000] [objective: 40.737] [vae.py fit]\n",
      "[INFO] [ELBO train: 40.74] [vae.py fit]\n",
      "[INFO] [ELBO train: 40.43] [vae.py fit]\n",
      "[INFO] [ELBO train: 40.74] [vae.py fit]\n",
      "[INFO] [ELBO train: 40.5] [vae.py fit]\n",
      "[INFO] [ELBO train: 40.76] [vae.py fit]\n",
      "[INFO] [ELBO train: 40.66] [vae.py fit]\n",
      "[INFO] [ELBO train: 40.52] [vae.py fit]\n",
      "[INFO] [ELBO train: 40.51] [vae.py fit]\n",
      "[INFO] [ELBO train: 40.55] [vae.py fit]\n",
      "[INFO] [ELBO train: 40.6] [vae.py fit]\n",
      "[INFO] [Epoch: 250/1000] [objective: 40.683] [vae.py fit]\n",
      "[INFO] [ELBO train: 40.68] [vae.py fit]\n",
      "[INFO] [ELBO train: 40.73] [vae.py fit]\n",
      "[INFO] [ELBO train: 40.72] [vae.py fit]\n",
      "[INFO] [ELBO train: 40.78] [vae.py fit]\n",
      "[INFO] [ELBO train: 40.69] [vae.py fit]\n",
      "[INFO] [ELBO train: 40.69] [vae.py fit]\n",
      "[INFO] [ELBO train: 40.7] [vae.py fit]\n",
      "[INFO] [ELBO train: 40.7] [vae.py fit]\n",
      "[INFO] [ELBO train: 40.51] [vae.py fit]\n",
      "[INFO] [ELBO train: 40.7] [vae.py fit]\n",
      "[INFO] [Epoch: 260/1000] [objective: 40.703] [vae.py fit]\n",
      "[INFO] [ELBO train: 40.7] [vae.py fit]\n",
      "[INFO] [ELBO train: 40.68] [vae.py fit]\n",
      "[INFO] [ELBO train: 40.73] [vae.py fit]\n",
      "[INFO] [ELBO train: 40.75] [vae.py fit]\n",
      "[INFO] [ELBO train: 40.6] [vae.py fit]\n",
      "[INFO] [ELBO train: 40.67] [vae.py fit]\n",
      "[INFO] [ELBO train: 40.72] [vae.py fit]\n",
      "[INFO] [ELBO train: 40.77] [vae.py fit]\n",
      "[INFO] [ELBO train: 40.66] [vae.py fit]\n",
      "[INFO] [ELBO train: 40.73] [vae.py fit]\n",
      "[INFO] [Epoch: 270/1000] [objective: 40.915] [vae.py fit]\n",
      "[INFO] [ELBO train: 40.91] [vae.py fit]\n",
      "[INFO] [ELBO train: 40.66] [vae.py fit]\n",
      "[INFO] [ELBO train: 40.75] [vae.py fit]\n",
      "[INFO] [ELBO train: 40.83] [vae.py fit]\n",
      "[INFO] [ELBO train: 40.84] [vae.py fit]\n",
      "[INFO] [ELBO train: 40.77] [vae.py fit]\n",
      "[INFO] [ELBO train: 40.79] [vae.py fit]\n",
      "[INFO] [ELBO train: 40.81] [vae.py fit]\n",
      "[INFO] [ELBO train: 40.8] [vae.py fit]\n",
      "[INFO] [ELBO train: 40.91] [vae.py fit]\n",
      "[INFO] [Epoch: 280/1000] [objective: 40.983] [vae.py fit]\n",
      "[INFO] [ELBO train: 40.98] [vae.py fit]\n",
      "[INFO] [ELBO train: 40.85] [vae.py fit]\n",
      "[INFO] [ELBO train: 40.91] [vae.py fit]\n",
      "[INFO] [ELBO train: 40.93] [vae.py fit]\n",
      "[INFO] [ELBO train: 40.97] [vae.py fit]\n",
      "[INFO] [ELBO train: 40.86] [vae.py fit]\n",
      "[INFO] [ELBO train: 40.85] [vae.py fit]\n",
      "[INFO] [ELBO train: 40.85] [vae.py fit]\n",
      "[INFO] [ELBO train: 40.91] [vae.py fit]\n",
      "[INFO] [ELBO train: 40.9] [vae.py fit]\n",
      "[INFO] [Epoch: 290/1000] [objective: 40.936] [vae.py fit]\n",
      "[INFO] [ELBO train: 40.94] [vae.py fit]\n",
      "[INFO] [ELBO train: 40.99] [vae.py fit]\n",
      "[INFO] [ELBO train: 41.02] [vae.py fit]\n",
      "[INFO] [ELBO train: 40.9] [vae.py fit]\n",
      "[INFO] [ELBO train: 41.03] [vae.py fit]\n",
      "[INFO] [ELBO train: 40.92] [vae.py fit]\n",
      "[INFO] [ELBO train: 41.07] [vae.py fit]\n",
      "[INFO] [ELBO train: 40.88] [vae.py fit]\n",
      "[INFO] [ELBO train: 41.13] [vae.py fit]\n",
      "[INFO] [ELBO train: 40.95] [vae.py fit]\n",
      "[INFO] [Epoch: 300/1000] [objective: 40.923] [vae.py fit]\n",
      "[INFO] [ELBO train: 40.92] [vae.py fit]\n",
      "[INFO] [ELBO train: 41.12] [vae.py fit]\n",
      "[INFO] [ELBO train: 41.06] [vae.py fit]\n",
      "[INFO] [ELBO train: 41.17] [vae.py fit]\n",
      "[INFO] [ELBO train: 41.0] [vae.py fit]\n",
      "[INFO] [ELBO train: 40.84] [vae.py fit]\n",
      "[INFO] [ELBO train: 41.01] [vae.py fit]\n",
      "[INFO] [ELBO train: 40.9] [vae.py fit]\n",
      "[INFO] [ELBO train: 41.08] [vae.py fit]\n",
      "[INFO] [ELBO train: 41.12] [vae.py fit]\n",
      "[INFO] [Epoch: 310/1000] [objective: 40.935] [vae.py fit]\n",
      "[INFO] [ELBO train: 40.93] [vae.py fit]\n",
      "[INFO] [ELBO train: 41.04] [vae.py fit]\n",
      "[INFO] [ELBO train: 40.94] [vae.py fit]\n",
      "[INFO] [ELBO train: 41.12] [vae.py fit]\n",
      "[INFO] [ELBO train: 40.92] [vae.py fit]\n",
      "[INFO] [ELBO train: 40.99] [vae.py fit]\n",
      "[INFO] [ELBO train: 41.27] [vae.py fit]\n",
      "[INFO] [ELBO train: 40.87] [vae.py fit]\n",
      "[INFO] [ELBO train: 41.11] [vae.py fit]\n",
      "[INFO] [ELBO train: 41.12] [vae.py fit]\n",
      "[INFO] [Epoch: 320/1000] [objective: 41.131] [vae.py fit]\n",
      "[INFO] [ELBO train: 41.13] [vae.py fit]\n",
      "[INFO] [ELBO train: 41.17] [vae.py fit]\n",
      "[INFO] [ELBO train: 41.07] [vae.py fit]\n",
      "[INFO] [ELBO train: 41.17] [vae.py fit]\n",
      "[INFO] [ELBO train: 41.07] [vae.py fit]\n",
      "[INFO] [ELBO train: 41.18] [vae.py fit]\n",
      "[INFO] [ELBO train: 41.04] [vae.py fit]\n",
      "[INFO] [ELBO train: 41.26] [vae.py fit]\n",
      "[INFO] [ELBO train: 41.25] [vae.py fit]\n",
      "[INFO] [ELBO train: 41.28] [vae.py fit]\n",
      "[INFO] [Epoch: 330/1000] [objective: 41.271] [vae.py fit]\n",
      "[INFO] [ELBO train: 41.27] [vae.py fit]\n",
      "[INFO] [ELBO train: 41.17] [vae.py fit]\n",
      "[INFO] [ELBO train: 41.15] [vae.py fit]\n",
      "[INFO] [ELBO train: 41.27] [vae.py fit]\n",
      "[INFO] [ELBO train: 41.28] [vae.py fit]\n",
      "[INFO] [ELBO train: 41.11] [vae.py fit]\n",
      "[INFO] [ELBO train: 41.39] [vae.py fit]\n",
      "[INFO] [ELBO train: 41.28] [vae.py fit]\n",
      "[INFO] [ELBO train: 41.1] [vae.py fit]\n",
      "[INFO] [ELBO train: 41.13] [vae.py fit]\n",
      "[INFO] [Epoch: 340/1000] [objective: 41.236] [vae.py fit]\n",
      "[INFO] [ELBO train: 41.24] [vae.py fit]\n",
      "[INFO] [ELBO train: 41.37] [vae.py fit]\n",
      "[INFO] [ELBO train: 41.17] [vae.py fit]\n",
      "[INFO] [ELBO train: 41.29] [vae.py fit]\n",
      "[INFO] [ELBO train: 41.26] [vae.py fit]\n",
      "[INFO] [ELBO train: 41.24] [vae.py fit]\n",
      "[INFO] [ELBO train: 41.31] [vae.py fit]\n",
      "[INFO] [ELBO train: 41.18] [vae.py fit]\n",
      "[INFO] [ELBO train: 41.41] [vae.py fit]\n",
      "[INFO] [ELBO train: 41.22] [vae.py fit]\n",
      "[INFO] [Epoch: 350/1000] [objective: 41.321] [vae.py fit]\n",
      "[INFO] [ELBO train: 41.32] [vae.py fit]\n",
      "[INFO] [ELBO train: 41.43] [vae.py fit]\n",
      "[INFO] [ELBO train: 41.36] [vae.py fit]\n",
      "[INFO] [ELBO train: 41.15] [vae.py fit]\n",
      "[INFO] [ELBO train: 41.28] [vae.py fit]\n",
      "[INFO] [ELBO train: 41.34] [vae.py fit]\n",
      "[INFO] [ELBO train: 41.06] [vae.py fit]\n",
      "[INFO] [ELBO train: 41.43] [vae.py fit]\n"
     ]
    },
    {
     "name": "stdout",
     "output_type": "stream",
     "text": [
      "[INFO] [ELBO train: 41.38] [vae.py fit]\n",
      "[INFO] [ELBO train: 41.32] [vae.py fit]\n",
      "[INFO] [Epoch: 360/1000] [objective: 41.058] [vae.py fit]\n",
      "[INFO] [ELBO train: 41.06] [vae.py fit]\n",
      "[INFO] [ELBO train: 41.12] [vae.py fit]\n",
      "[INFO] [ELBO train: 41.49] [vae.py fit]\n",
      "[INFO] [ELBO train: 41.32] [vae.py fit]\n",
      "[INFO] [ELBO train: 41.39] [vae.py fit]\n",
      "[INFO] [ELBO train: 41.47] [vae.py fit]\n",
      "[INFO] [ELBO train: 41.55] [vae.py fit]\n",
      "[INFO] [ELBO train: 41.26] [vae.py fit]\n",
      "[INFO] [ELBO train: 41.47] [vae.py fit]\n",
      "[INFO] [ELBO train: 41.47] [vae.py fit]\n",
      "[INFO] [Epoch: 370/1000] [objective: 41.345] [vae.py fit]\n",
      "[INFO] [ELBO train: 41.35] [vae.py fit]\n",
      "[INFO] [ELBO train: 41.3] [vae.py fit]\n",
      "[INFO] [ELBO train: 41.34] [vae.py fit]\n",
      "[INFO] [ELBO train: 41.55] [vae.py fit]\n",
      "[INFO] [ELBO train: 41.48] [vae.py fit]\n",
      "[INFO] [ELBO train: 41.44] [vae.py fit]\n",
      "[INFO] [ELBO train: 41.45] [vae.py fit]\n",
      "[INFO] [ELBO train: 41.5] [vae.py fit]\n",
      "[INFO] [ELBO train: 41.52] [vae.py fit]\n",
      "[INFO] [ELBO train: 41.35] [vae.py fit]\n",
      "[INFO] [Epoch: 380/1000] [objective: 41.340] [vae.py fit]\n",
      "[INFO] [ELBO train: 41.34] [vae.py fit]\n",
      "[INFO] [ELBO train: 41.36] [vae.py fit]\n",
      "[INFO] [ELBO train: 41.68] [vae.py fit]\n",
      "[INFO] [ELBO train: 41.35] [vae.py fit]\n",
      "[INFO] [ELBO train: 41.52] [vae.py fit]\n",
      "[INFO] [ELBO train: 41.46] [vae.py fit]\n",
      "[INFO] [ELBO train: 41.58] [vae.py fit]\n",
      "[INFO] [ELBO train: 41.55] [vae.py fit]\n",
      "[INFO] [ELBO train: 41.5] [vae.py fit]\n",
      "[INFO] [ELBO train: 41.37] [vae.py fit]\n",
      "[INFO] [Epoch: 390/1000] [objective: 41.576] [vae.py fit]\n",
      "[INFO] [ELBO train: 41.58] [vae.py fit]\n",
      "[INFO] [ELBO train: 41.69] [vae.py fit]\n",
      "[INFO] [ELBO train: 41.53] [vae.py fit]\n",
      "[INFO] [ELBO train: 41.59] [vae.py fit]\n",
      "[INFO] [ELBO train: 41.52] [vae.py fit]\n",
      "[INFO] [ELBO train: 41.54] [vae.py fit]\n",
      "[INFO] [ELBO train: 41.54] [vae.py fit]\n",
      "[INFO] [ELBO train: 41.51] [vae.py fit]\n",
      "[INFO] [ELBO train: 41.56] [vae.py fit]\n",
      "[INFO] [ELBO train: 41.61] [vae.py fit]\n",
      "[INFO] [Epoch: 400/1000] [objective: 41.707] [vae.py fit]\n",
      "[INFO] [ELBO train: 41.71] [vae.py fit]\n",
      "[INFO] [ELBO train: 41.56] [vae.py fit]\n",
      "[INFO] [ELBO train: 41.41] [vae.py fit]\n",
      "[INFO] [ELBO train: 41.73] [vae.py fit]\n",
      "[INFO] [ELBO train: 41.38] [vae.py fit]\n",
      "[INFO] [ELBO train: 41.68] [vae.py fit]\n",
      "[INFO] [ELBO train: 41.45] [vae.py fit]\n",
      "[INFO] [ELBO train: 41.72] [vae.py fit]\n",
      "[INFO] [ELBO train: 41.57] [vae.py fit]\n",
      "[INFO] [ELBO train: 41.9] [vae.py fit]\n",
      "[INFO] [Epoch: 410/1000] [objective: 41.543] [vae.py fit]\n",
      "[INFO] [ELBO train: 41.54] [vae.py fit]\n",
      "[INFO] [ELBO train: 41.64] [vae.py fit]\n",
      "[INFO] [ELBO train: 41.74] [vae.py fit]\n",
      "[INFO] [ELBO train: 41.67] [vae.py fit]\n",
      "[INFO] [ELBO train: 41.76] [vae.py fit]\n",
      "[INFO] [ELBO train: 41.65] [vae.py fit]\n",
      "[INFO] [ELBO train: 41.57] [vae.py fit]\n",
      "[INFO] [ELBO train: 41.69] [vae.py fit]\n",
      "[INFO] [ELBO train: 41.48] [vae.py fit]\n",
      "[INFO] [ELBO train: 41.6] [vae.py fit]\n",
      "[INFO] [Epoch: 420/1000] [objective: 41.667] [vae.py fit]\n",
      "[INFO] [ELBO train: 41.67] [vae.py fit]\n",
      "[INFO] [ELBO train: 41.64] [vae.py fit]\n",
      "[INFO] [ELBO train: 41.66] [vae.py fit]\n",
      "[INFO] [ELBO train: 41.5] [vae.py fit]\n",
      "[INFO] [ELBO train: 41.52] [vae.py fit]\n",
      "[INFO] [ELBO train: 41.54] [vae.py fit]\n",
      "[INFO] [ELBO train: 41.73] [vae.py fit]\n",
      "[INFO] [ELBO train: 41.66] [vae.py fit]\n",
      "[INFO] [ELBO train: 41.58] [vae.py fit]\n",
      "[INFO] [ELBO train: 41.64] [vae.py fit]\n",
      "[INFO] [Epoch: 430/1000] [objective: 41.911] [vae.py fit]\n",
      "[INFO] [ELBO train: 41.91] [vae.py fit]\n",
      "[INFO] [ELBO train: 41.72] [vae.py fit]\n",
      "[INFO] [ELBO train: 41.84] [vae.py fit]\n",
      "[INFO] [ELBO train: 41.57] [vae.py fit]\n",
      "[INFO] [ELBO train: 41.84] [vae.py fit]\n",
      "[INFO] [ELBO train: 41.68] [vae.py fit]\n",
      "[INFO] [ELBO train: 41.7] [vae.py fit]\n",
      "[INFO] [ELBO train: 41.69] [vae.py fit]\n",
      "[INFO] [ELBO train: 41.71] [vae.py fit]\n",
      "[INFO] [ELBO train: 41.59] [vae.py fit]\n",
      "[INFO] [Epoch: 440/1000] [objective: 41.582] [vae.py fit]\n",
      "[INFO] [ELBO train: 41.58] [vae.py fit]\n",
      "[INFO] [ELBO train: 41.78] [vae.py fit]\n",
      "[INFO] [ELBO train: 41.87] [vae.py fit]\n",
      "[INFO] [ELBO train: 41.79] [vae.py fit]\n",
      "[INFO] [ELBO train: 41.83] [vae.py fit]\n",
      "[INFO] [ELBO train: 41.76] [vae.py fit]\n",
      "[INFO] [ELBO train: 41.71] [vae.py fit]\n",
      "[INFO] [ELBO train: 41.99] [vae.py fit]\n",
      "[INFO] [ELBO train: 41.85] [vae.py fit]\n",
      "[INFO] [ELBO train: 41.77] [vae.py fit]\n",
      "[INFO] [Epoch: 450/1000] [objective: 41.905] [vae.py fit]\n",
      "[INFO] [ELBO train: 41.91] [vae.py fit]\n",
      "[INFO] [ELBO train: 41.84] [vae.py fit]\n",
      "[INFO] [ELBO train: 41.9] [vae.py fit]\n",
      "[INFO] [ELBO train: 41.78] [vae.py fit]\n",
      "[INFO] [ELBO train: 41.93] [vae.py fit]\n",
      "[INFO] [ELBO train: 41.89] [vae.py fit]\n",
      "[INFO] [ELBO train: 42.03] [vae.py fit]\n",
      "[INFO] [ELBO train: 41.83] [vae.py fit]\n",
      "[INFO] [ELBO train: 41.84] [vae.py fit]\n",
      "[INFO] [ELBO train: 41.63] [vae.py fit]\n",
      "[INFO] [Epoch: 460/1000] [objective: 41.836] [vae.py fit]\n",
      "[INFO] [ELBO train: 41.84] [vae.py fit]\n",
      "[INFO] [ELBO train: 41.98] [vae.py fit]\n",
      "[INFO] [ELBO train: 41.98] [vae.py fit]\n",
      "[INFO] [ELBO train: 42.01] [vae.py fit]\n",
      "[INFO] [ELBO train: 41.88] [vae.py fit]\n",
      "[INFO] [ELBO train: 41.9] [vae.py fit]\n",
      "[INFO] [ELBO train: 41.98] [vae.py fit]\n",
      "[INFO] [ELBO train: 41.88] [vae.py fit]\n",
      "[INFO] [ELBO train: 41.8] [vae.py fit]\n",
      "[INFO] [ELBO train: 41.79] [vae.py fit]\n",
      "[INFO] [Epoch: 470/1000] [objective: 41.881] [vae.py fit]\n",
      "[INFO] [ELBO train: 41.88] [vae.py fit]\n",
      "[INFO] [ELBO train: 42.07] [vae.py fit]\n",
      "[INFO] [ELBO train: 41.94] [vae.py fit]\n",
      "[INFO] [ELBO train: 41.93] [vae.py fit]\n",
      "[INFO] [ELBO train: 42.06] [vae.py fit]\n",
      "[INFO] [ELBO train: 42.03] [vae.py fit]\n",
      "[INFO] [ELBO train: 41.98] [vae.py fit]\n",
      "[INFO] [ELBO train: 41.9] [vae.py fit]\n",
      "[INFO] [ELBO train: 41.95] [vae.py fit]\n",
      "[INFO] [ELBO train: 42.27] [vae.py fit]\n",
      "[INFO] [Epoch: 480/1000] [objective: 41.910] [vae.py fit]\n",
      "[INFO] [ELBO train: 41.91] [vae.py fit]\n",
      "[INFO] [ELBO train: 41.8] [vae.py fit]\n",
      "[INFO] [ELBO train: 42.16] [vae.py fit]\n",
      "[INFO] [ELBO train: 41.92] [vae.py fit]\n",
      "[INFO] [ELBO train: 41.99] [vae.py fit]\n",
      "[INFO] [ELBO train: 42.04] [vae.py fit]\n",
      "[INFO] [ELBO train: 41.99] [vae.py fit]\n",
      "[INFO] [ELBO train: 41.98] [vae.py fit]\n",
      "[INFO] [ELBO train: 42.03] [vae.py fit]\n",
      "[INFO] [ELBO train: 41.9] [vae.py fit]\n",
      "[INFO] [Epoch: 490/1000] [objective: 41.922] [vae.py fit]\n",
      "[INFO] [ELBO train: 41.92] [vae.py fit]\n",
      "[INFO] [ELBO train: 42.07] [vae.py fit]\n",
      "[INFO] [ELBO train: 42.33] [vae.py fit]\n",
      "[INFO] [ELBO train: 41.97] [vae.py fit]\n",
      "[INFO] [ELBO train: 42.04] [vae.py fit]\n",
      "[INFO] [ELBO train: 42.0] [vae.py fit]\n",
      "[INFO] [ELBO train: 41.96] [vae.py fit]\n",
      "[INFO] [ELBO train: 42.16] [vae.py fit]\n",
      "[INFO] [ELBO train: 42.03] [vae.py fit]\n",
      "[INFO] [ELBO train: 42.0] [vae.py fit]\n",
      "[INFO] [Epoch: 500/1000] [objective: 42.025] [vae.py fit]\n",
      "[INFO] [ELBO train: 42.02] [vae.py fit]\n",
      "[INFO] [ELBO train: 42.0] [vae.py fit]\n",
      "[INFO] [ELBO train: 42.13] [vae.py fit]\n",
      "[INFO] [ELBO train: 42.3] [vae.py fit]\n",
      "[INFO] [ELBO train: 42.14] [vae.py fit]\n",
      "[INFO] [ELBO train: 42.22] [vae.py fit]\n",
      "[INFO] [ELBO train: 41.92] [vae.py fit]\n",
      "[INFO] [ELBO train: 42.03] [vae.py fit]\n",
      "[INFO] [ELBO train: 41.98] [vae.py fit]\n",
      "[INFO] [ELBO train: 42.2] [vae.py fit]\n",
      "[INFO] [Epoch: 510/1000] [objective: 42.100] [vae.py fit]\n",
      "[INFO] [ELBO train: 42.1] [vae.py fit]\n",
      "[INFO] [ELBO train: 42.18] [vae.py fit]\n",
      "[INFO] [ELBO train: 42.17] [vae.py fit]\n",
      "[INFO] [ELBO train: 42.17] [vae.py fit]\n",
      "[INFO] [ELBO train: 42.03] [vae.py fit]\n",
      "[INFO] [ELBO train: 41.94] [vae.py fit]\n",
      "[INFO] [ELBO train: 42.19] [vae.py fit]\n",
      "[INFO] [ELBO train: 42.16] [vae.py fit]\n",
      "[INFO] [ELBO train: 42.29] [vae.py fit]\n",
      "[INFO] [ELBO train: 42.23] [vae.py fit]\n",
      "[INFO] [Epoch: 520/1000] [objective: 42.191] [vae.py fit]\n",
      "[INFO] [ELBO train: 42.19] [vae.py fit]\n",
      "[INFO] [ELBO train: 42.06] [vae.py fit]\n",
      "[INFO] [ELBO train: 41.97] [vae.py fit]\n",
      "[INFO] [ELBO train: 42.31] [vae.py fit]\n",
      "[INFO] [ELBO train: 42.25] [vae.py fit]\n",
      "[INFO] [ELBO train: 42.1] [vae.py fit]\n",
      "[INFO] [ELBO train: 42.19] [vae.py fit]\n",
      "[INFO] [ELBO train: 41.99] [vae.py fit]\n",
      "[INFO] [ELBO train: 42.21] [vae.py fit]\n",
      "[INFO] [ELBO train: 42.13] [vae.py fit]\n",
      "[INFO] [Epoch: 530/1000] [objective: 42.471] [vae.py fit]\n",
      "[INFO] [ELBO train: 42.47] [vae.py fit]\n",
      "[INFO] [ELBO train: 42.18] [vae.py fit]\n",
      "[INFO] [ELBO train: 42.12] [vae.py fit]\n",
      "[INFO] [ELBO train: 42.0] [vae.py fit]\n",
      "[INFO] [ELBO train: 42.45] [vae.py fit]\n",
      "[INFO] [ELBO train: 42.06] [vae.py fit]\n",
      "[INFO] [ELBO train: 41.99] [vae.py fit]\n",
      "[INFO] [ELBO train: 42.12] [vae.py fit]\n"
     ]
    },
    {
     "name": "stdout",
     "output_type": "stream",
     "text": [
      "[INFO] [ELBO train: 42.14] [vae.py fit]\n",
      "[INFO] [ELBO train: 42.42] [vae.py fit]\n",
      "[INFO] [Epoch: 540/1000] [objective: 42.300] [vae.py fit]\n",
      "[INFO] [ELBO train: 42.3] [vae.py fit]\n",
      "[INFO] [ELBO train: 42.29] [vae.py fit]\n",
      "[INFO] [ELBO train: 42.29] [vae.py fit]\n",
      "[INFO] [ELBO train: 42.24] [vae.py fit]\n",
      "[INFO] [ELBO train: 42.38] [vae.py fit]\n",
      "[INFO] [ELBO train: 42.22] [vae.py fit]\n",
      "[INFO] [ELBO train: 42.27] [vae.py fit]\n",
      "[INFO] [ELBO train: 42.17] [vae.py fit]\n",
      "[INFO] [ELBO train: 42.15] [vae.py fit]\n",
      "[INFO] [ELBO train: 42.25] [vae.py fit]\n",
      "[INFO] [Epoch: 550/1000] [objective: 42.286] [vae.py fit]\n",
      "[INFO] [ELBO train: 42.29] [vae.py fit]\n",
      "[INFO] [ELBO train: 42.23] [vae.py fit]\n",
      "[INFO] [ELBO train: 42.29] [vae.py fit]\n",
      "[INFO] [ELBO train: 42.27] [vae.py fit]\n",
      "[INFO] [ELBO train: 42.29] [vae.py fit]\n",
      "[INFO] [ELBO train: 42.34] [vae.py fit]\n",
      "[INFO] [ELBO train: 42.42] [vae.py fit]\n",
      "[INFO] [ELBO train: 42.25] [vae.py fit]\n",
      "[INFO] [ELBO train: 42.04] [vae.py fit]\n",
      "[INFO] [ELBO train: 42.26] [vae.py fit]\n",
      "[INFO] [Epoch: 560/1000] [objective: 42.228] [vae.py fit]\n",
      "[INFO] [ELBO train: 42.23] [vae.py fit]\n",
      "[INFO] [ELBO train: 42.41] [vae.py fit]\n",
      "[INFO] [ELBO train: 42.34] [vae.py fit]\n",
      "[INFO] [ELBO train: 42.26] [vae.py fit]\n",
      "[INFO] [ELBO train: 42.25] [vae.py fit]\n",
      "[INFO] [ELBO train: 42.29] [vae.py fit]\n",
      "[INFO] [ELBO train: 42.29] [vae.py fit]\n",
      "[INFO] [ELBO train: 42.54] [vae.py fit]\n",
      "[INFO] [ELBO train: 42.49] [vae.py fit]\n",
      "[INFO] [ELBO train: 42.29] [vae.py fit]\n",
      "[INFO] [Epoch: 570/1000] [objective: 42.535] [vae.py fit]\n",
      "[INFO] [ELBO train: 42.54] [vae.py fit]\n",
      "[INFO] [ELBO train: 42.48] [vae.py fit]\n",
      "[INFO] [ELBO train: 42.53] [vae.py fit]\n",
      "[INFO] [ELBO train: 42.34] [vae.py fit]\n",
      "[INFO] [ELBO train: 42.38] [vae.py fit]\n",
      "[INFO] [ELBO train: 42.25] [vae.py fit]\n",
      "[INFO] [ELBO train: 42.16] [vae.py fit]\n",
      "[INFO] [ELBO train: 42.33] [vae.py fit]\n",
      "[INFO] [ELBO train: 42.22] [vae.py fit]\n",
      "[INFO] [ELBO train: 42.55] [vae.py fit]\n",
      "[INFO] [Epoch: 580/1000] [objective: 42.299] [vae.py fit]\n",
      "[INFO] [ELBO train: 42.3] [vae.py fit]\n",
      "[INFO] [ELBO train: 42.48] [vae.py fit]\n",
      "[INFO] [ELBO train: 42.47] [vae.py fit]\n",
      "[INFO] [ELBO train: 42.34] [vae.py fit]\n",
      "[INFO] [ELBO train: 42.34] [vae.py fit]\n",
      "[INFO] [ELBO train: 42.43] [vae.py fit]\n",
      "[INFO] [ELBO train: 42.51] [vae.py fit]\n",
      "[INFO] [ELBO train: 42.45] [vae.py fit]\n",
      "[INFO] [ELBO train: 42.59] [vae.py fit]\n",
      "[INFO] [ELBO train: 42.33] [vae.py fit]\n",
      "[INFO] [Epoch: 590/1000] [objective: 42.318] [vae.py fit]\n",
      "[INFO] [ELBO train: 42.32] [vae.py fit]\n",
      "[INFO] [ELBO train: 42.34] [vae.py fit]\n",
      "[INFO] [ELBO train: 42.25] [vae.py fit]\n",
      "[INFO] [ELBO train: 42.12] [vae.py fit]\n",
      "[INFO] [ELBO train: 42.42] [vae.py fit]\n",
      "[INFO] [ELBO train: 42.4] [vae.py fit]\n",
      "[INFO] [ELBO train: 42.55] [vae.py fit]\n",
      "[INFO] [ELBO train: 42.23] [vae.py fit]\n",
      "[INFO] [ELBO train: 42.36] [vae.py fit]\n",
      "[INFO] [ELBO train: 42.21] [vae.py fit]\n",
      "[INFO] [Epoch: 600/1000] [objective: 42.560] [vae.py fit]\n",
      "[INFO] [ELBO train: 42.56] [vae.py fit]\n",
      "[INFO] [ELBO train: 42.39] [vae.py fit]\n",
      "[INFO] [ELBO train: 42.67] [vae.py fit]\n",
      "[INFO] [ELBO train: 42.28] [vae.py fit]\n",
      "[INFO] [ELBO train: 42.29] [vae.py fit]\n",
      "[INFO] [ELBO train: 42.44] [vae.py fit]\n",
      "[INFO] [ELBO train: 42.25] [vae.py fit]\n",
      "[INFO] [ELBO train: 42.42] [vae.py fit]\n",
      "[INFO] [ELBO train: 42.8] [vae.py fit]\n",
      "[INFO] [ELBO train: 42.42] [vae.py fit]\n",
      "[INFO] [Epoch: 610/1000] [objective: 42.688] [vae.py fit]\n",
      "[INFO] [ELBO train: 42.69] [vae.py fit]\n",
      "[INFO] [ELBO train: 42.51] [vae.py fit]\n",
      "[INFO] [ELBO train: 42.73] [vae.py fit]\n",
      "[INFO] [ELBO train: 42.72] [vae.py fit]\n",
      "[INFO] [ELBO train: 42.48] [vae.py fit]\n",
      "[INFO] [ELBO train: 42.46] [vae.py fit]\n",
      "[INFO] [ELBO train: 42.57] [vae.py fit]\n",
      "[INFO] [ELBO train: 42.7] [vae.py fit]\n",
      "[INFO] [ELBO train: 42.41] [vae.py fit]\n",
      "[INFO] [ELBO train: 42.51] [vae.py fit]\n",
      "[INFO] [Epoch: 620/1000] [objective: 42.479] [vae.py fit]\n",
      "[INFO] [ELBO train: 42.48] [vae.py fit]\n",
      "[INFO] [ELBO train: 42.55] [vae.py fit]\n",
      "[INFO] [ELBO train: 42.47] [vae.py fit]\n",
      "[INFO] [ELBO train: 42.45] [vae.py fit]\n",
      "[INFO] [ELBO train: 42.73] [vae.py fit]\n",
      "[INFO] [ELBO train: 42.72] [vae.py fit]\n",
      "[INFO] [ELBO train: 42.29] [vae.py fit]\n",
      "[INFO] [ELBO train: 42.5] [vae.py fit]\n",
      "[INFO] [ELBO train: 42.48] [vae.py fit]\n",
      "[INFO] [ELBO train: 42.67] [vae.py fit]\n",
      "[INFO] [Epoch: 630/1000] [objective: 42.566] [vae.py fit]\n",
      "[INFO] [ELBO train: 42.57] [vae.py fit]\n",
      "[INFO] [ELBO train: 42.37] [vae.py fit]\n",
      "[INFO] [ELBO train: 42.55] [vae.py fit]\n",
      "[INFO] [ELBO train: 42.5] [vae.py fit]\n",
      "[INFO] [ELBO train: 42.65] [vae.py fit]\n",
      "[INFO] [ELBO train: 42.49] [vae.py fit]\n",
      "[INFO] [ELBO train: 42.36] [vae.py fit]\n",
      "[INFO] [ELBO train: 42.52] [vae.py fit]\n",
      "[INFO] [ELBO train: 42.81] [vae.py fit]\n",
      "[INFO] [ELBO train: 42.78] [vae.py fit]\n",
      "[INFO] [Epoch: 640/1000] [objective: 42.512] [vae.py fit]\n",
      "[INFO] [ELBO train: 42.51] [vae.py fit]\n",
      "[INFO] [ELBO train: 42.72] [vae.py fit]\n",
      "[INFO] [ELBO train: 42.74] [vae.py fit]\n",
      "[INFO] [ELBO train: 42.53] [vae.py fit]\n",
      "[INFO] [ELBO train: 42.65] [vae.py fit]\n",
      "[INFO] [ELBO train: 42.64] [vae.py fit]\n",
      "[INFO] [ELBO train: 42.51] [vae.py fit]\n",
      "[INFO] [ELBO train: 42.47] [vae.py fit]\n",
      "[INFO] [ELBO train: 42.62] [vae.py fit]\n",
      "[INFO] [ELBO train: 42.73] [vae.py fit]\n",
      "[INFO] [Epoch: 650/1000] [objective: 42.698] [vae.py fit]\n",
      "[INFO] [ELBO train: 42.7] [vae.py fit]\n",
      "[INFO] [ELBO train: 42.55] [vae.py fit]\n",
      "[INFO] [ELBO train: 42.52] [vae.py fit]\n",
      "[INFO] [ELBO train: 42.54] [vae.py fit]\n",
      "[INFO] [ELBO train: 42.47] [vae.py fit]\n",
      "[INFO] [ELBO train: 42.58] [vae.py fit]\n",
      "[INFO] [ELBO train: 42.47] [vae.py fit]\n",
      "[INFO] [ELBO train: 42.49] [vae.py fit]\n",
      "[INFO] [ELBO train: 42.74] [vae.py fit]\n",
      "[INFO] [ELBO train: 43.04] [vae.py fit]\n",
      "[INFO] [Epoch: 660/1000] [objective: 42.656] [vae.py fit]\n",
      "[INFO] [ELBO train: 42.66] [vae.py fit]\n",
      "[INFO] [ELBO train: 42.59] [vae.py fit]\n",
      "[INFO] [ELBO train: 42.7] [vae.py fit]\n",
      "[INFO] [ELBO train: 42.71] [vae.py fit]\n",
      "[INFO] [ELBO train: 42.49] [vae.py fit]\n",
      "[INFO] [ELBO train: 42.74] [vae.py fit]\n",
      "[INFO] [ELBO train: 42.62] [vae.py fit]\n",
      "[INFO] [ELBO train: 42.69] [vae.py fit]\n",
      "[INFO] [ELBO train: 42.83] [vae.py fit]\n",
      "[INFO] [ELBO train: 42.85] [vae.py fit]\n",
      "[INFO] [Epoch: 670/1000] [objective: 42.581] [vae.py fit]\n",
      "[INFO] [ELBO train: 42.58] [vae.py fit]\n",
      "[INFO] [ELBO train: 42.73] [vae.py fit]\n",
      "[INFO] [ELBO train: 42.92] [vae.py fit]\n",
      "[INFO] [ELBO train: 42.44] [vae.py fit]\n",
      "[INFO] [ELBO train: 42.63] [vae.py fit]\n",
      "[INFO] [ELBO train: 42.81] [vae.py fit]\n",
      "[INFO] [ELBO train: 42.5] [vae.py fit]\n",
      "[INFO] [ELBO train: 42.55] [vae.py fit]\n",
      "[INFO] [ELBO train: 42.76] [vae.py fit]\n",
      "[INFO] [ELBO train: 42.65] [vae.py fit]\n",
      "[INFO] [Epoch: 680/1000] [objective: 42.657] [vae.py fit]\n",
      "[INFO] [ELBO train: 42.66] [vae.py fit]\n",
      "[INFO] [ELBO train: 42.61] [vae.py fit]\n",
      "[INFO] [ELBO train: 42.67] [vae.py fit]\n",
      "[INFO] [ELBO train: 42.81] [vae.py fit]\n",
      "[INFO] [ELBO train: 42.47] [vae.py fit]\n",
      "[INFO] [ELBO train: 42.65] [vae.py fit]\n",
      "[INFO] [ELBO train: 43.0] [vae.py fit]\n",
      "[INFO] [ELBO train: 42.87] [vae.py fit]\n",
      "[INFO] [ELBO train: 42.58] [vae.py fit]\n",
      "[INFO] [ELBO train: 42.67] [vae.py fit]\n",
      "[INFO] [Epoch: 690/1000] [objective: 43.044] [vae.py fit]\n",
      "[INFO] [ELBO train: 43.04] [vae.py fit]\n",
      "[INFO] [ELBO train: 42.75] [vae.py fit]\n",
      "[INFO] [ELBO train: 42.83] [vae.py fit]\n",
      "[INFO] [ELBO train: 42.77] [vae.py fit]\n",
      "[INFO] [ELBO train: 42.91] [vae.py fit]\n",
      "[INFO] [ELBO train: 42.78] [vae.py fit]\n",
      "[INFO] [ELBO train: 42.92] [vae.py fit]\n",
      "[INFO] [ELBO train: 42.72] [vae.py fit]\n",
      "[INFO] [ELBO train: 42.69] [vae.py fit]\n",
      "[INFO] [ELBO train: 42.57] [vae.py fit]\n",
      "[INFO] [Epoch: 700/1000] [objective: 42.758] [vae.py fit]\n",
      "[INFO] [ELBO train: 42.76] [vae.py fit]\n",
      "[INFO] [ELBO train: 42.83] [vae.py fit]\n",
      "[INFO] [ELBO train: 42.68] [vae.py fit]\n",
      "[INFO] [ELBO train: 42.74] [vae.py fit]\n",
      "[INFO] [ELBO train: 42.89] [vae.py fit]\n",
      "[INFO] [ELBO train: 43.02] [vae.py fit]\n",
      "[INFO] [ELBO train: 43.08] [vae.py fit]\n",
      "[INFO] [ELBO train: 42.76] [vae.py fit]\n",
      "[INFO] [ELBO train: 43.0] [vae.py fit]\n",
      "[INFO] [ELBO train: 42.91] [vae.py fit]\n",
      "[INFO] [Epoch: 710/1000] [objective: 42.880] [vae.py fit]\n",
      "[INFO] [ELBO train: 42.88] [vae.py fit]\n",
      "[INFO] [ELBO train: 42.8] [vae.py fit]\n",
      "[INFO] [ELBO train: 42.5] [vae.py fit]\n",
      "[INFO] [ELBO train: 42.67] [vae.py fit]\n",
      "[INFO] [ELBO train: 42.78] [vae.py fit]\n",
      "[INFO] [ELBO train: 42.77] [vae.py fit]\n",
      "[INFO] [ELBO train: 42.81] [vae.py fit]\n",
      "[INFO] [ELBO train: 42.83] [vae.py fit]\n"
     ]
    },
    {
     "name": "stdout",
     "output_type": "stream",
     "text": [
      "[INFO] [ELBO train: 42.78] [vae.py fit]\n",
      "[INFO] [ELBO train: 42.64] [vae.py fit]\n",
      "[INFO] [Epoch: 720/1000] [objective: 42.860] [vae.py fit]\n",
      "[INFO] [ELBO train: 42.86] [vae.py fit]\n",
      "[INFO] [ELBO train: 42.8] [vae.py fit]\n",
      "[INFO] [ELBO train: 42.82] [vae.py fit]\n",
      "[INFO] [ELBO train: 43.01] [vae.py fit]\n",
      "[INFO] [ELBO train: 42.92] [vae.py fit]\n",
      "[INFO] [ELBO train: 42.66] [vae.py fit]\n",
      "[INFO] [ELBO train: 42.69] [vae.py fit]\n",
      "[INFO] [ELBO train: 43.02] [vae.py fit]\n",
      "[INFO] [ELBO train: 42.91] [vae.py fit]\n",
      "[INFO] [ELBO train: 42.66] [vae.py fit]\n",
      "[INFO] [Epoch: 730/1000] [objective: 43.063] [vae.py fit]\n",
      "[INFO] [ELBO train: 43.06] [vae.py fit]\n",
      "[INFO] [ELBO train: 42.91] [vae.py fit]\n",
      "[INFO] [ELBO train: 42.76] [vae.py fit]\n",
      "[INFO] [ELBO train: 43.03] [vae.py fit]\n",
      "[INFO] [ELBO train: 43.1] [vae.py fit]\n",
      "[INFO] [ELBO train: 43.01] [vae.py fit]\n",
      "[INFO] [ELBO train: 43.01] [vae.py fit]\n",
      "[INFO] [ELBO train: 42.78] [vae.py fit]\n",
      "[INFO] [ELBO train: 42.84] [vae.py fit]\n",
      "[INFO] [ELBO train: 42.78] [vae.py fit]\n",
      "[INFO] [Epoch: 740/1000] [objective: 43.185] [vae.py fit]\n",
      "[INFO] [ELBO train: 43.19] [vae.py fit]\n",
      "[INFO] [ELBO train: 42.79] [vae.py fit]\n",
      "[INFO] [ELBO train: 42.92] [vae.py fit]\n",
      "[INFO] [ELBO train: 43.05] [vae.py fit]\n",
      "[INFO] [ELBO train: 43.11] [vae.py fit]\n",
      "[INFO] [ELBO train: 43.01] [vae.py fit]\n",
      "[INFO] [ELBO train: 42.83] [vae.py fit]\n",
      "[INFO] [ELBO train: 42.91] [vae.py fit]\n",
      "[INFO] [ELBO train: 43.02] [vae.py fit]\n",
      "[INFO] [ELBO train: 42.89] [vae.py fit]\n",
      "[INFO] [Epoch: 750/1000] [objective: 42.819] [vae.py fit]\n",
      "[INFO] [ELBO train: 42.82] [vae.py fit]\n",
      "[INFO] [ELBO train: 43.02] [vae.py fit]\n",
      "[INFO] [ELBO train: 42.87] [vae.py fit]\n",
      "[INFO] [ELBO train: 42.64] [vae.py fit]\n",
      "[INFO] [ELBO train: 42.69] [vae.py fit]\n",
      "[INFO] [ELBO train: 42.86] [vae.py fit]\n",
      "[INFO] [ELBO train: 43.08] [vae.py fit]\n",
      "[INFO] [ELBO train: 42.55] [vae.py fit]\n",
      "[INFO] [ELBO train: 42.67] [vae.py fit]\n",
      "[INFO] [ELBO train: 42.82] [vae.py fit]\n",
      "[INFO] [Epoch: 760/1000] [objective: 43.002] [vae.py fit]\n",
      "[INFO] [ELBO train: 43.0] [vae.py fit]\n",
      "[INFO] [ELBO train: 42.92] [vae.py fit]\n",
      "[INFO] [ELBO train: 43.04] [vae.py fit]\n",
      "[INFO] [ELBO train: 43.05] [vae.py fit]\n",
      "[INFO] [ELBO train: 43.03] [vae.py fit]\n",
      "[INFO] [ELBO train: 43.07] [vae.py fit]\n",
      "[INFO] [ELBO train: 42.71] [vae.py fit]\n",
      "[INFO] [ELBO train: 42.73] [vae.py fit]\n",
      "[INFO] [ELBO train: 43.12] [vae.py fit]\n",
      "[INFO] [ELBO train: 42.88] [vae.py fit]\n",
      "[INFO] [Epoch: 770/1000] [objective: 42.927] [vae.py fit]\n",
      "[INFO] [ELBO train: 42.93] [vae.py fit]\n",
      "[INFO] [ELBO train: 42.88] [vae.py fit]\n",
      "[INFO] [ELBO train: 42.79] [vae.py fit]\n",
      "[INFO] [ELBO train: 42.95] [vae.py fit]\n",
      "[INFO] [ELBO train: 42.81] [vae.py fit]\n",
      "[INFO] [ELBO train: 43.13] [vae.py fit]\n",
      "[INFO] [ELBO train: 42.71] [vae.py fit]\n",
      "[INFO] [ELBO train: 42.78] [vae.py fit]\n",
      "[INFO] [ELBO train: 43.07] [vae.py fit]\n",
      "[INFO] [ELBO train: 43.04] [vae.py fit]\n",
      "[INFO] [Epoch: 780/1000] [objective: 42.913] [vae.py fit]\n",
      "[INFO] [ELBO train: 42.91] [vae.py fit]\n",
      "[INFO] [ELBO train: 42.67] [vae.py fit]\n",
      "[INFO] [ELBO train: 42.85] [vae.py fit]\n",
      "[INFO] [ELBO train: 42.97] [vae.py fit]\n",
      "[INFO] [ELBO train: 42.96] [vae.py fit]\n",
      "[INFO] [ELBO train: 42.98] [vae.py fit]\n",
      "[INFO] [ELBO train: 42.97] [vae.py fit]\n",
      "[INFO] [ELBO train: 42.86] [vae.py fit]\n",
      "[INFO] [ELBO train: 43.13] [vae.py fit]\n",
      "[INFO] [ELBO train: 43.02] [vae.py fit]\n",
      "[INFO] [Epoch: 790/1000] [objective: 42.993] [vae.py fit]\n",
      "[INFO] [ELBO train: 42.99] [vae.py fit]\n",
      "[INFO] [ELBO train: 42.92] [vae.py fit]\n",
      "[INFO] [ELBO train: 43.15] [vae.py fit]\n",
      "[INFO] [ELBO train: 43.17] [vae.py fit]\n",
      "[INFO] [ELBO train: 42.9] [vae.py fit]\n",
      "[INFO] [ELBO train: 43.2] [vae.py fit]\n",
      "[INFO] [ELBO train: 42.93] [vae.py fit]\n",
      "[INFO] [ELBO train: 42.97] [vae.py fit]\n",
      "[INFO] [ELBO train: 43.13] [vae.py fit]\n",
      "[INFO] [ELBO train: 42.89] [vae.py fit]\n",
      "[INFO] [Epoch: 800/1000] [objective: 42.952] [vae.py fit]\n",
      "[INFO] [ELBO train: 42.95] [vae.py fit]\n",
      "[INFO] [ELBO train: 42.85] [vae.py fit]\n",
      "[INFO] [ELBO train: 42.97] [vae.py fit]\n",
      "[INFO] [ELBO train: 42.96] [vae.py fit]\n",
      "[INFO] [ELBO train: 43.38] [vae.py fit]\n",
      "[INFO] [ELBO train: 42.97] [vae.py fit]\n",
      "[INFO] [ELBO train: 43.07] [vae.py fit]\n",
      "[INFO] [ELBO train: 43.03] [vae.py fit]\n",
      "[INFO] [ELBO train: 42.89] [vae.py fit]\n",
      "[INFO] [ELBO train: 43.08] [vae.py fit]\n",
      "[INFO] [Epoch: 810/1000] [objective: 42.853] [vae.py fit]\n",
      "[INFO] [ELBO train: 42.85] [vae.py fit]\n",
      "[INFO] [ELBO train: 42.92] [vae.py fit]\n",
      "[INFO] [ELBO train: 43.05] [vae.py fit]\n",
      "[INFO] [ELBO train: 43.11] [vae.py fit]\n",
      "[INFO] [ELBO train: 43.17] [vae.py fit]\n",
      "[INFO] [ELBO train: 43.12] [vae.py fit]\n",
      "[INFO] [ELBO train: 42.93] [vae.py fit]\n",
      "[INFO] [ELBO train: 43.1] [vae.py fit]\n",
      "[INFO] [ELBO train: 42.9] [vae.py fit]\n",
      "[INFO] [ELBO train: 42.81] [vae.py fit]\n",
      "[INFO] [Epoch: 820/1000] [objective: 43.061] [vae.py fit]\n",
      "[INFO] [ELBO train: 43.06] [vae.py fit]\n",
      "[INFO] [ELBO train: 42.87] [vae.py fit]\n",
      "[INFO] [ELBO train: 42.98] [vae.py fit]\n",
      "[INFO] [ELBO train: 43.11] [vae.py fit]\n",
      "[INFO] [ELBO train: 43.05] [vae.py fit]\n",
      "[INFO] [ELBO train: 43.29] [vae.py fit]\n",
      "[INFO] [ELBO train: 42.92] [vae.py fit]\n",
      "[INFO] [ELBO train: 42.86] [vae.py fit]\n",
      "[INFO] [ELBO train: 43.05] [vae.py fit]\n",
      "[INFO] [ELBO train: 43.17] [vae.py fit]\n",
      "[INFO] [Epoch: 830/1000] [objective: 43.045] [vae.py fit]\n",
      "[INFO] [ELBO train: 43.05] [vae.py fit]\n",
      "[INFO] [ELBO train: 42.93] [vae.py fit]\n",
      "[INFO] [ELBO train: 43.22] [vae.py fit]\n",
      "[INFO] [ELBO train: 43.17] [vae.py fit]\n",
      "[INFO] [ELBO train: 43.05] [vae.py fit]\n",
      "[INFO] [ELBO train: 43.06] [vae.py fit]\n",
      "[INFO] [ELBO train: 42.84] [vae.py fit]\n",
      "[INFO] [ELBO train: 43.02] [vae.py fit]\n",
      "[INFO] [ELBO train: 42.8] [vae.py fit]\n",
      "[INFO] [ELBO train: 42.94] [vae.py fit]\n",
      "[INFO] [Epoch: 840/1000] [objective: 43.126] [vae.py fit]\n",
      "[INFO] [ELBO train: 43.13] [vae.py fit]\n",
      "[INFO] [ELBO train: 43.05] [vae.py fit]\n",
      "[INFO] [ELBO train: 43.01] [vae.py fit]\n",
      "[INFO] [ELBO train: 43.0] [vae.py fit]\n",
      "[INFO] [ELBO train: 43.07] [vae.py fit]\n",
      "[INFO] [ELBO train: 42.93] [vae.py fit]\n",
      "[INFO] [ELBO train: 43.05] [vae.py fit]\n",
      "[INFO] [ELBO train: 42.92] [vae.py fit]\n",
      "[INFO] [ELBO train: 43.15] [vae.py fit]\n",
      "[INFO] [ELBO train: 43.1] [vae.py fit]\n",
      "[INFO] [Epoch: 850/1000] [objective: 42.872] [vae.py fit]\n",
      "[INFO] [ELBO train: 42.87] [vae.py fit]\n",
      "[INFO] [ELBO train: 43.15] [vae.py fit]\n",
      "[INFO] [ELBO train: 43.07] [vae.py fit]\n",
      "[INFO] [ELBO train: 42.91] [vae.py fit]\n",
      "[INFO] [ELBO train: 43.22] [vae.py fit]\n",
      "[INFO] [ELBO train: 43.11] [vae.py fit]\n",
      "[INFO] [ELBO train: 42.98] [vae.py fit]\n",
      "[INFO] [ELBO train: 43.07] [vae.py fit]\n",
      "[INFO] [ELBO train: 42.97] [vae.py fit]\n",
      "[INFO] [ELBO train: 42.77] [vae.py fit]\n",
      "[INFO] [Epoch: 860/1000] [objective: 42.767] [vae.py fit]\n",
      "[INFO] [ELBO train: 42.77] [vae.py fit]\n",
      "[INFO] [ELBO train: 43.3] [vae.py fit]\n",
      "[INFO] [ELBO train: 43.12] [vae.py fit]\n",
      "[INFO] [ELBO train: 43.08] [vae.py fit]\n",
      "[INFO] [ELBO train: 42.93] [vae.py fit]\n",
      "[INFO] [ELBO train: 43.16] [vae.py fit]\n",
      "[INFO] [ELBO train: 43.08] [vae.py fit]\n",
      "[INFO] [ELBO train: 42.96] [vae.py fit]\n",
      "[INFO] [ELBO train: 42.91] [vae.py fit]\n",
      "[INFO] [ELBO train: 43.24] [vae.py fit]\n",
      "[INFO] [Epoch: 870/1000] [objective: 42.936] [vae.py fit]\n",
      "[INFO] [ELBO train: 42.94] [vae.py fit]\n",
      "[INFO] [ELBO train: 43.14] [vae.py fit]\n",
      "[INFO] [ELBO train: 42.99] [vae.py fit]\n",
      "[INFO] [ELBO train: 42.93] [vae.py fit]\n",
      "[INFO] [ELBO train: 43.29] [vae.py fit]\n",
      "[INFO] [ELBO train: 43.3] [vae.py fit]\n",
      "[INFO] [ELBO train: 43.24] [vae.py fit]\n",
      "[INFO] [ELBO train: 43.14] [vae.py fit]\n",
      "[INFO] [ELBO train: 43.17] [vae.py fit]\n",
      "[INFO] [ELBO train: 43.03] [vae.py fit]\n",
      "[INFO] [Epoch: 880/1000] [objective: 43.077] [vae.py fit]\n",
      "[INFO] [ELBO train: 43.08] [vae.py fit]\n",
      "[INFO] [ELBO train: 43.07] [vae.py fit]\n",
      "[INFO] [ELBO train: 43.18] [vae.py fit]\n",
      "[INFO] [ELBO train: 43.21] [vae.py fit]\n",
      "[INFO] [ELBO train: 43.2] [vae.py fit]\n",
      "[INFO] [ELBO train: 43.13] [vae.py fit]\n",
      "[INFO] [ELBO train: 43.11] [vae.py fit]\n",
      "[INFO] [ELBO train: 43.14] [vae.py fit]\n",
      "[INFO] [ELBO train: 43.11] [vae.py fit]\n",
      "[INFO] [ELBO train: 43.14] [vae.py fit]\n",
      "[INFO] [Epoch: 890/1000] [objective: 43.124] [vae.py fit]\n",
      "[INFO] [ELBO train: 43.12] [vae.py fit]\n",
      "[INFO] [ELBO train: 43.19] [vae.py fit]\n",
      "[INFO] [ELBO train: 43.17] [vae.py fit]\n",
      "[INFO] [ELBO train: 43.04] [vae.py fit]\n",
      "[INFO] [ELBO train: 42.99] [vae.py fit]\n",
      "[INFO] [ELBO train: 42.92] [vae.py fit]\n",
      "[INFO] [ELBO train: 43.07] [vae.py fit]\n",
      "[INFO] [ELBO train: 42.96] [vae.py fit]\n"
     ]
    },
    {
     "name": "stdout",
     "output_type": "stream",
     "text": [
      "[INFO] [ELBO train: 42.96] [vae.py fit]\n",
      "[INFO] [ELBO train: 43.06] [vae.py fit]\n",
      "[INFO] [Epoch: 900/1000] [objective: 43.097] [vae.py fit]\n",
      "[INFO] [ELBO train: 43.1] [vae.py fit]\n",
      "[INFO] [ELBO train: 43.0] [vae.py fit]\n",
      "[INFO] [ELBO train: 43.18] [vae.py fit]\n",
      "[INFO] [ELBO train: 43.2] [vae.py fit]\n",
      "[INFO] [ELBO train: 43.24] [vae.py fit]\n",
      "[INFO] [ELBO train: 43.06] [vae.py fit]\n",
      "[INFO] [ELBO train: 43.18] [vae.py fit]\n",
      "[INFO] [ELBO train: 43.01] [vae.py fit]\n",
      "[INFO] [ELBO train: 43.05] [vae.py fit]\n",
      "[INFO] [ELBO train: 43.29] [vae.py fit]\n",
      "[INFO] [Epoch: 910/1000] [objective: 43.123] [vae.py fit]\n",
      "[INFO] [ELBO train: 43.12] [vae.py fit]\n",
      "[INFO] [ELBO train: 42.99] [vae.py fit]\n",
      "[INFO] [ELBO train: 43.22] [vae.py fit]\n",
      "[INFO] [ELBO train: 43.26] [vae.py fit]\n",
      "[INFO] [ELBO train: 42.94] [vae.py fit]\n",
      "[INFO] [ELBO train: 42.99] [vae.py fit]\n",
      "[INFO] [ELBO train: 43.21] [vae.py fit]\n",
      "[INFO] [ELBO train: 43.21] [vae.py fit]\n",
      "[INFO] [ELBO train: 43.15] [vae.py fit]\n",
      "[INFO] [ELBO train: 42.87] [vae.py fit]\n",
      "[INFO] [Epoch: 920/1000] [objective: 43.083] [vae.py fit]\n",
      "[INFO] [ELBO train: 43.08] [vae.py fit]\n",
      "[INFO] [ELBO train: 43.22] [vae.py fit]\n",
      "[INFO] [ELBO train: 43.02] [vae.py fit]\n",
      "[INFO] [ELBO train: 43.09] [vae.py fit]\n",
      "[INFO] [ELBO train: 43.22] [vae.py fit]\n",
      "[INFO] [ELBO train: 43.06] [vae.py fit]\n",
      "[INFO] [ELBO train: 43.12] [vae.py fit]\n",
      "[INFO] [ELBO train: 43.3] [vae.py fit]\n",
      "[INFO] [ELBO train: 43.14] [vae.py fit]\n",
      "[INFO] [ELBO train: 43.38] [vae.py fit]\n",
      "[INFO] [Epoch: 930/1000] [objective: 43.116] [vae.py fit]\n",
      "[INFO] [ELBO train: 43.12] [vae.py fit]\n",
      "[INFO] [ELBO train: 43.13] [vae.py fit]\n",
      "[INFO] [ELBO train: 43.2] [vae.py fit]\n",
      "[INFO] [ELBO train: 43.12] [vae.py fit]\n",
      "[INFO] [ELBO train: 43.04] [vae.py fit]\n",
      "[INFO] [ELBO train: 43.17] [vae.py fit]\n",
      "[INFO] [ELBO train: 43.05] [vae.py fit]\n",
      "[INFO] [ELBO train: 43.19] [vae.py fit]\n",
      "[INFO] [ELBO train: 43.02] [vae.py fit]\n",
      "[INFO] [ELBO train: 43.06] [vae.py fit]\n",
      "[INFO] [Epoch: 940/1000] [objective: 43.050] [vae.py fit]\n",
      "[INFO] [ELBO train: 43.05] [vae.py fit]\n",
      "[INFO] [ELBO train: 43.17] [vae.py fit]\n",
      "[INFO] [ELBO train: 43.16] [vae.py fit]\n",
      "[INFO] [ELBO train: 43.14] [vae.py fit]\n",
      "[INFO] [ELBO train: 43.02] [vae.py fit]\n",
      "[INFO] [ELBO train: 43.0] [vae.py fit]\n",
      "[INFO] [ELBO train: 43.18] [vae.py fit]\n",
      "[INFO] [ELBO train: 43.16] [vae.py fit]\n",
      "[INFO] [ELBO train: 43.27] [vae.py fit]\n",
      "[INFO] [ELBO train: 42.99] [vae.py fit]\n",
      "[INFO] [Epoch: 950/1000] [objective: 43.229] [vae.py fit]\n",
      "[INFO] [ELBO train: 43.23] [vae.py fit]\n",
      "[INFO] [ELBO train: 43.23] [vae.py fit]\n",
      "[INFO] [ELBO train: 43.22] [vae.py fit]\n",
      "[INFO] [ELBO train: 43.09] [vae.py fit]\n",
      "[INFO] [ELBO train: 43.13] [vae.py fit]\n",
      "[INFO] [ELBO train: 43.08] [vae.py fit]\n",
      "[INFO] [ELBO train: 43.18] [vae.py fit]\n",
      "[INFO] [ELBO train: 43.12] [vae.py fit]\n",
      "[INFO] [ELBO train: 43.26] [vae.py fit]\n",
      "[INFO] [ELBO train: 43.18] [vae.py fit]\n",
      "[INFO] [Epoch: 960/1000] [objective: 43.087] [vae.py fit]\n",
      "[INFO] [ELBO train: 43.09] [vae.py fit]\n",
      "[INFO] [ELBO train: 43.14] [vae.py fit]\n",
      "[INFO] [ELBO train: 43.19] [vae.py fit]\n",
      "[INFO] [ELBO train: 43.17] [vae.py fit]\n",
      "[INFO] [ELBO train: 42.98] [vae.py fit]\n",
      "[INFO] [ELBO train: 43.06] [vae.py fit]\n",
      "[INFO] [ELBO train: 43.17] [vae.py fit]\n",
      "[INFO] [ELBO train: 43.2] [vae.py fit]\n",
      "[INFO] [ELBO train: 43.13] [vae.py fit]\n",
      "[INFO] [ELBO train: 43.14] [vae.py fit]\n",
      "[INFO] [Epoch: 970/1000] [objective: 43.203] [vae.py fit]\n",
      "[INFO] [ELBO train: 43.2] [vae.py fit]\n",
      "[INFO] [ELBO train: 43.04] [vae.py fit]\n",
      "[INFO] [ELBO train: 43.3] [vae.py fit]\n",
      "[INFO] [ELBO train: 43.14] [vae.py fit]\n",
      "[INFO] [ELBO train: 43.0] [vae.py fit]\n",
      "[INFO] [ELBO train: 43.09] [vae.py fit]\n",
      "[INFO] [ELBO train: 43.08] [vae.py fit]\n",
      "[INFO] [ELBO train: 43.16] [vae.py fit]\n",
      "[INFO] [ELBO train: 43.14] [vae.py fit]\n",
      "[INFO] [ELBO train: 43.19] [vae.py fit]\n",
      "[INFO] [Epoch: 980/1000] [objective: 43.085] [vae.py fit]\n",
      "[INFO] [ELBO train: 43.09] [vae.py fit]\n",
      "[INFO] [ELBO train: 43.15] [vae.py fit]\n",
      "[INFO] [ELBO train: 43.26] [vae.py fit]\n",
      "[INFO] [ELBO train: 43.06] [vae.py fit]\n",
      "[INFO] [ELBO train: 43.24] [vae.py fit]\n",
      "[INFO] [ELBO train: 43.11] [vae.py fit]\n",
      "[INFO] [ELBO train: 43.21] [vae.py fit]\n",
      "[INFO] [ELBO train: 43.03] [vae.py fit]\n",
      "[INFO] [ELBO train: 43.12] [vae.py fit]\n",
      "[INFO] [ELBO train: 43.04] [vae.py fit]\n",
      "[INFO] [Epoch: 990/1000] [objective: 43.160] [vae.py fit]\n",
      "[INFO] [ELBO train: 43.16] [vae.py fit]\n",
      "[INFO] [ELBO train: 43.1] [vae.py fit]\n",
      "[INFO] [ELBO train: 43.14] [vae.py fit]\n",
      "[INFO] [ELBO train: 43.09] [vae.py fit]\n",
      "[INFO] [ELBO train: 43.1] [vae.py fit]\n",
      "[INFO] [ELBO train: 43.02] [vae.py fit]\n",
      "[INFO] [ELBO train: 43.33] [vae.py fit]\n",
      "[INFO] [ELBO train: 43.19] [vae.py fit]\n",
      "[INFO] [ELBO train: 43.14] [vae.py fit]\n",
      "[INFO] [ELBO train: 43.18] [vae.py fit]\n",
      "[INFO] ... finished training of Variational Autoencoder. [vae.py fit]\n"
     ]
    },
    {
     "data": {
      "image/png": "[encoded data removed]",
      "text/plain": [
       "<Figure size 432x288 with 1 Axes>"
      ]
     },
     "metadata": {},
     "output_type": "display_data"
    },
    {
     "name": "stdout",
     "output_type": "stream",
     "text": [
      "Current Centralization is 0.5\n",
      "Current Atkinson is 0.9842668861352033\n",
      "Current Avg Proxi Index is 0.7296526768610361\n",
      "invalidation is 0.0\n",
      "0.27498610586333505\n",
      "0.26650045402275546\n",
      "0.008485651840579589\n",
      "(295, 4)\n",
      "(295,)\n"
     ]
    }
   ],
   "source": [
    "hyperparams = {\n",
    "    \"data_name\": dataset.name,\n",
    "    \"n_search_samples\": 50,\n",
    "    \"p_norm\": 2,\n",
    "    \"step\": 1e-2,\n",
    "    \"max_iter\": 2000,\n",
    "    \"clamp\": False,\n",
    "    \"binary_cat_features\": False,\n",
    "    \"vae_params\": {\n",
    "        \"layers\": [len(ml_model.feature_input_order)-len(immutable), 256, 128, 2],\n",
    "        \"train\": True,\n",
    "        \"lambda_reg\": 1e-6,\n",
    "        \"epochs\": 1000,\n",
    "        \"lr\": 1e-3,\n",
    "        \"batch_size\": 32,\n",
    "        \"kl\": 2\n",
    "    },  \n",
    "}\n",
    "ar_model = CCHVAE(ml_model, hyperparams)\n",
    "\n",
    "negative_instances = dataset.df_train[ml_model.predict(dataset.df_train)<0.5]\n",
    "negative_instances.to_csv('./balance_data/syn_negative_instances.csv')\n",
    "cf = ar_model.get_counterfactuals(negative_instances)\n",
    "cf.index = negative_instances.index\n",
    "sensitive = \"sex_1\"\n",
    "\n",
    "import matplotlib.pyplot as plt\n",
    "import copy \n",
    "current_population = copy.deepcopy(dataset.df_train)\n",
    "\n",
    "cf = encode_constraint(cf, negative_instances, [sensitive])\n",
    "current_population = copy.deepcopy(dataset.df_train)\n",
    "current_population.loc[negative_instances.index,['x1','x2',sensitive]] = cf[['x1','x2',sensitive]].values\n",
    "current_population = current_population.dropna()\n",
    "plt.scatter(current_population.x1[current_population[sensitive]==1],current_population.x2[current_population[sensitive]==1],label='male')\n",
    "plt.scatter(current_population.x1[current_population[sensitive]==0],current_population.x2[current_population[sensitive]==0],label='female')\n",
    "temp1 = cf['x1'][negative_instances[sensitive]==1]\n",
    "temp2 = cf['x2'][negative_instances[sensitive]==1]\n",
    "# randomization for visual purpose \n",
    "noise = 0\n",
    "plt.scatter(temp1 + np.random.uniform(size=len(temp1)) * noise,\\\n",
    "    temp2 + np.random.uniform(size=len(temp2)) * noise, label = 'recourse male')\n",
    "temp1 = cf['x1'][negative_instances[sensitive]==0]\n",
    "temp2 = cf['x2'][negative_instances[sensitive]==0]\n",
    "plt.scatter(temp1 + np.random.uniform(size=len(temp1)) * noise,\\\n",
    "    temp2 + np.random.uniform(size=len(temp2)) * noise, label = 'recourse female')\n",
    "plt.legend()\n",
    "plt.show()\n",
    "plt.savefig(f'./log/synfig/syn_cchvae_after.pdf')\n",
    "plt.close()\n",
    "\n",
    "features = ['x1','x2']\n",
    "pred = (ml_model.predict(current_population) > 0.5).reshape(-1)\n",
    "predprob = (ml_model.predict(current_population)).reshape(-1)\n",
    "c_central, radius = centralization(current_population[sen_feature].values, \\\n",
    "    current_population[features].values, \n",
    "    radius\n",
    "    )\n",
    "print(f'Current Centralization is {c_central}')\n",
    "c_atkinson = atkinson(current_population[sen_feature].values, \\\n",
    "    current_population[features].values, \\\n",
    "    origin_features = dataset.df_train[mutable_feature].values)\n",
    "print(f'Current Atkinson is {c_atkinson}')\n",
    "a = current_population\n",
    "b = dataset.df_train\n",
    "c_ap = avg_proximity2(a[sen_feature].values, \\\n",
    "    a[features].values)\n",
    "print(f'Current Avg Proxi Index is {c_ap}')    \n",
    "\n",
    "inv_rate = invalidation(cf, ml_model)\n",
    "print(f'invalidation is {inv_rate}')\n",
    "rec_cost = recourse_cost(negative_instances, cf)\n",
    "\n",
    "negative_sens = negative_instances[sensitive]\n",
    "rec_fair = fairness_cost(negative_instances, cf, negative_sens)\n",
    "\n",
    "vynn = ynn(dataset.df[cf.columns], cf, ml_model, 5)\n",
    "close = closeness(cf[mutable_feature], dataset.df[dataset.df.y==1][mutable_feature])\n",
    "result = result.append({'metric':'centralization_after', \\\n",
    "    'value': c_central, 'method': 'CCHVAE'}, ignore_index = True)\n",
    "result = result.append({'metric':'atkinson_after', \\\n",
    "    'value': c_atkinson, 'method': 'CCHVAE'}, ignore_index = True)\n",
    "result = result.append({'metric':'avgproxi_after', \\\n",
    "    'value': c_ap, 'method': 'CCHVAE'}, ignore_index = True)\n",
    "\n",
    "result = result.append({'metric':'inv_rate', \\\n",
    "    'value': inv_rate, 'method': 'CCHVAE'}, ignore_index = True)\n",
    "result = result.append({ 'metric':'recourse_cost', \\\n",
    "    'value': rec_cost,  'method': 'CCHVAE'}, ignore_index = True)\n",
    "result = result.append({ 'metric':'recourse_faircost', \\\n",
    "    'value': rec_fair,  'method': 'CCHVAE'}, ignore_index = True) \n",
    "result = result.append({ 'metric':'ynn', \\\n",
    "    'value': vynn,  'method': 'CCHVAE'}, ignore_index = True)             \n",
    "result.value = result.value.astype(float)"
   ]
  },
  {
   "cell_type": "code",
   "execution_count": 11,
   "id": "fbc6e41f",
   "metadata": {},
   "outputs": [
    {
     "data": {
      "text/html": [
       "<div>\n",
       "<style scoped>\n",
       "    .dataframe tbody tr th:only-of-type {\n",
       "        vertical-align: middle;\n",
       "    }\n",
       "\n",
       "    .dataframe tbody tr th {\n",
       "        vertical-align: top;\n",
       "    }\n",
       "\n",
       "    .dataframe thead th {\n",
       "        text-align: right;\n",
       "    }\n",
       "</style>\n",
       "<table border=\"1\" class=\"dataframe\">\n",
       "  <thead>\n",
       "    <tr style=\"text-align: right;\">\n",
       "      <th></th>\n",
       "      <th>metric</th>\n",
       "      <th>value</th>\n",
       "      <th>method</th>\n",
       "    </tr>\n",
       "  </thead>\n",
       "  <tbody>\n",
       "    <tr>\n",
       "      <th>0</th>\n",
       "      <td>centralization_pre</td>\n",
       "      <td>0.493056</td>\n",
       "      <td>None</td>\n",
       "    </tr>\n",
       "    <tr>\n",
       "      <th>1</th>\n",
       "      <td>atkinson_pre</td>\n",
       "      <td>0.797725</td>\n",
       "      <td>None</td>\n",
       "    </tr>\n",
       "    <tr>\n",
       "      <th>2</th>\n",
       "      <td>avgproxi_pre</td>\n",
       "      <td>0.662624</td>\n",
       "      <td>None</td>\n",
       "    </tr>\n",
       "    <tr>\n",
       "      <th>3</th>\n",
       "      <td>centralization_after</td>\n",
       "      <td>0.500000</td>\n",
       "      <td>Watcher</td>\n",
       "    </tr>\n",
       "    <tr>\n",
       "      <th>4</th>\n",
       "      <td>atkinson_after</td>\n",
       "      <td>0.823536</td>\n",
       "      <td>Watcher</td>\n",
       "    </tr>\n",
       "    <tr>\n",
       "      <th>5</th>\n",
       "      <td>avgproxi_after</td>\n",
       "      <td>0.735595</td>\n",
       "      <td>Watcher</td>\n",
       "    </tr>\n",
       "    <tr>\n",
       "      <th>6</th>\n",
       "      <td>inv_rate</td>\n",
       "      <td>0.000000</td>\n",
       "      <td>Watcher</td>\n",
       "    </tr>\n",
       "    <tr>\n",
       "      <th>7</th>\n",
       "      <td>recourse_cost</td>\n",
       "      <td>0.296403</td>\n",
       "      <td>Watcher</td>\n",
       "    </tr>\n",
       "    <tr>\n",
       "      <th>8</th>\n",
       "      <td>recourse_faircost</td>\n",
       "      <td>0.015337</td>\n",
       "      <td>Watcher</td>\n",
       "    </tr>\n",
       "    <tr>\n",
       "      <th>9</th>\n",
       "      <td>ynn</td>\n",
       "      <td>0.649492</td>\n",
       "      <td>Watcher</td>\n",
       "    </tr>\n",
       "    <tr>\n",
       "      <th>10</th>\n",
       "      <td>centralization_after</td>\n",
       "      <td>0.500000</td>\n",
       "      <td>CCHVAE</td>\n",
       "    </tr>\n",
       "    <tr>\n",
       "      <th>11</th>\n",
       "      <td>atkinson_after</td>\n",
       "      <td>0.984267</td>\n",
       "      <td>CCHVAE</td>\n",
       "    </tr>\n",
       "    <tr>\n",
       "      <th>12</th>\n",
       "      <td>avgproxi_after</td>\n",
       "      <td>0.729653</td>\n",
       "      <td>CCHVAE</td>\n",
       "    </tr>\n",
       "    <tr>\n",
       "      <th>13</th>\n",
       "      <td>inv_rate</td>\n",
       "      <td>0.000000</td>\n",
       "      <td>CCHVAE</td>\n",
       "    </tr>\n",
       "    <tr>\n",
       "      <th>14</th>\n",
       "      <td>recourse_cost</td>\n",
       "      <td>0.270499</td>\n",
       "      <td>CCHVAE</td>\n",
       "    </tr>\n",
       "    <tr>\n",
       "      <th>15</th>\n",
       "      <td>recourse_faircost</td>\n",
       "      <td>0.008486</td>\n",
       "      <td>CCHVAE</td>\n",
       "    </tr>\n",
       "    <tr>\n",
       "      <th>16</th>\n",
       "      <td>ynn</td>\n",
       "      <td>0.449492</td>\n",
       "      <td>CCHVAE</td>\n",
       "    </tr>\n",
       "  </tbody>\n",
       "</table>\n",
       "</div>"
      ],
      "text/plain": [
       "                  metric     value   method\n",
       "0     centralization_pre  0.493056     None\n",
       "1           atkinson_pre  0.797725     None\n",
       "2           avgproxi_pre  0.662624     None\n",
       "3   centralization_after  0.500000  Watcher\n",
       "4         atkinson_after  0.823536  Watcher\n",
       "5         avgproxi_after  0.735595  Watcher\n",
       "6               inv_rate  0.000000  Watcher\n",
       "7          recourse_cost  0.296403  Watcher\n",
       "8      recourse_faircost  0.015337  Watcher\n",
       "9                    ynn  0.649492  Watcher\n",
       "10  centralization_after  0.500000   CCHVAE\n",
       "11        atkinson_after  0.984267   CCHVAE\n",
       "12        avgproxi_after  0.729653   CCHVAE\n",
       "13              inv_rate  0.000000   CCHVAE\n",
       "14         recourse_cost  0.270499   CCHVAE\n",
       "15     recourse_faircost  0.008486   CCHVAE\n",
       "16                   ynn  0.449492   CCHVAE"
      ]
     },
     "execution_count": 11,
     "metadata": {},
     "output_type": "execute_result"
    }
   ],
   "source": [
    "result "
   ]
  },
  {
   "cell_type": "markdown",
   "id": "8fbf2a51",
   "metadata": {},
   "source": [
    "# CRUD "
   ]
  },
  {
   "cell_type": "code",
   "execution_count": 12,
   "id": "d5156b94",
   "metadata": {},
   "outputs": [
    {
     "name": "stdout",
     "output_type": "stream",
     "text": [
      "[INFO] Start training of CSVAE... [csvae.py fit]\n"
     ]
    },
    {
     "name": "stderr",
     "output_type": "stream",
     "text": [
      "\r",
      "  0%|          | 0/200 [00:00<?, ?it/s]"
     ]
    },
    {
     "name": "stdout",
     "output_type": "stream",
     "text": [
      "[INFO] epoch 0: x recon loss: 0.04929013766348362 [csvae.py fit]\n",
      "[INFO] epoch 0: y recon loss: 26.446859664916992 [csvae.py fit]\n"
     ]
    },
    {
     "name": "stderr",
     "output_type": "stream",
     "text": [
      "\r",
      "  0%|          | 1/200 [00:00<01:11,  2.79it/s]"
     ]
    },
    {
     "name": "stdout",
     "output_type": "stream",
     "text": [
      "[INFO] epoch 1: x recon loss: 0.04030098736286163 [csvae.py fit]\n",
      "[INFO] epoch 1: y recon loss: 26.978156242370606 [csvae.py fit]\n"
     ]
    },
    {
     "name": "stderr",
     "output_type": "stream",
     "text": [
      "\r",
      "  1%|          | 2/200 [00:00<01:08,  2.89it/s]"
     ]
    },
    {
     "name": "stdout",
     "output_type": "stream",
     "text": [
      "[INFO] epoch 2: x recon loss: 0.036686557034651436 [csvae.py fit]\n",
      "[INFO] epoch 2: y recon loss: 26.809688644409178 [csvae.py fit]\n"
     ]
    },
    {
     "name": "stderr",
     "output_type": "stream",
     "text": [
      "\r",
      "  2%|▏         | 3/200 [00:01<01:12,  2.72it/s]"
     ]
    },
    {
     "name": "stdout",
     "output_type": "stream",
     "text": [
      "[INFO] epoch 3: x recon loss: 0.03459237528964877 [csvae.py fit]\n",
      "[INFO] epoch 3: y recon loss: 26.803582153320313 [csvae.py fit]\n"
     ]
    },
    {
     "name": "stderr",
     "output_type": "stream",
     "text": [
      "\r",
      "  2%|▏         | 4/200 [00:01<01:19,  2.45it/s]"
     ]
    },
    {
     "name": "stdout",
     "output_type": "stream",
     "text": [
      "[INFO] epoch 4: x recon loss: 0.03340922211110592 [csvae.py fit]\n",
      "[INFO] epoch 4: y recon loss: 26.76931948852539 [csvae.py fit]\n"
     ]
    },
    {
     "name": "stderr",
     "output_type": "stream",
     "text": [
      "\r",
      "  2%|▎         | 5/200 [00:01<01:09,  2.81it/s]"
     ]
    },
    {
     "name": "stdout",
     "output_type": "stream",
     "text": [
      "[INFO] epoch 5: x recon loss: 0.03195051986724138 [csvae.py fit]\n",
      "[INFO] epoch 5: y recon loss: 26.735977770487466 [csvae.py fit]\n"
     ]
    },
    {
     "name": "stderr",
     "output_type": "stream",
     "text": [
      "\r",
      "  3%|▎         | 6/200 [00:02<01:01,  3.14it/s]"
     ]
    },
    {
     "name": "stdout",
     "output_type": "stream",
     "text": [
      "[INFO] epoch 6: x recon loss: 0.030619474346084256 [csvae.py fit]\n",
      "[INFO] epoch 6: y recon loss: 26.71831417628697 [csvae.py fit]\n"
     ]
    },
    {
     "name": "stderr",
     "output_type": "stream",
     "text": [
      "\r",
      "  4%|▎         | 7/200 [00:02<01:00,  3.20it/s]"
     ]
    },
    {
     "name": "stdout",
     "output_type": "stream",
     "text": [
      "[INFO] epoch 7: x recon loss: 0.028856432950124144 [csvae.py fit]\n",
      "[INFO] epoch 7: y recon loss: 26.690259246826173 [csvae.py fit]\n"
     ]
    },
    {
     "name": "stderr",
     "output_type": "stream",
     "text": [
      "\r",
      "  4%|▍         | 8/200 [00:02<01:08,  2.78it/s]"
     ]
    },
    {
     "name": "stdout",
     "output_type": "stream",
     "text": [
      "[INFO] epoch 8: x recon loss: 0.02688409690020813 [csvae.py fit]\n",
      "[INFO] epoch 8: y recon loss: 26.68772541469998 [csvae.py fit]\n"
     ]
    },
    {
     "name": "stderr",
     "output_type": "stream",
     "text": [
      "\r",
      "  4%|▍         | 9/200 [00:03<01:10,  2.69it/s]"
     ]
    },
    {
     "name": "stdout",
     "output_type": "stream",
     "text": [
      "[INFO] epoch 9: x recon loss: 0.025049670098349453 [csvae.py fit]\n",
      "[INFO] epoch 9: y recon loss: 26.684697143554686 [csvae.py fit]\n"
     ]
    },
    {
     "name": "stderr",
     "output_type": "stream",
     "text": [
      "\r",
      "  5%|▌         | 10/200 [00:03<01:07,  2.83it/s]"
     ]
    },
    {
     "name": "stdout",
     "output_type": "stream",
     "text": [
      "[INFO] epoch 10: x recon loss: 0.023341339785944333 [csvae.py fit]\n",
      "[INFO] epoch 10: y recon loss: 26.672344367287376 [csvae.py fit]\n"
     ]
    },
    {
     "name": "stderr",
     "output_type": "stream",
     "text": [
      "\r",
      "  6%|▌         | 11/200 [00:03<01:00,  3.10it/s]"
     ]
    },
    {
     "name": "stdout",
     "output_type": "stream",
     "text": [
      "[INFO] epoch 11: x recon loss: 0.021890519578009845 [csvae.py fit]\n",
      "[INFO] epoch 11: y recon loss: 26.66126034418742 [csvae.py fit]\n"
     ]
    },
    {
     "name": "stderr",
     "output_type": "stream",
     "text": [
      "\r",
      "  6%|▌         | 12/200 [00:04<00:57,  3.27it/s]"
     ]
    },
    {
     "name": "stdout",
     "output_type": "stream",
     "text": [
      "[INFO] epoch 12: x recon loss: 0.020715669561177492 [csvae.py fit]\n",
      "[INFO] epoch 12: y recon loss: 26.647933197021484 [csvae.py fit]\n"
     ]
    },
    {
     "name": "stderr",
     "output_type": "stream",
     "text": [
      "\r",
      "  6%|▋         | 13/200 [00:04<00:55,  3.38it/s]"
     ]
    },
    {
     "name": "stdout",
     "output_type": "stream",
     "text": [
      "[INFO] epoch 13: x recon loss: 0.019672829368417816 [csvae.py fit]\n",
      "[INFO] epoch 13: y recon loss: 26.64086879185268 [csvae.py fit]\n"
     ]
    },
    {
     "name": "stderr",
     "output_type": "stream",
     "text": [
      "\r",
      "  7%|▋         | 14/200 [00:04<00:53,  3.46it/s]"
     ]
    },
    {
     "name": "stdout",
     "output_type": "stream",
     "text": [
      "[INFO] epoch 14: x recon loss: 0.01877391028838853 [csvae.py fit]\n",
      "[INFO] epoch 14: y recon loss: 26.64199889119466 [csvae.py fit]\n"
     ]
    },
    {
     "name": "stderr",
     "output_type": "stream",
     "text": [
      "\r",
      "  8%|▊         | 15/200 [00:04<00:53,  3.49it/s]"
     ]
    },
    {
     "name": "stdout",
     "output_type": "stream",
     "text": [
      "[INFO] epoch 15: x recon loss: 0.01797947097744327 [csvae.py fit]\n",
      "[INFO] epoch 15: y recon loss: 26.639647245407104 [csvae.py fit]\n"
     ]
    },
    {
     "name": "stderr",
     "output_type": "stream",
     "text": [
      "\r",
      "  8%|▊         | 16/200 [00:05<00:51,  3.54it/s]"
     ]
    },
    {
     "name": "stdout",
     "output_type": "stream",
     "text": [
      "[INFO] epoch 16: x recon loss: 0.01730279359692598 [csvae.py fit]\n",
      "[INFO] epoch 16: y recon loss: 26.63916405172909 [csvae.py fit]\n"
     ]
    },
    {
     "name": "stderr",
     "output_type": "stream",
     "text": [
      "\r",
      "  8%|▊         | 17/200 [00:05<00:51,  3.58it/s]"
     ]
    },
    {
     "name": "stdout",
     "output_type": "stream",
     "text": [
      "[INFO] epoch 17: x recon loss: 0.01665613426723414 [csvae.py fit]\n",
      "[INFO] epoch 17: y recon loss: 26.639976959228516 [csvae.py fit]\n"
     ]
    },
    {
     "name": "stderr",
     "output_type": "stream",
     "text": [
      "\r",
      "  9%|▉         | 18/200 [00:05<00:51,  3.55it/s]"
     ]
    },
    {
     "name": "stdout",
     "output_type": "stream",
     "text": [
      "[INFO] epoch 18: x recon loss: 0.01607712469749937 [csvae.py fit]\n",
      "[INFO] epoch 18: y recon loss: 26.631775962428044 [csvae.py fit]\n"
     ]
    },
    {
     "name": "stderr",
     "output_type": "stream",
     "text": [
      "\r",
      " 10%|▉         | 19/200 [00:06<00:51,  3.50it/s]"
     ]
    },
    {
     "name": "stdout",
     "output_type": "stream",
     "text": [
      "[INFO] epoch 19: x recon loss: 0.015578582265414297 [csvae.py fit]\n",
      "[INFO] epoch 19: y recon loss: 26.628388217926027 [csvae.py fit]\n"
     ]
    },
    {
     "name": "stderr",
     "output_type": "stream",
     "text": [
      "\r",
      " 10%|█         | 20/200 [00:06<00:50,  3.58it/s]"
     ]
    },
    {
     "name": "stdout",
     "output_type": "stream",
     "text": [
      "[INFO] epoch 20: x recon loss: 0.01508828078307921 [csvae.py fit]\n",
      "[INFO] epoch 20: y recon loss: 26.62631295703706 [csvae.py fit]\n"
     ]
    },
    {
     "name": "stderr",
     "output_type": "stream",
     "text": [
      "\r",
      " 10%|█         | 21/200 [00:06<00:48,  3.69it/s]"
     ]
    },
    {
     "name": "stdout",
     "output_type": "stream",
     "text": [
      "[INFO] epoch 21: x recon loss: 0.014651348225941713 [csvae.py fit]\n",
      "[INFO] epoch 21: y recon loss: 26.63115536776456 [csvae.py fit]\n"
     ]
    },
    {
     "name": "stderr",
     "output_type": "stream",
     "text": [
      "\r",
      " 11%|█         | 22/200 [00:06<00:46,  3.86it/s]"
     ]
    },
    {
     "name": "stdout",
     "output_type": "stream",
     "text": [
      "[INFO] epoch 22: x recon loss: 0.014269319086781014 [csvae.py fit]\n",
      "[INFO] epoch 22: y recon loss: 26.633063142195994 [csvae.py fit]\n"
     ]
    },
    {
     "name": "stderr",
     "output_type": "stream",
     "text": [
      "\r",
      " 12%|█▏        | 23/200 [00:06<00:42,  4.13it/s]"
     ]
    },
    {
     "name": "stdout",
     "output_type": "stream",
     "text": [
      "[INFO] epoch 23: x recon loss: 0.013917134857426088 [csvae.py fit]\n",
      "[INFO] epoch 23: y recon loss: 26.64146609624227 [csvae.py fit]\n"
     ]
    },
    {
     "name": "stderr",
     "output_type": "stream",
     "text": [
      "\r",
      " 12%|█▏        | 24/200 [00:07<00:42,  4.13it/s]"
     ]
    },
    {
     "name": "stdout",
     "output_type": "stream",
     "text": [
      "[INFO] epoch 24: x recon loss: 0.013577025894075632 [csvae.py fit]\n",
      "[INFO] epoch 24: y recon loss: 26.64044339904785 [csvae.py fit]\n"
     ]
    },
    {
     "name": "stderr",
     "output_type": "stream",
     "text": [
      "\r",
      " 12%|█▎        | 25/200 [00:07<00:41,  4.24it/s]"
     ]
    },
    {
     "name": "stdout",
     "output_type": "stream",
     "text": [
      "[INFO] epoch 25: x recon loss: 0.013282189880354473 [csvae.py fit]\n",
      "[INFO] epoch 25: y recon loss: 26.64127137404222 [csvae.py fit]\n"
     ]
    },
    {
     "name": "stderr",
     "output_type": "stream",
     "text": [
      "\r",
      " 13%|█▎        | 26/200 [00:07<00:40,  4.32it/s]"
     ]
    },
    {
     "name": "stdout",
     "output_type": "stream",
     "text": [
      "[INFO] epoch 26: x recon loss: 0.013001335218065867 [csvae.py fit]\n",
      "[INFO] epoch 26: y recon loss: 26.641473993372035 [csvae.py fit]\n"
     ]
    },
    {
     "name": "stderr",
     "output_type": "stream",
     "text": [
      "\r",
      " 14%|█▎        | 27/200 [00:07<00:41,  4.21it/s]"
     ]
    },
    {
     "name": "stdout",
     "output_type": "stream",
     "text": [
      "[INFO] epoch 27: x recon loss: 0.012739101099848216 [csvae.py fit]\n",
      "[INFO] epoch 27: y recon loss: 26.638470769609725 [csvae.py fit]\n"
     ]
    },
    {
     "name": "stderr",
     "output_type": "stream",
     "text": [
      "\r",
      " 14%|█▍        | 28/200 [00:08<00:39,  4.31it/s]"
     ]
    },
    {
     "name": "stdout",
     "output_type": "stream",
     "text": [
      "[INFO] epoch 28: x recon loss: 0.012470642183746758 [csvae.py fit]\n",
      "[INFO] epoch 28: y recon loss: 26.635043708538188 [csvae.py fit]\n"
     ]
    },
    {
     "name": "stderr",
     "output_type": "stream",
     "text": [
      "\r",
      " 14%|█▍        | 29/200 [00:08<00:40,  4.18it/s]"
     ]
    },
    {
     "name": "stdout",
     "output_type": "stream",
     "text": [
      "[INFO] epoch 29: x recon loss: 0.012237566038034857 [csvae.py fit]\n",
      "[INFO] epoch 29: y recon loss: 26.63794533030192 [csvae.py fit]\n"
     ]
    },
    {
     "name": "stderr",
     "output_type": "stream",
     "text": [
      "\r",
      " 15%|█▌        | 30/200 [00:08<00:41,  4.13it/s]"
     ]
    },
    {
     "name": "stdout",
     "output_type": "stream",
     "text": [
      "[INFO] epoch 30: x recon loss: 0.012020325697357616 [csvae.py fit]\n",
      "[INFO] epoch 30: y recon loss: 26.64139738267468 [csvae.py fit]\n"
     ]
    },
    {
     "name": "stderr",
     "output_type": "stream",
     "text": [
      "\r",
      " 16%|█▌        | 31/200 [00:08<00:41,  4.07it/s]"
     ]
    },
    {
     "name": "stdout",
     "output_type": "stream",
     "text": [
      "[INFO] epoch 31: x recon loss: 0.011803569423500448 [csvae.py fit]\n",
      "[INFO] epoch 31: y recon loss: 26.642855916023255 [csvae.py fit]\n"
     ]
    },
    {
     "name": "stderr",
     "output_type": "stream",
     "text": [
      "\r",
      " 16%|█▌        | 32/200 [00:09<00:43,  3.87it/s]"
     ]
    },
    {
     "name": "stdout",
     "output_type": "stream",
     "text": [
      "[INFO] epoch 32: x recon loss: 0.01160051771975828 [csvae.py fit]\n",
      "[INFO] epoch 32: y recon loss: 26.641340778235232 [csvae.py fit]\n"
     ]
    },
    {
     "name": "stderr",
     "output_type": "stream",
     "text": [
      "\r",
      " 16%|█▋        | 33/200 [00:09<00:46,  3.57it/s]"
     ]
    },
    {
     "name": "stdout",
     "output_type": "stream",
     "text": [
      "[INFO] epoch 33: x recon loss: 0.011416586634483845 [csvae.py fit]\n",
      "[INFO] epoch 33: y recon loss: 26.642021771599264 [csvae.py fit]\n"
     ]
    },
    {
     "name": "stderr",
     "output_type": "stream",
     "text": [
      "\r",
      " 17%|█▋        | 34/200 [00:09<00:44,  3.70it/s]"
     ]
    },
    {
     "name": "stdout",
     "output_type": "stream",
     "text": [
      "[INFO] epoch 34: x recon loss: 0.01125174134570573 [csvae.py fit]\n",
      "[INFO] epoch 34: y recon loss: 26.644430147443497 [csvae.py fit]\n"
     ]
    },
    {
     "name": "stderr",
     "output_type": "stream",
     "text": [
      "\r",
      " 18%|█▊        | 35/200 [00:09<00:43,  3.83it/s]"
     ]
    },
    {
     "name": "stdout",
     "output_type": "stream",
     "text": [
      "[INFO] epoch 35: x recon loss: 0.011103803483096676 [csvae.py fit]\n",
      "[INFO] epoch 35: y recon loss: 26.645645429823134 [csvae.py fit]\n"
     ]
    },
    {
     "name": "stderr",
     "output_type": "stream",
     "text": [
      "\r",
      " 18%|█▊        | 36/200 [00:10<00:41,  3.97it/s]"
     ]
    },
    {
     "name": "stdout",
     "output_type": "stream",
     "text": [
      "[INFO] epoch 36: x recon loss: 0.010959587907670317 [csvae.py fit]\n",
      "[INFO] epoch 36: y recon loss: 26.645615335412927 [csvae.py fit]\n"
     ]
    },
    {
     "name": "stderr",
     "output_type": "stream",
     "text": [
      "\r",
      " 18%|█▊        | 37/200 [00:10<00:41,  3.97it/s]"
     ]
    },
    {
     "name": "stdout",
     "output_type": "stream",
     "text": [
      "[INFO] epoch 37: x recon loss: 0.010818704352223952 [csvae.py fit]\n",
      "[INFO] epoch 37: y recon loss: 26.646749954223633 [csvae.py fit]\n"
     ]
    },
    {
     "name": "stderr",
     "output_type": "stream",
     "text": [
      "\r",
      " 19%|█▉        | 38/200 [00:10<00:41,  3.90it/s]"
     ]
    },
    {
     "name": "stdout",
     "output_type": "stream",
     "text": [
      "[INFO] epoch 38: x recon loss: 0.010686213442673669 [csvae.py fit]\n",
      "[INFO] epoch 38: y recon loss: 26.646829002575995 [csvae.py fit]\n"
     ]
    },
    {
     "name": "stderr",
     "output_type": "stream",
     "text": [
      "\r",
      " 20%|█▉        | 39/200 [00:10<00:41,  3.87it/s]"
     ]
    },
    {
     "name": "stdout",
     "output_type": "stream",
     "text": [
      "[INFO] epoch 39: x recon loss: 0.010555218879366293 [csvae.py fit]\n",
      "[INFO] epoch 39: y recon loss: 26.64741015625 [csvae.py fit]\n"
     ]
    },
    {
     "name": "stderr",
     "output_type": "stream",
     "text": [
      "\r",
      " 20%|██        | 40/200 [00:11<00:39,  4.02it/s]"
     ]
    },
    {
     "name": "stdout",
     "output_type": "stream",
     "text": [
      "[INFO] epoch 40: x recon loss: 0.010424712822749847 [csvae.py fit]\n",
      "[INFO] epoch 40: y recon loss: 26.648736760209246 [csvae.py fit]\n"
     ]
    },
    {
     "name": "stderr",
     "output_type": "stream",
     "text": [
      "\r",
      " 20%|██        | 41/200 [00:11<00:39,  4.05it/s]"
     ]
    },
    {
     "name": "stdout",
     "output_type": "stream",
     "text": [
      "[INFO] epoch 41: x recon loss: 0.010301950979046523 [csvae.py fit]\n",
      "[INFO] epoch 41: y recon loss: 26.649405517578124 [csvae.py fit]\n"
     ]
    },
    {
     "name": "stderr",
     "output_type": "stream",
     "text": [
      "\r",
      " 21%|██        | 42/200 [00:11<00:39,  4.04it/s]"
     ]
    },
    {
     "name": "stdout",
     "output_type": "stream",
     "text": [
      "[INFO] epoch 42: x recon loss: 0.010191300513959209 [csvae.py fit]\n",
      "[INFO] epoch 42: y recon loss: 26.648872043698333 [csvae.py fit]\n"
     ]
    },
    {
     "name": "stderr",
     "output_type": "stream",
     "text": [
      "\r",
      " 22%|██▏       | 43/200 [00:11<00:39,  3.97it/s]"
     ]
    },
    {
     "name": "stdout",
     "output_type": "stream",
     "text": [
      "[INFO] epoch 43: x recon loss: 0.010077082471583378 [csvae.py fit]\n",
      "[INFO] epoch 43: y recon loss: 26.651152272657914 [csvae.py fit]\n"
     ]
    },
    {
     "name": "stderr",
     "output_type": "stream",
     "text": [
      "\r",
      " 22%|██▏       | 44/200 [00:12<00:39,  3.98it/s]"
     ]
    },
    {
     "name": "stdout",
     "output_type": "stream",
     "text": [
      "[INFO] epoch 44: x recon loss: 0.009964522219366497 [csvae.py fit]\n",
      "[INFO] epoch 44: y recon loss: 26.651624264187284 [csvae.py fit]\n"
     ]
    },
    {
     "name": "stderr",
     "output_type": "stream",
     "text": [
      "\r",
      " 22%|██▎       | 45/200 [00:12<00:39,  3.96it/s]"
     ]
    },
    {
     "name": "stdout",
     "output_type": "stream",
     "text": [
      "[INFO] epoch 45: x recon loss: 0.009859151355314838 [csvae.py fit]\n",
      "[INFO] epoch 45: y recon loss: 26.64894953354545 [csvae.py fit]\n"
     ]
    },
    {
     "name": "stderr",
     "output_type": "stream",
     "text": [
      "\r",
      " 23%|██▎       | 46/200 [00:12<00:39,  3.93it/s]"
     ]
    },
    {
     "name": "stdout",
     "output_type": "stream",
     "text": [
      "[INFO] epoch 46: x recon loss: 0.009756846569002943 [csvae.py fit]\n",
      "[INFO] epoch 46: y recon loss: 26.651199197972076 [csvae.py fit]\n"
     ]
    },
    {
     "name": "stderr",
     "output_type": "stream",
     "text": [
      "\r",
      " 24%|██▎       | 47/200 [00:12<00:38,  3.95it/s]"
     ]
    },
    {
     "name": "stdout",
     "output_type": "stream",
     "text": [
      "[INFO] epoch 47: x recon loss: 0.009663182069586279 [csvae.py fit]\n",
      "[INFO] epoch 47: y recon loss: 26.652765661875407 [csvae.py fit]\n"
     ]
    },
    {
     "name": "stderr",
     "output_type": "stream",
     "text": [
      "\r",
      " 24%|██▍       | 48/200 [00:13<00:38,  3.98it/s]"
     ]
    },
    {
     "name": "stdout",
     "output_type": "stream",
     "text": [
      "[INFO] epoch 48: x recon loss: 0.009571877704857259 [csvae.py fit]\n",
      "[INFO] epoch 48: y recon loss: 26.651996176583427 [csvae.py fit]\n"
     ]
    },
    {
     "name": "stderr",
     "output_type": "stream",
     "text": [
      "\r",
      " 24%|██▍       | 49/200 [00:13<00:37,  3.98it/s]"
     ]
    },
    {
     "name": "stdout",
     "output_type": "stream",
     "text": [
      "[INFO] epoch 49: x recon loss: 0.009486281793564559 [csvae.py fit]\n",
      "[INFO] epoch 49: y recon loss: 26.650317520141602 [csvae.py fit]\n"
     ]
    },
    {
     "name": "stderr",
     "output_type": "stream",
     "text": [
      "\r",
      " 25%|██▌       | 50/200 [00:13<00:37,  4.00it/s]"
     ]
    },
    {
     "name": "stdout",
     "output_type": "stream",
     "text": [
      "[INFO] epoch 50: x recon loss: 0.00940025100539274 [csvae.py fit]\n",
      "[INFO] epoch 50: y recon loss: 26.650660222371418 [csvae.py fit]\n"
     ]
    },
    {
     "name": "stderr",
     "output_type": "stream",
     "text": [
      "\r",
      " 26%|██▌       | 51/200 [00:13<00:36,  4.03it/s]"
     ]
    },
    {
     "name": "stdout",
     "output_type": "stream",
     "text": [
      "[INFO] epoch 51: x recon loss: 0.009315731307993142 [csvae.py fit]\n",
      "[INFO] epoch 51: y recon loss: 26.65027976843027 [csvae.py fit]\n"
     ]
    },
    {
     "name": "stderr",
     "output_type": "stream",
     "text": [
      "\r",
      " 26%|██▌       | 52/200 [00:14<00:37,  3.93it/s]"
     ]
    },
    {
     "name": "stdout",
     "output_type": "stream",
     "text": [
      "[INFO] epoch 52: x recon loss: 0.009236292648217025 [csvae.py fit]\n",
      "[INFO] epoch 52: y recon loss: 26.650436218549622 [csvae.py fit]\n"
     ]
    },
    {
     "name": "stderr",
     "output_type": "stream",
     "text": [
      "\r",
      " 26%|██▋       | 53/200 [00:14<00:37,  3.96it/s]"
     ]
    },
    {
     "name": "stdout",
     "output_type": "stream",
     "text": [
      "[INFO] epoch 53: x recon loss: 0.00915849586431351 [csvae.py fit]\n",
      "[INFO] epoch 53: y recon loss: 26.650228455154984 [csvae.py fit]\n"
     ]
    },
    {
     "name": "stderr",
     "output_type": "stream",
     "text": [
      "\r",
      " 27%|██▋       | 54/200 [00:14<00:37,  3.93it/s]"
     ]
    },
    {
     "name": "stdout",
     "output_type": "stream",
     "text": [
      "[INFO] epoch 54: x recon loss: 0.009091605978425253 [csvae.py fit]\n",
      "[INFO] epoch 54: y recon loss: 26.65191743330522 [csvae.py fit]\n"
     ]
    },
    {
     "name": "stderr",
     "output_type": "stream",
     "text": [
      "\r",
      " 28%|██▊       | 55/200 [00:15<00:37,  3.86it/s]"
     ]
    },
    {
     "name": "stdout",
     "output_type": "stream",
     "text": [
      "[INFO] epoch 55: x recon loss: 0.009023727888041842 [csvae.py fit]\n",
      "[INFO] epoch 55: y recon loss: 26.651433259419033 [csvae.py fit]\n"
     ]
    },
    {
     "name": "stderr",
     "output_type": "stream",
     "text": [
      "\r",
      " 28%|██▊       | 56/200 [00:15<00:37,  3.83it/s]"
     ]
    },
    {
     "name": "stdout",
     "output_type": "stream",
     "text": [
      "[INFO] epoch 56: x recon loss: 0.008957603695851407 [csvae.py fit]\n",
      "[INFO] epoch 56: y recon loss: 26.650798812330816 [csvae.py fit]\n"
     ]
    },
    {
     "name": "stderr",
     "output_type": "stream",
     "text": [
      "\r",
      " 28%|██▊       | 57/200 [00:15<00:36,  3.89it/s]"
     ]
    },
    {
     "name": "stdout",
     "output_type": "stream",
     "text": [
      "[INFO] epoch 57: x recon loss: 0.008888636597689112 [csvae.py fit]\n",
      "[INFO] epoch 57: y recon loss: 26.650224917181607 [csvae.py fit]\n"
     ]
    },
    {
     "name": "stderr",
     "output_type": "stream",
     "text": [
      "\r",
      " 29%|██▉       | 58/200 [00:15<00:36,  3.94it/s]"
     ]
    },
    {
     "name": "stdout",
     "output_type": "stream",
     "text": [
      "[INFO] epoch 58: x recon loss: 0.008824279023239673 [csvae.py fit]\n",
      "[INFO] epoch 58: y recon loss: 26.650792847972806 [csvae.py fit]\n"
     ]
    },
    {
     "name": "stderr",
     "output_type": "stream",
     "text": [
      "\r",
      " 30%|██▉       | 59/200 [00:16<00:35,  4.01it/s]"
     ]
    },
    {
     "name": "stdout",
     "output_type": "stream",
     "text": [
      "[INFO] epoch 59: x recon loss: 0.008757650633032124 [csvae.py fit]\n",
      "[INFO] epoch 59: y recon loss: 26.650771773020427 [csvae.py fit]\n"
     ]
    },
    {
     "name": "stderr",
     "output_type": "stream",
     "text": [
      "\r",
      " 30%|███       | 60/200 [00:16<00:34,  4.06it/s]"
     ]
    },
    {
     "name": "stdout",
     "output_type": "stream",
     "text": [
      "[INFO] epoch 60: x recon loss: 0.008693440340489881 [csvae.py fit]\n",
      "[INFO] epoch 60: y recon loss: 26.65117281053887 [csvae.py fit]\n"
     ]
    },
    {
     "name": "stderr",
     "output_type": "stream",
     "text": [
      "\r",
      " 30%|███       | 61/200 [00:16<00:33,  4.09it/s]"
     ]
    },
    {
     "name": "stdout",
     "output_type": "stream",
     "text": [
      "[INFO] epoch 61: x recon loss: 0.008635150888003408 [csvae.py fit]\n",
      "[INFO] epoch 61: y recon loss: 26.652061731892246 [csvae.py fit]\n"
     ]
    },
    {
     "name": "stderr",
     "output_type": "stream",
     "text": [
      "\r",
      " 31%|███       | 62/200 [00:16<00:33,  4.11it/s]"
     ]
    },
    {
     "name": "stdout",
     "output_type": "stream",
     "text": [
      "[INFO] epoch 62: x recon loss: 0.008597849107805698 [csvae.py fit]\n",
      "[INFO] epoch 62: y recon loss: 26.65376420157296 [csvae.py fit]\n"
     ]
    },
    {
     "name": "stderr",
     "output_type": "stream",
     "text": [
      "\r",
      " 32%|███▏      | 63/200 [00:16<00:33,  4.14it/s]"
     ]
    },
    {
     "name": "stdout",
     "output_type": "stream",
     "text": [
      "[INFO] epoch 63: x recon loss: 0.008552507843851344 [csvae.py fit]\n",
      "[INFO] epoch 63: y recon loss: 26.653304561376572 [csvae.py fit]\n"
     ]
    },
    {
     "name": "stderr",
     "output_type": "stream",
     "text": [
      "\r",
      " 32%|███▏      | 64/200 [00:17<00:32,  4.16it/s]"
     ]
    },
    {
     "name": "stdout",
     "output_type": "stream",
     "text": [
      "[INFO] epoch 64: x recon loss: 0.008498045599661195 [csvae.py fit]\n",
      "[INFO] epoch 64: y recon loss: 26.65399423100398 [csvae.py fit]\n"
     ]
    },
    {
     "name": "stderr",
     "output_type": "stream",
     "text": [
      "\r",
      " 32%|███▎      | 65/200 [00:17<00:32,  4.11it/s]"
     ]
    },
    {
     "name": "stdout",
     "output_type": "stream",
     "text": [
      "[INFO] epoch 65: x recon loss: 0.008444169555706057 [csvae.py fit]\n",
      "[INFO] epoch 65: y recon loss: 26.65283912080707 [csvae.py fit]\n"
     ]
    },
    {
     "name": "stderr",
     "output_type": "stream",
     "text": [
      "\r",
      " 33%|███▎      | 66/200 [00:17<00:32,  4.10it/s]"
     ]
    },
    {
     "name": "stdout",
     "output_type": "stream",
     "text": [
      "[INFO] epoch 66: x recon loss: 0.008392231416985838 [csvae.py fit]\n",
      "[INFO] epoch 66: y recon loss: 26.654110899967932 [csvae.py fit]\n"
     ]
    },
    {
     "name": "stderr",
     "output_type": "stream",
     "text": [
      "\r",
      " 34%|███▎      | 67/200 [00:17<00:33,  3.99it/s]"
     ]
    },
    {
     "name": "stdout",
     "output_type": "stream",
     "text": [
      "[INFO] epoch 67: x recon loss: 0.008343013784135966 [csvae.py fit]\n",
      "[INFO] epoch 67: y recon loss: 26.653721146303063 [csvae.py fit]\n"
     ]
    },
    {
     "name": "stderr",
     "output_type": "stream",
     "text": [
      "\r",
      " 34%|███▍      | 68/200 [00:18<00:33,  3.89it/s]"
     ]
    },
    {
     "name": "stdout",
     "output_type": "stream",
     "text": [
      "[INFO] epoch 68: x recon loss: 0.008290908521554176 [csvae.py fit]\n",
      "[INFO] epoch 68: y recon loss: 26.653696673849353 [csvae.py fit]\n"
     ]
    },
    {
     "name": "stderr",
     "output_type": "stream",
     "text": [
      "\r",
      " 34%|███▍      | 69/200 [00:18<00:32,  4.09it/s]"
     ]
    },
    {
     "name": "stdout",
     "output_type": "stream",
     "text": [
      "[INFO] epoch 69: x recon loss: 0.008245527583174407 [csvae.py fit]\n",
      "[INFO] epoch 69: y recon loss: 26.65308303615025 [csvae.py fit]\n"
     ]
    },
    {
     "name": "stderr",
     "output_type": "stream",
     "text": [
      "\r",
      " 35%|███▌      | 70/200 [00:18<00:33,  3.86it/s]"
     ]
    },
    {
     "name": "stdout",
     "output_type": "stream",
     "text": [
      "[INFO] epoch 70: x recon loss: 0.008201588915634743 [csvae.py fit]\n",
      "[INFO] epoch 70: y recon loss: 26.65381837549344 [csvae.py fit]\n"
     ]
    },
    {
     "name": "stderr",
     "output_type": "stream",
     "text": [
      "\r",
      " 36%|███▌      | 71/200 [00:18<00:32,  3.97it/s]"
     ]
    },
    {
     "name": "stdout",
     "output_type": "stream",
     "text": [
      "[INFO] epoch 71: x recon loss: 0.00816300241729348 [csvae.py fit]\n",
      "[INFO] epoch 71: y recon loss: 26.654391729566786 [csvae.py fit]\n"
     ]
    },
    {
     "name": "stderr",
     "output_type": "stream",
     "text": [
      "\r",
      " 36%|███▌      | 72/200 [00:19<00:31,  4.08it/s]"
     ]
    },
    {
     "name": "stdout",
     "output_type": "stream",
     "text": [
      "[INFO] epoch 72: x recon loss: 0.00811966363531984 [csvae.py fit]\n",
      "[INFO] epoch 72: y recon loss: 26.65365620025217 [csvae.py fit]\n"
     ]
    },
    {
     "name": "stderr",
     "output_type": "stream",
     "text": [
      "\r",
      " 36%|███▋      | 73/200 [00:19<00:30,  4.12it/s]"
     ]
    },
    {
     "name": "stdout",
     "output_type": "stream",
     "text": [
      "[INFO] epoch 73: x recon loss: 0.00807515535994458 [csvae.py fit]\n",
      "[INFO] epoch 73: y recon loss: 26.654479712408943 [csvae.py fit]\n"
     ]
    },
    {
     "name": "stderr",
     "output_type": "stream",
     "text": [
      "\r",
      " 37%|███▋      | 74/200 [00:19<00:30,  4.15it/s]"
     ]
    },
    {
     "name": "stdout",
     "output_type": "stream",
     "text": [
      "[INFO] epoch 74: x recon loss: 0.00803053546945254 [csvae.py fit]\n",
      "[INFO] epoch 74: y recon loss: 26.65495863647461 [csvae.py fit]\n"
     ]
    },
    {
     "name": "stderr",
     "output_type": "stream",
     "text": [
      "\r",
      " 38%|███▊      | 75/200 [00:19<00:31,  3.94it/s]"
     ]
    },
    {
     "name": "stdout",
     "output_type": "stream",
     "text": [
      "[INFO] epoch 75: x recon loss: 0.007987911793967023 [csvae.py fit]\n",
      "[INFO] epoch 75: y recon loss: 26.655526219418174 [csvae.py fit]\n"
     ]
    },
    {
     "name": "stderr",
     "output_type": "stream",
     "text": [
      "\r",
      " 38%|███▊      | 76/200 [00:20<00:31,  4.00it/s]"
     ]
    },
    {
     "name": "stdout",
     "output_type": "stream",
     "text": [
      "[INFO] epoch 76: x recon loss: 0.007948119353212706 [csvae.py fit]\n",
      "[INFO] epoch 76: y recon loss: 26.65572643924069 [csvae.py fit]\n"
     ]
    },
    {
     "name": "stderr",
     "output_type": "stream",
     "text": [
      "\r",
      " 38%|███▊      | 77/200 [00:20<00:30,  4.09it/s]"
     ]
    },
    {
     "name": "stdout",
     "output_type": "stream",
     "text": [
      "[INFO] epoch 77: x recon loss: 0.007907268949306738 [csvae.py fit]\n",
      "[INFO] epoch 77: y recon loss: 26.65524311359112 [csvae.py fit]\n"
     ]
    },
    {
     "name": "stderr",
     "output_type": "stream",
     "text": [
      "\r",
      " 39%|███▉      | 78/200 [00:20<00:30,  4.05it/s]"
     ]
    },
    {
     "name": "stdout",
     "output_type": "stream",
     "text": [
      "[INFO] epoch 78: x recon loss: 0.007869211756801114 [csvae.py fit]\n",
      "[INFO] epoch 78: y recon loss: 26.65554178648357 [csvae.py fit]\n"
     ]
    },
    {
     "name": "stderr",
     "output_type": "stream",
     "text": [
      "\r",
      " 40%|███▉      | 79/200 [00:21<00:33,  3.65it/s]"
     ]
    },
    {
     "name": "stdout",
     "output_type": "stream",
     "text": [
      "[INFO] epoch 79: x recon loss: 0.007833314606570638 [csvae.py fit]\n",
      "[INFO] epoch 79: y recon loss: 26.655499863624573 [csvae.py fit]\n"
     ]
    },
    {
     "name": "stderr",
     "output_type": "stream",
     "text": [
      "\r",
      " 40%|████      | 80/200 [00:21<00:31,  3.84it/s]"
     ]
    },
    {
     "name": "stdout",
     "output_type": "stream",
     "text": [
      "[INFO] epoch 80: x recon loss: 0.007794213060887507 [csvae.py fit]\n",
      "[INFO] epoch 80: y recon loss: 26.65611751226731 [csvae.py fit]\n"
     ]
    },
    {
     "name": "stderr",
     "output_type": "stream",
     "text": [
      "\r",
      " 40%|████      | 81/200 [00:21<00:33,  3.53it/s]"
     ]
    },
    {
     "name": "stdout",
     "output_type": "stream",
     "text": [
      "[INFO] epoch 81: x recon loss: 0.007757438494846588 [csvae.py fit]\n",
      "[INFO] epoch 81: y recon loss: 26.656153837064416 [csvae.py fit]\n"
     ]
    },
    {
     "name": "stderr",
     "output_type": "stream",
     "text": [
      "\r",
      " 41%|████      | 82/200 [00:21<00:35,  3.35it/s]"
     ]
    },
    {
     "name": "stdout",
     "output_type": "stream",
     "text": [
      "[INFO] epoch 82: x recon loss: 0.007723026155348284 [csvae.py fit]\n",
      "[INFO] epoch 82: y recon loss: 26.656173868753825 [csvae.py fit]\n"
     ]
    },
    {
     "name": "stderr",
     "output_type": "stream",
     "text": [
      "\r",
      " 42%|████▏     | 83/200 [00:22<00:32,  3.59it/s]"
     ]
    },
    {
     "name": "stdout",
     "output_type": "stream",
     "text": [
      "[INFO] epoch 83: x recon loss: 0.0076887068758896065 [csvae.py fit]\n",
      "[INFO] epoch 83: y recon loss: 26.656991192953928 [csvae.py fit]\n"
     ]
    },
    {
     "name": "stderr",
     "output_type": "stream",
     "text": [
      "\r",
      " 42%|████▏     | 84/200 [00:22<00:31,  3.73it/s]"
     ]
    },
    {
     "name": "stdout",
     "output_type": "stream",
     "text": [
      "[INFO] epoch 84: x recon loss: 0.0076559003491831175 [csvae.py fit]\n",
      "[INFO] epoch 84: y recon loss: 26.656287043851965 [csvae.py fit]\n"
     ]
    },
    {
     "name": "stderr",
     "output_type": "stream",
     "text": [
      "\r",
      " 42%|████▎     | 85/200 [00:22<00:33,  3.45it/s]"
     ]
    },
    {
     "name": "stdout",
     "output_type": "stream",
     "text": [
      "[INFO] epoch 85: x recon loss: 0.007621511806798882 [csvae.py fit]\n",
      "[INFO] epoch 85: y recon loss: 26.657387126656467 [csvae.py fit]\n"
     ]
    },
    {
     "name": "stderr",
     "output_type": "stream",
     "text": [
      "\r",
      " 43%|████▎     | 86/200 [00:22<00:31,  3.67it/s]"
     ]
    },
    {
     "name": "stdout",
     "output_type": "stream",
     "text": [
      "[INFO] epoch 86: x recon loss: 0.007588218164833627 [csvae.py fit]\n",
      "[INFO] epoch 86: y recon loss: 26.657443659990683 [csvae.py fit]\n"
     ]
    },
    {
     "name": "stderr",
     "output_type": "stream",
     "text": [
      "\r",
      " 44%|████▎     | 87/200 [00:23<00:29,  3.81it/s]"
     ]
    },
    {
     "name": "stdout",
     "output_type": "stream",
     "text": [
      "[INFO] epoch 87: x recon loss: 0.007557451609860767 [csvae.py fit]\n",
      "[INFO] epoch 87: y recon loss: 26.65806198640303 [csvae.py fit]\n"
     ]
    },
    {
     "name": "stderr",
     "output_type": "stream",
     "text": [
      "\r",
      " 44%|████▍     | 88/200 [00:23<00:28,  3.98it/s]"
     ]
    },
    {
     "name": "stdout",
     "output_type": "stream",
     "text": [
      "[INFO] epoch 88: x recon loss: 0.007531664565917146 [csvae.py fit]\n",
      "[INFO] epoch 88: y recon loss: 26.658146323729095 [csvae.py fit]\n"
     ]
    },
    {
     "name": "stderr",
     "output_type": "stream",
     "text": [
      "\r",
      " 44%|████▍     | 89/200 [00:23<00:27,  4.06it/s]"
     ]
    },
    {
     "name": "stdout",
     "output_type": "stream",
     "text": [
      "[INFO] epoch 89: x recon loss: 0.007500644915944172 [csvae.py fit]\n",
      "[INFO] epoch 89: y recon loss: 26.65869298892551 [csvae.py fit]\n"
     ]
    },
    {
     "name": "stderr",
     "output_type": "stream",
     "text": [
      "\r",
      " 45%|████▌     | 90/200 [00:23<00:26,  4.13it/s]"
     ]
    },
    {
     "name": "stdout",
     "output_type": "stream",
     "text": [
      "[INFO] epoch 90: x recon loss: 0.007470095334779266 [csvae.py fit]\n",
      "[INFO] epoch 90: y recon loss: 26.65909895676833 [csvae.py fit]\n"
     ]
    },
    {
     "name": "stderr",
     "output_type": "stream",
     "text": [
      "\r",
      " 46%|████▌     | 91/200 [00:24<00:26,  4.15it/s]"
     ]
    },
    {
     "name": "stdout",
     "output_type": "stream",
     "text": [
      "[INFO] epoch 91: x recon loss: 0.0074402993307044 [csvae.py fit]\n",
      "[INFO] epoch 91: y recon loss: 26.659353064661442 [csvae.py fit]\n"
     ]
    },
    {
     "name": "stderr",
     "output_type": "stream",
     "text": [
      "\r",
      " 46%|████▌     | 92/200 [00:24<00:26,  4.14it/s]"
     ]
    },
    {
     "name": "stdout",
     "output_type": "stream",
     "text": [
      "[INFO] epoch 92: x recon loss: 0.007410320229327647 [csvae.py fit]\n",
      "[INFO] epoch 92: y recon loss: 26.659441166539345 [csvae.py fit]\n"
     ]
    },
    {
     "name": "stderr",
     "output_type": "stream",
     "text": [
      "\r",
      " 46%|████▋     | 93/200 [00:24<00:25,  4.17it/s]"
     ]
    },
    {
     "name": "stdout",
     "output_type": "stream",
     "text": [
      "[INFO] epoch 93: x recon loss: 0.007382636137326506 [csvae.py fit]\n",
      "[INFO] epoch 93: y recon loss: 26.659636350591132 [csvae.py fit]\n"
     ]
    },
    {
     "name": "stderr",
     "output_type": "stream",
     "text": [
      "\r",
      " 47%|████▋     | 94/200 [00:24<00:25,  4.16it/s]"
     ]
    },
    {
     "name": "stdout",
     "output_type": "stream",
     "text": [
      "[INFO] epoch 94: x recon loss: 0.007353654745770128 [csvae.py fit]\n",
      "[INFO] epoch 94: y recon loss: 26.659752828497634 [csvae.py fit]\n"
     ]
    },
    {
     "name": "stderr",
     "output_type": "stream",
     "text": [
      "\r",
      " 48%|████▊     | 95/200 [00:25<00:25,  4.17it/s]"
     ]
    },
    {
     "name": "stdout",
     "output_type": "stream",
     "text": [
      "[INFO] epoch 95: x recon loss: 0.007323958705819677 [csvae.py fit]\n",
      "[INFO] epoch 95: y recon loss: 26.659700535138448 [csvae.py fit]\n"
     ]
    },
    {
     "name": "stderr",
     "output_type": "stream",
     "text": [
      "\r",
      " 48%|████▊     | 96/200 [00:25<00:25,  4.15it/s]"
     ]
    },
    {
     "name": "stdout",
     "output_type": "stream",
     "text": [
      "[INFO] epoch 96: x recon loss: 0.007297368954732707 [csvae.py fit]\n",
      "[INFO] epoch 96: y recon loss: 26.659470385521956 [csvae.py fit]\n"
     ]
    },
    {
     "name": "stderr",
     "output_type": "stream",
     "text": [
      "\r",
      " 48%|████▊     | 97/200 [00:25<00:27,  3.79it/s]"
     ]
    },
    {
     "name": "stdout",
     "output_type": "stream",
     "text": [
      "[INFO] epoch 97: x recon loss: 0.007271707785619917 [csvae.py fit]\n",
      "[INFO] epoch 97: y recon loss: 26.65939712680116 [csvae.py fit]\n"
     ]
    },
    {
     "name": "stderr",
     "output_type": "stream",
     "text": [
      "\r",
      " 49%|████▉     | 98/200 [00:25<00:26,  3.90it/s]"
     ]
    },
    {
     "name": "stdout",
     "output_type": "stream",
     "text": [
      "[INFO] epoch 98: x recon loss: 0.0072452601311596655 [csvae.py fit]\n",
      "[INFO] epoch 98: y recon loss: 26.659411840727834 [csvae.py fit]\n"
     ]
    },
    {
     "name": "stderr",
     "output_type": "stream",
     "text": [
      "\r",
      " 50%|████▉     | 99/200 [00:26<00:25,  3.98it/s]"
     ]
    },
    {
     "name": "stdout",
     "output_type": "stream",
     "text": [
      "[INFO] epoch 99: x recon loss: 0.007220584160462022 [csvae.py fit]\n",
      "[INFO] epoch 99: y recon loss: 26.659395667266846 [csvae.py fit]\n"
     ]
    },
    {
     "name": "stderr",
     "output_type": "stream",
     "text": [
      "\r",
      " 50%|█████     | 100/200 [00:26<00:24,  4.03it/s]"
     ]
    },
    {
     "name": "stdout",
     "output_type": "stream",
     "text": [
      "[INFO] epoch 100: x recon loss: 0.007197600438139669 [csvae.py fit]\n",
      "[INFO] epoch 100: y recon loss: 26.659305046006004 [csvae.py fit]\n"
     ]
    },
    {
     "name": "stderr",
     "output_type": "stream",
     "text": [
      "\r",
      " 50%|█████     | 101/200 [00:26<00:27,  3.57it/s]"
     ]
    },
    {
     "name": "stdout",
     "output_type": "stream",
     "text": [
      "[INFO] epoch 101: x recon loss: 0.007174920670907287 [csvae.py fit]\n",
      "[INFO] epoch 101: y recon loss: 26.659393407036276 [csvae.py fit]\n"
     ]
    },
    {
     "name": "stderr",
     "output_type": "stream",
     "text": [
      "\r",
      " 51%|█████     | 102/200 [00:26<00:26,  3.75it/s]"
     ]
    },
    {
     "name": "stdout",
     "output_type": "stream",
     "text": [
      "[INFO] epoch 102: x recon loss: 0.007148802703590069 [csvae.py fit]\n",
      "[INFO] epoch 102: y recon loss: 26.659699775177298 [csvae.py fit]\n"
     ]
    },
    {
     "name": "stderr",
     "output_type": "stream",
     "text": [
      "\r",
      " 52%|█████▏    | 103/200 [00:27<00:25,  3.87it/s]"
     ]
    },
    {
     "name": "stdout",
     "output_type": "stream",
     "text": [
      "[INFO] epoch 103: x recon loss: 0.007123077775691994 [csvae.py fit]\n",
      "[INFO] epoch 103: y recon loss: 26.65984798651475 [csvae.py fit]\n"
     ]
    },
    {
     "name": "stderr",
     "output_type": "stream",
     "text": [
      "\r",
      " 52%|█████▏    | 104/200 [00:27<00:24,  3.94it/s]"
     ]
    },
    {
     "name": "stdout",
     "output_type": "stream",
     "text": [
      "[INFO] epoch 104: x recon loss: 0.007100256239019689 [csvae.py fit]\n",
      "[INFO] epoch 104: y recon loss: 26.659855057489306 [csvae.py fit]\n"
     ]
    },
    {
     "name": "stderr",
     "output_type": "stream",
     "text": [
      "\r",
      " 52%|█████▎    | 105/200 [00:27<00:23,  3.99it/s]"
     ]
    },
    {
     "name": "stdout",
     "output_type": "stream",
     "text": [
      "[INFO] epoch 105: x recon loss: 0.0070775045210249585 [csvae.py fit]\n",
      "[INFO] epoch 105: y recon loss: 26.660292366315733 [csvae.py fit]\n"
     ]
    },
    {
     "name": "stderr",
     "output_type": "stream",
     "text": [
      "\r",
      " 53%|█████▎    | 106/200 [00:27<00:23,  4.04it/s]"
     ]
    },
    {
     "name": "stdout",
     "output_type": "stream",
     "text": [
      "[INFO] epoch 106: x recon loss: 0.007055031101732889 [csvae.py fit]\n",
      "[INFO] epoch 106: y recon loss: 26.660345585903276 [csvae.py fit]\n"
     ]
    },
    {
     "name": "stderr",
     "output_type": "stream",
     "text": [
      "\r",
      " 54%|█████▎    | 107/200 [00:28<00:22,  4.12it/s]"
     ]
    },
    {
     "name": "stdout",
     "output_type": "stream",
     "text": [
      "[INFO] epoch 107: x recon loss: 0.007034491508060859 [csvae.py fit]\n",
      "[INFO] epoch 107: y recon loss: 26.660451662275527 [csvae.py fit]\n"
     ]
    },
    {
     "name": "stderr",
     "output_type": "stream",
     "text": [
      "\r",
      " 54%|█████▍    | 108/200 [00:28<00:22,  4.17it/s]"
     ]
    },
    {
     "name": "stdout",
     "output_type": "stream",
     "text": [
      "[INFO] epoch 108: x recon loss: 0.007012031133448996 [csvae.py fit]\n",
      "[INFO] epoch 108: y recon loss: 26.66040173941796 [csvae.py fit]\n"
     ]
    },
    {
     "name": "stderr",
     "output_type": "stream",
     "text": [
      "\r",
      " 55%|█████▍    | 109/200 [00:28<00:21,  4.19it/s]"
     ]
    },
    {
     "name": "stdout",
     "output_type": "stream",
     "text": [
      "[INFO] epoch 109: x recon loss: 0.006989913920363919 [csvae.py fit]\n",
      "[INFO] epoch 109: y recon loss: 26.66050392775102 [csvae.py fit]\n"
     ]
    },
    {
     "name": "stderr",
     "output_type": "stream",
     "text": [
      "\r",
      " 55%|█████▌    | 110/200 [00:28<00:21,  4.22it/s]"
     ]
    },
    {
     "name": "stdout",
     "output_type": "stream",
     "text": [
      "[INFO] epoch 110: x recon loss: 0.006969537546287652 [csvae.py fit]\n",
      "[INFO] epoch 110: y recon loss: 26.660697452442065 [csvae.py fit]\n"
     ]
    },
    {
     "name": "stderr",
     "output_type": "stream",
     "text": [
      "\r",
      " 56%|█████▌    | 111/200 [00:29<00:20,  4.25it/s]"
     ]
    },
    {
     "name": "stdout",
     "output_type": "stream",
     "text": [
      "[INFO] epoch 111: x recon loss: 0.006948857817083731 [csvae.py fit]\n",
      "[INFO] epoch 111: y recon loss: 26.66052172592708 [csvae.py fit]\n"
     ]
    },
    {
     "name": "stderr",
     "output_type": "stream",
     "text": [
      "\r",
      " 56%|█████▌    | 112/200 [00:29<00:20,  4.20it/s]"
     ]
    },
    {
     "name": "stdout",
     "output_type": "stream",
     "text": [
      "[INFO] epoch 112: x recon loss: 0.006928198762831435 [csvae.py fit]\n",
      "[INFO] epoch 112: y recon loss: 26.660582523852323 [csvae.py fit]\n"
     ]
    },
    {
     "name": "stderr",
     "output_type": "stream",
     "text": [
      "\r",
      " 56%|█████▋    | 113/200 [00:29<00:20,  4.23it/s]"
     ]
    },
    {
     "name": "stdout",
     "output_type": "stream",
     "text": [
      "[INFO] epoch 113: x recon loss: 0.006909100864850508 [csvae.py fit]\n",
      "[INFO] epoch 113: y recon loss: 26.660731401945416 [csvae.py fit]\n"
     ]
    },
    {
     "name": "stderr",
     "output_type": "stream",
     "text": [
      "\r",
      " 57%|█████▋    | 114/200 [00:29<00:20,  4.28it/s]"
     ]
    },
    {
     "name": "stdout",
     "output_type": "stream",
     "text": [
      "[INFO] epoch 114: x recon loss: 0.006889830917200964 [csvae.py fit]\n",
      "[INFO] epoch 114: y recon loss: 26.660957822716753 [csvae.py fit]\n"
     ]
    },
    {
     "name": "stderr",
     "output_type": "stream",
     "text": [
      "\r",
      " 57%|█████▊    | 115/200 [00:30<00:19,  4.30it/s]"
     ]
    },
    {
     "name": "stdout",
     "output_type": "stream",
     "text": [
      "[INFO] epoch 115: x recon loss: 0.006870216279258502 [csvae.py fit]\n",
      "[INFO] epoch 115: y recon loss: 26.66077557793979 [csvae.py fit]\n"
     ]
    },
    {
     "name": "stderr",
     "output_type": "stream",
     "text": [
      "\r",
      " 58%|█████▊    | 116/200 [00:30<00:22,  3.77it/s]"
     ]
    },
    {
     "name": "stdout",
     "output_type": "stream",
     "text": [
      "[INFO] epoch 116: x recon loss: 0.006850283629316677 [csvae.py fit]\n",
      "[INFO] epoch 116: y recon loss: 26.660854856050932 [csvae.py fit]\n"
     ]
    },
    {
     "name": "stderr",
     "output_type": "stream",
     "text": [
      "\r",
      " 58%|█████▊    | 117/200 [00:30<00:21,  3.85it/s]"
     ]
    },
    {
     "name": "stdout",
     "output_type": "stream",
     "text": [
      "[INFO] epoch 117: x recon loss: 0.006831128643352096 [csvae.py fit]\n",
      "[INFO] epoch 117: y recon loss: 26.661105344093453 [csvae.py fit]\n"
     ]
    },
    {
     "name": "stderr",
     "output_type": "stream",
     "text": [
      "\r",
      " 59%|█████▉    | 118/200 [00:30<00:20,  3.93it/s]"
     ]
    },
    {
     "name": "stdout",
     "output_type": "stream",
     "text": [
      "[INFO] epoch 118: x recon loss: 0.006811254429435279 [csvae.py fit]\n",
      "[INFO] epoch 118: y recon loss: 26.660756257642216 [csvae.py fit]\n"
     ]
    },
    {
     "name": "stderr",
     "output_type": "stream",
     "text": [
      "\r",
      " 60%|█████▉    | 119/200 [00:31<00:20,  4.03it/s]"
     ]
    },
    {
     "name": "stdout",
     "output_type": "stream",
     "text": [
      "[INFO] epoch 119: x recon loss: 0.006793763030630847 [csvae.py fit]\n",
      "[INFO] epoch 119: y recon loss: 26.660843350728353 [csvae.py fit]\n"
     ]
    },
    {
     "name": "stderr",
     "output_type": "stream",
     "text": [
      "\r",
      " 60%|██████    | 120/200 [00:31<00:21,  3.64it/s]"
     ]
    },
    {
     "name": "stdout",
     "output_type": "stream",
     "text": [
      "[INFO] epoch 120: x recon loss: 0.006776791627187867 [csvae.py fit]\n",
      "[INFO] epoch 120: y recon loss: 26.66110896465207 [csvae.py fit]\n"
     ]
    },
    {
     "name": "stderr",
     "output_type": "stream",
     "text": [
      "\r",
      " 60%|██████    | 121/200 [00:31<00:20,  3.83it/s]"
     ]
    },
    {
     "name": "stdout",
     "output_type": "stream",
     "text": [
      "[INFO] epoch 121: x recon loss: 0.006759390659386018 [csvae.py fit]\n",
      "[INFO] epoch 121: y recon loss: 26.66097074790079 [csvae.py fit]\n"
     ]
    },
    {
     "name": "stderr",
     "output_type": "stream",
     "text": [
      "\r",
      " 61%|██████    | 122/200 [00:31<00:19,  3.95it/s]"
     ]
    },
    {
     "name": "stdout",
     "output_type": "stream",
     "text": [
      "[INFO] epoch 122: x recon loss: 0.006743304274476519 [csvae.py fit]\n",
      "[INFO] epoch 122: y recon loss: 26.661070397849976 [csvae.py fit]\n"
     ]
    },
    {
     "name": "stderr",
     "output_type": "stream",
     "text": [
      "\r",
      " 62%|██████▏   | 123/200 [00:32<00:19,  4.00it/s]"
     ]
    },
    {
     "name": "stdout",
     "output_type": "stream",
     "text": [
      "[INFO] epoch 123: x recon loss: 0.006725159831675551 [csvae.py fit]\n",
      "[INFO] epoch 123: y recon loss: 26.660983916867163 [csvae.py fit]\n"
     ]
    },
    {
     "name": "stderr",
     "output_type": "stream",
     "text": [
      "\r",
      " 62%|██████▏   | 124/200 [00:32<00:21,  3.52it/s]"
     ]
    },
    {
     "name": "stdout",
     "output_type": "stream",
     "text": [
      "[INFO] epoch 124: x recon loss: 0.0067079921400547025 [csvae.py fit]\n",
      "[INFO] epoch 124: y recon loss: 26.661378247070314 [csvae.py fit]\n"
     ]
    },
    {
     "name": "stderr",
     "output_type": "stream",
     "text": [
      "\r",
      " 62%|██████▎   | 125/200 [00:32<00:23,  3.24it/s]"
     ]
    },
    {
     "name": "stdout",
     "output_type": "stream",
     "text": [
      "[INFO] epoch 125: x recon loss: 0.006692563602331257 [csvae.py fit]\n",
      "[INFO] epoch 125: y recon loss: 26.66127562931606 [csvae.py fit]\n"
     ]
    },
    {
     "name": "stderr",
     "output_type": "stream",
     "text": [
      "\r",
      " 63%|██████▎   | 126/200 [00:33<00:24,  3.08it/s]"
     ]
    },
    {
     "name": "stdout",
     "output_type": "stream",
     "text": [
      "[INFO] epoch 126: x recon loss: 0.006677190265654931 [csvae.py fit]\n",
      "[INFO] epoch 126: y recon loss: 26.661389321755237 [csvae.py fit]\n"
     ]
    },
    {
     "name": "stderr",
     "output_type": "stream",
     "text": [
      "\r",
      " 64%|██████▎   | 127/200 [00:33<00:24,  2.96it/s]"
     ]
    },
    {
     "name": "stdout",
     "output_type": "stream",
     "text": [
      "[INFO] epoch 127: x recon loss: 0.006660869068582542 [csvae.py fit]\n",
      "[INFO] epoch 127: y recon loss: 26.66157662153244 [csvae.py fit]\n"
     ]
    },
    {
     "name": "stderr",
     "output_type": "stream",
     "text": [
      "\r",
      " 64%|██████▍   | 128/200 [00:33<00:24,  2.92it/s]"
     ]
    },
    {
     "name": "stdout",
     "output_type": "stream",
     "text": [
      "[INFO] epoch 128: x recon loss: 0.006647641289574924 [csvae.py fit]\n",
      "[INFO] epoch 128: y recon loss: 26.66150391216426 [csvae.py fit]\n"
     ]
    },
    {
     "name": "stderr",
     "output_type": "stream",
     "text": [
      "\r",
      " 64%|██████▍   | 129/200 [00:34<00:24,  2.91it/s]"
     ]
    },
    {
     "name": "stdout",
     "output_type": "stream",
     "text": [
      "[INFO] epoch 129: x recon loss: 0.006632612032529253 [csvae.py fit]\n",
      "[INFO] epoch 129: y recon loss: 26.661389330350435 [csvae.py fit]\n"
     ]
    },
    {
     "name": "stderr",
     "output_type": "stream",
     "text": [
      "\r",
      " 65%|██████▌   | 130/200 [00:34<00:24,  2.89it/s]"
     ]
    },
    {
     "name": "stdout",
     "output_type": "stream",
     "text": [
      "[INFO] epoch 130: x recon loss: 0.0066167505454442655 [csvae.py fit]\n",
      "[INFO] epoch 130: y recon loss: 26.661352399287335 [csvae.py fit]\n"
     ]
    },
    {
     "name": "stderr",
     "output_type": "stream",
     "text": [
      "\r",
      " 66%|██████▌   | 131/200 [00:35<00:23,  2.89it/s]"
     ]
    },
    {
     "name": "stdout",
     "output_type": "stream",
     "text": [
      "[INFO] epoch 131: x recon loss: 0.006604703165463764 [csvae.py fit]\n",
      "[INFO] epoch 131: y recon loss: 26.661735851981422 [csvae.py fit]\n"
     ]
    },
    {
     "name": "stderr",
     "output_type": "stream",
     "text": [
      "\r",
      " 66%|██████▌   | 132/200 [00:35<00:23,  2.89it/s]"
     ]
    },
    {
     "name": "stdout",
     "output_type": "stream",
     "text": [
      "[INFO] epoch 132: x recon loss: 0.0065907391751031 [csvae.py fit]\n",
      "[INFO] epoch 132: y recon loss: 26.662115300113992 [csvae.py fit]\n"
     ]
    },
    {
     "name": "stderr",
     "output_type": "stream",
     "text": [
      "\r",
      " 66%|██████▋   | 133/200 [00:35<00:23,  2.88it/s]"
     ]
    },
    {
     "name": "stdout",
     "output_type": "stream",
     "text": [
      "[INFO] epoch 133: x recon loss: 0.006576506727194386 [csvae.py fit]\n",
      "[INFO] epoch 133: y recon loss: 26.662462773678907 [csvae.py fit]\n"
     ]
    },
    {
     "name": "stderr",
     "output_type": "stream",
     "text": [
      "\r",
      " 67%|██████▋   | 134/200 [00:36<00:23,  2.82it/s]"
     ]
    },
    {
     "name": "stdout",
     "output_type": "stream",
     "text": [
      "[INFO] epoch 134: x recon loss: 0.0065614250762457095 [csvae.py fit]\n",
      "[INFO] epoch 134: y recon loss: 26.662330151028105 [csvae.py fit]\n"
     ]
    },
    {
     "name": "stderr",
     "output_type": "stream",
     "text": [
      "\r",
      " 68%|██████▊   | 135/200 [00:36<00:23,  2.77it/s]"
     ]
    },
    {
     "name": "stdout",
     "output_type": "stream",
     "text": [
      "[INFO] epoch 135: x recon loss: 0.0065474150363383265 [csvae.py fit]\n",
      "[INFO] epoch 135: y recon loss: 26.662465700261734 [csvae.py fit]\n"
     ]
    },
    {
     "name": "stderr",
     "output_type": "stream",
     "text": [
      "\r",
      " 68%|██████▊   | 136/200 [00:36<00:23,  2.74it/s]"
     ]
    },
    {
     "name": "stdout",
     "output_type": "stream",
     "text": [
      "[INFO] epoch 136: x recon loss: 0.006535016898963139 [csvae.py fit]\n",
      "[INFO] epoch 136: y recon loss: 26.662548377044008 [csvae.py fit]\n"
     ]
    },
    {
     "name": "stderr",
     "output_type": "stream",
     "text": [
      "\r",
      " 68%|██████▊   | 137/200 [00:37<00:20,  3.01it/s]"
     ]
    },
    {
     "name": "stdout",
     "output_type": "stream",
     "text": [
      "[INFO] epoch 137: x recon loss: 0.006522189659552406 [csvae.py fit]\n",
      "[INFO] epoch 137: y recon loss: 26.662695614358654 [csvae.py fit]\n"
     ]
    },
    {
     "name": "stderr",
     "output_type": "stream",
     "text": [
      "\r",
      " 69%|██████▉   | 138/200 [00:37<00:19,  3.23it/s]"
     ]
    },
    {
     "name": "stdout",
     "output_type": "stream",
     "text": [
      "[INFO] epoch 138: x recon loss: 0.0065082557622021696 [csvae.py fit]\n",
      "[INFO] epoch 138: y recon loss: 26.6626235116643 [csvae.py fit]\n"
     ]
    },
    {
     "name": "stderr",
     "output_type": "stream",
     "text": [
      "\r",
      " 70%|██████▉   | 139/200 [00:37<00:17,  3.41it/s]"
     ]
    },
    {
     "name": "stdout",
     "output_type": "stream",
     "text": [
      "[INFO] epoch 139: x recon loss: 0.00649569191397833 [csvae.py fit]\n",
      "[INFO] epoch 139: y recon loss: 26.662372483934675 [csvae.py fit]\n"
     ]
    },
    {
     "name": "stderr",
     "output_type": "stream",
     "text": [
      "\r",
      " 70%|███████   | 140/200 [00:37<00:16,  3.55it/s]"
     ]
    },
    {
     "name": "stdout",
     "output_type": "stream",
     "text": [
      "[INFO] epoch 140: x recon loss: 0.006482769667851269 [csvae.py fit]\n",
      "[INFO] epoch 140: y recon loss: 26.6624854240688 [csvae.py fit]\n"
     ]
    },
    {
     "name": "stderr",
     "output_type": "stream",
     "text": [
      "\r",
      " 70%|███████   | 141/200 [00:38<00:16,  3.65it/s]"
     ]
    },
    {
     "name": "stdout",
     "output_type": "stream",
     "text": [
      "[INFO] epoch 141: x recon loss: 0.006469568639705089 [csvae.py fit]\n",
      "[INFO] epoch 141: y recon loss: 26.662559356689453 [csvae.py fit]\n"
     ]
    },
    {
     "name": "stderr",
     "output_type": "stream",
     "text": [
      "\r",
      " 71%|███████   | 142/200 [00:38<00:15,  3.72it/s]"
     ]
    },
    {
     "name": "stdout",
     "output_type": "stream",
     "text": [
      "[INFO] epoch 142: x recon loss: 0.006456726522451931 [csvae.py fit]\n",
      "[INFO] epoch 142: y recon loss: 26.662717936055643 [csvae.py fit]\n"
     ]
    },
    {
     "name": "stderr",
     "output_type": "stream",
     "text": [
      "\r",
      " 72%|███████▏  | 143/200 [00:38<00:15,  3.77it/s]"
     ]
    },
    {
     "name": "stdout",
     "output_type": "stream",
     "text": [
      "[INFO] epoch 143: x recon loss: 0.006444568130795637 [csvae.py fit]\n",
      "[INFO] epoch 143: y recon loss: 26.66274812274509 [csvae.py fit]\n"
     ]
    },
    {
     "name": "stderr",
     "output_type": "stream",
     "text": [
      "\r",
      " 72%|███████▏  | 144/200 [00:38<00:14,  3.81it/s]"
     ]
    },
    {
     "name": "stdout",
     "output_type": "stream",
     "text": [
      "[INFO] epoch 144: x recon loss: 0.006432336658945885 [csvae.py fit]\n",
      "[INFO] epoch 144: y recon loss: 26.6630125111547 [csvae.py fit]\n"
     ]
    },
    {
     "name": "stderr",
     "output_type": "stream",
     "text": [
      "\r",
      " 72%|███████▎  | 145/200 [00:39<00:14,  3.80it/s]"
     ]
    },
    {
     "name": "stdout",
     "output_type": "stream",
     "text": [
      "[INFO] epoch 145: x recon loss: 0.006419676922210684 [csvae.py fit]\n",
      "[INFO] epoch 145: y recon loss: 26.662749304575463 [csvae.py fit]\n"
     ]
    },
    {
     "name": "stderr",
     "output_type": "stream",
     "text": [
      "\r",
      " 73%|███████▎  | 146/200 [00:39<00:14,  3.83it/s]"
     ]
    },
    {
     "name": "stdout",
     "output_type": "stream",
     "text": [
      "[INFO] epoch 146: x recon loss: 0.006406860915677888 [csvae.py fit]\n",
      "[INFO] epoch 146: y recon loss: 26.662780138392026 [csvae.py fit]\n"
     ]
    },
    {
     "name": "stderr",
     "output_type": "stream",
     "text": [
      "\r",
      " 74%|███████▎  | 147/200 [00:39<00:13,  3.83it/s]"
     ]
    },
    {
     "name": "stdout",
     "output_type": "stream",
     "text": [
      "[INFO] epoch 147: x recon loss: 0.006394388505345764 [csvae.py fit]\n",
      "[INFO] epoch 147: y recon loss: 26.66288489315961 [csvae.py fit]\n"
     ]
    },
    {
     "name": "stderr",
     "output_type": "stream",
     "text": [
      "\r",
      " 74%|███████▍  | 148/200 [00:39<00:13,  3.89it/s]"
     ]
    },
    {
     "name": "stdout",
     "output_type": "stream",
     "text": [
      "[INFO] epoch 148: x recon loss: 0.006385625340857062 [csvae.py fit]\n",
      "[INFO] epoch 148: y recon loss: 26.662823173471747 [csvae.py fit]\n"
     ]
    },
    {
     "name": "stderr",
     "output_type": "stream",
     "text": [
      "\r",
      " 74%|███████▍  | 149/200 [00:40<00:12,  3.96it/s]"
     ]
    },
    {
     "name": "stdout",
     "output_type": "stream",
     "text": [
      "[INFO] epoch 149: x recon loss: 0.006375385051158567 [csvae.py fit]\n",
      "[INFO] epoch 149: y recon loss: 26.662656565856935 [csvae.py fit]\n"
     ]
    },
    {
     "name": "stderr",
     "output_type": "stream",
     "text": [
      "\r",
      " 75%|███████▌  | 150/200 [00:40<00:13,  3.80it/s]"
     ]
    },
    {
     "name": "stdout",
     "output_type": "stream",
     "text": [
      "[INFO] epoch 150: x recon loss: 0.006365015782008799 [csvae.py fit]\n",
      "[INFO] epoch 150: y recon loss: 26.662657453524357 [csvae.py fit]\n"
     ]
    },
    {
     "name": "stderr",
     "output_type": "stream",
     "text": [
      "\r",
      " 76%|███████▌  | 151/200 [00:40<00:12,  3.87it/s]"
     ]
    },
    {
     "name": "stdout",
     "output_type": "stream",
     "text": [
      "[INFO] epoch 151: x recon loss: 0.006352416154328047 [csvae.py fit]\n",
      "[INFO] epoch 151: y recon loss: 26.662989366430985 [csvae.py fit]\n"
     ]
    },
    {
     "name": "stderr",
     "output_type": "stream",
     "text": [
      "\r",
      " 76%|███████▌  | 152/200 [00:41<00:13,  3.45it/s]"
     ]
    },
    {
     "name": "stdout",
     "output_type": "stream",
     "text": [
      "[INFO] epoch 152: x recon loss: 0.006340906556720048 [csvae.py fit]\n",
      "[INFO] epoch 152: y recon loss: 26.662801924562142 [csvae.py fit]\n"
     ]
    },
    {
     "name": "stderr",
     "output_type": "stream",
     "text": [
      "\r",
      " 76%|███████▋  | 153/200 [00:41<00:13,  3.60it/s]"
     ]
    },
    {
     "name": "stdout",
     "output_type": "stream",
     "text": [
      "[INFO] epoch 153: x recon loss: 0.00633067923241186 [csvae.py fit]\n",
      "[INFO] epoch 153: y recon loss: 26.662908707160454 [csvae.py fit]\n"
     ]
    },
    {
     "name": "stderr",
     "output_type": "stream",
     "text": [
      "\r",
      " 77%|███████▋  | 154/200 [00:41<00:12,  3.71it/s]"
     ]
    },
    {
     "name": "stdout",
     "output_type": "stream",
     "text": [
      "[INFO] epoch 154: x recon loss: 0.006319339627820638 [csvae.py fit]\n",
      "[INFO] epoch 154: y recon loss: 26.663363218738187 [csvae.py fit]\n"
     ]
    },
    {
     "name": "stderr",
     "output_type": "stream",
     "text": [
      "\r",
      " 78%|███████▊  | 155/200 [00:41<00:11,  3.81it/s]"
     ]
    },
    {
     "name": "stdout",
     "output_type": "stream",
     "text": [
      "[INFO] epoch 155: x recon loss: 0.006308859328213984 [csvae.py fit]\n",
      "[INFO] epoch 155: y recon loss: 26.663268031095846 [csvae.py fit]\n"
     ]
    },
    {
     "name": "stderr",
     "output_type": "stream",
     "text": [
      "\r",
      " 78%|███████▊  | 156/200 [00:42<00:11,  3.88it/s]"
     ]
    },
    {
     "name": "stdout",
     "output_type": "stream",
     "text": [
      "[INFO] epoch 156: x recon loss: 0.006297863170291018 [csvae.py fit]\n",
      "[INFO] epoch 156: y recon loss: 26.6633015825794 [csvae.py fit]\n"
     ]
    },
    {
     "name": "stderr",
     "output_type": "stream",
     "text": [
      "\r",
      " 78%|███████▊  | 157/200 [00:42<00:10,  3.94it/s]"
     ]
    },
    {
     "name": "stdout",
     "output_type": "stream",
     "text": [
      "[INFO] epoch 157: x recon loss: 0.0062871193127187934 [csvae.py fit]\n",
      "[INFO] epoch 157: y recon loss: 26.663026871500136 [csvae.py fit]\n"
     ]
    },
    {
     "name": "stderr",
     "output_type": "stream",
     "text": [
      "\r",
      " 79%|███████▉  | 158/200 [00:42<00:10,  3.98it/s]"
     ]
    },
    {
     "name": "stdout",
     "output_type": "stream",
     "text": [
      "[INFO] epoch 158: x recon loss: 0.006277273158197227 [csvae.py fit]\n",
      "[INFO] epoch 158: y recon loss: 26.662913778053138 [csvae.py fit]\n"
     ]
    },
    {
     "name": "stderr",
     "output_type": "stream",
     "text": [
      "\r",
      " 80%|███████▉  | 159/200 [00:42<00:10,  3.85it/s]"
     ]
    },
    {
     "name": "stdout",
     "output_type": "stream",
     "text": [
      "[INFO] epoch 159: x recon loss: 0.006265760286943987 [csvae.py fit]\n",
      "[INFO] epoch 159: y recon loss: 26.663110988140104 [csvae.py fit]\n"
     ]
    },
    {
     "name": "stderr",
     "output_type": "stream",
     "text": [
      "\r",
      " 80%|████████  | 160/200 [00:43<00:10,  3.90it/s]"
     ]
    },
    {
     "name": "stdout",
     "output_type": "stream",
     "text": [
      "[INFO] epoch 160: x recon loss: 0.006255843814936762 [csvae.py fit]\n",
      "[INFO] epoch 160: y recon loss: 26.6626983798957 [csvae.py fit]\n"
     ]
    },
    {
     "name": "stderr",
     "output_type": "stream",
     "text": [
      "\r",
      " 80%|████████  | 161/200 [00:43<00:09,  3.97it/s]"
     ]
    },
    {
     "name": "stdout",
     "output_type": "stream",
     "text": [
      "[INFO] epoch 161: x recon loss: 0.0062468869185052164 [csvae.py fit]\n",
      "[INFO] epoch 161: y recon loss: 26.662921036143363 [csvae.py fit]\n"
     ]
    },
    {
     "name": "stderr",
     "output_type": "stream",
     "text": [
      "\r",
      " 81%|████████  | 162/200 [00:43<00:09,  3.96it/s]"
     ]
    },
    {
     "name": "stdout",
     "output_type": "stream",
     "text": [
      "[INFO] epoch 162: x recon loss: 0.006237291904006359 [csvae.py fit]\n",
      "[INFO] epoch 162: y recon loss: 26.662660309493177 [csvae.py fit]\n"
     ]
    },
    {
     "name": "stderr",
     "output_type": "stream",
     "text": [
      "\r",
      " 82%|████████▏ | 163/200 [00:43<00:09,  4.00it/s]"
     ]
    },
    {
     "name": "stdout",
     "output_type": "stream",
     "text": [
      "[INFO] epoch 163: x recon loss: 0.006226792125110855 [csvae.py fit]\n",
      "[INFO] epoch 163: y recon loss: 26.662698612213134 [csvae.py fit]\n"
     ]
    },
    {
     "name": "stderr",
     "output_type": "stream",
     "text": [
      "\r",
      " 82%|████████▏ | 164/200 [00:44<00:08,  4.06it/s]"
     ]
    },
    {
     "name": "stdout",
     "output_type": "stream",
     "text": [
      "[INFO] epoch 164: x recon loss: 0.006215565381684538 [csvae.py fit]\n",
      "[INFO] epoch 164: y recon loss: 26.663118101177794 [csvae.py fit]\n"
     ]
    },
    {
     "name": "stderr",
     "output_type": "stream",
     "text": [
      "\r",
      " 82%|████████▎ | 165/200 [00:44<00:08,  4.09it/s]"
     ]
    },
    {
     "name": "stdout",
     "output_type": "stream",
     "text": [
      "[INFO] epoch 165: x recon loss: 0.006204918591215847 [csvae.py fit]\n",
      "[INFO] epoch 165: y recon loss: 26.6629402266353 [csvae.py fit]\n"
     ]
    },
    {
     "name": "stderr",
     "output_type": "stream",
     "text": [
      "\r",
      " 83%|████████▎ | 166/200 [00:44<00:08,  4.12it/s]"
     ]
    },
    {
     "name": "stdout",
     "output_type": "stream",
     "text": [
      "[INFO] epoch 166: x recon loss: 0.006196015613867405 [csvae.py fit]\n",
      "[INFO] epoch 166: y recon loss: 26.663030866520135 [csvae.py fit]\n"
     ]
    },
    {
     "name": "stderr",
     "output_type": "stream",
     "text": [
      "\r",
      " 84%|████████▎ | 167/200 [00:44<00:07,  4.14it/s]"
     ]
    },
    {
     "name": "stdout",
     "output_type": "stream",
     "text": [
      "[INFO] epoch 167: x recon loss: 0.006186008932501344 [csvae.py fit]\n",
      "[INFO] epoch 167: y recon loss: 26.662960015251524 [csvae.py fit]\n"
     ]
    },
    {
     "name": "stderr",
     "output_type": "stream",
     "text": [
      "\r",
      " 84%|████████▍ | 168/200 [00:45<00:07,  4.17it/s]"
     ]
    },
    {
     "name": "stdout",
     "output_type": "stream",
     "text": [
      "[INFO] epoch 168: x recon loss: 0.006175933693750546 [csvae.py fit]\n",
      "[INFO] epoch 168: y recon loss: 26.663276233560236 [csvae.py fit]\n"
     ]
    },
    {
     "name": "stderr",
     "output_type": "stream",
     "text": [
      "\r",
      " 84%|████████▍ | 169/200 [00:45<00:07,  4.17it/s]"
     ]
    },
    {
     "name": "stdout",
     "output_type": "stream",
     "text": [
      "[INFO] epoch 169: x recon loss: 0.006166050102123443 [csvae.py fit]\n",
      "[INFO] epoch 169: y recon loss: 26.66315852176442 [csvae.py fit]\n"
     ]
    },
    {
     "name": "stderr",
     "output_type": "stream",
     "text": [
      "\r",
      " 85%|████████▌ | 170/200 [00:45<00:07,  4.17it/s]"
     ]
    },
    {
     "name": "stdout",
     "output_type": "stream",
     "text": [
      "[INFO] epoch 170: x recon loss: 0.006155611987154909 [csvae.py fit]\n",
      "[INFO] epoch 170: y recon loss: 26.663157301785652 [csvae.py fit]\n"
     ]
    },
    {
     "name": "stderr",
     "output_type": "stream",
     "text": [
      "\r",
      " 86%|████████▌ | 171/200 [00:45<00:07,  3.85it/s]"
     ]
    },
    {
     "name": "stdout",
     "output_type": "stream",
     "text": [
      "[INFO] epoch 171: x recon loss: 0.00614580717349295 [csvae.py fit]\n",
      "[INFO] epoch 171: y recon loss: 26.66335034348244 [csvae.py fit]\n"
     ]
    },
    {
     "name": "stderr",
     "output_type": "stream",
     "text": [
      "\r",
      " 86%|████████▌ | 172/200 [00:46<00:07,  3.94it/s]"
     ]
    },
    {
     "name": "stdout",
     "output_type": "stream",
     "text": [
      "[INFO] epoch 172: x recon loss: 0.006136121339611494 [csvae.py fit]\n",
      "[INFO] epoch 172: y recon loss: 26.66331368727491 [csvae.py fit]\n"
     ]
    },
    {
     "name": "stderr",
     "output_type": "stream",
     "text": [
      "\r",
      " 86%|████████▋ | 173/200 [00:46<00:06,  4.02it/s]"
     ]
    },
    {
     "name": "stdout",
     "output_type": "stream",
     "text": [
      "[INFO] epoch 173: x recon loss: 0.006127217763542444 [csvae.py fit]\n",
      "[INFO] epoch 173: y recon loss: 26.663104558484306 [csvae.py fit]\n"
     ]
    },
    {
     "name": "stderr",
     "output_type": "stream",
     "text": [
      "\r",
      " 87%|████████▋ | 174/200 [00:46<00:06,  4.07it/s]"
     ]
    },
    {
     "name": "stdout",
     "output_type": "stream",
     "text": [
      "[INFO] epoch 174: x recon loss: 0.006118319158894675 [csvae.py fit]\n",
      "[INFO] epoch 174: y recon loss: 26.663016305106026 [csvae.py fit]\n"
     ]
    },
    {
     "name": "stderr",
     "output_type": "stream",
     "text": [
      "\r",
      " 88%|████████▊ | 175/200 [00:46<00:06,  4.11it/s]"
     ]
    },
    {
     "name": "stdout",
     "output_type": "stream",
     "text": [
      "[INFO] epoch 175: x recon loss: 0.0061086987320397215 [csvae.py fit]\n",
      "[INFO] epoch 175: y recon loss: 26.663354226892643 [csvae.py fit]\n"
     ]
    },
    {
     "name": "stderr",
     "output_type": "stream",
     "text": [
      "\r",
      " 88%|████████▊ | 176/200 [00:46<00:05,  4.14it/s]"
     ]
    },
    {
     "name": "stdout",
     "output_type": "stream",
     "text": [
      "[INFO] epoch 176: x recon loss: 0.0060993316962178485 [csvae.py fit]\n",
      "[INFO] epoch 176: y recon loss: 26.663089203915355 [csvae.py fit]\n"
     ]
    },
    {
     "name": "stderr",
     "output_type": "stream",
     "text": [
      "\r",
      " 88%|████████▊ | 177/200 [00:47<00:05,  4.16it/s]"
     ]
    },
    {
     "name": "stdout",
     "output_type": "stream",
     "text": [
      "[INFO] epoch 177: x recon loss: 0.006090873395657857 [csvae.py fit]\n",
      "[INFO] epoch 177: y recon loss: 26.663112206619775 [csvae.py fit]\n"
     ]
    },
    {
     "name": "stderr",
     "output_type": "stream",
     "text": [
      "\r",
      " 89%|████████▉ | 178/200 [00:47<00:05,  4.17it/s]"
     ]
    },
    {
     "name": "stdout",
     "output_type": "stream",
     "text": [
      "[INFO] epoch 178: x recon loss: 0.006083237439831042 [csvae.py fit]\n",
      "[INFO] epoch 178: y recon loss: 26.663025530596684 [csvae.py fit]\n"
     ]
    },
    {
     "name": "stderr",
     "output_type": "stream",
     "text": [
      "\r",
      " 90%|████████▉ | 179/200 [00:47<00:05,  4.16it/s]"
     ]
    },
    {
     "name": "stdout",
     "output_type": "stream",
     "text": [
      "[INFO] epoch 179: x recon loss: 0.00607478203655531 [csvae.py fit]\n",
      "[INFO] epoch 179: y recon loss: 26.66304236984253 [csvae.py fit]\n"
     ]
    },
    {
     "name": "stderr",
     "output_type": "stream",
     "text": [
      "\r",
      " 90%|█████████ | 180/200 [00:47<00:04,  4.15it/s]"
     ]
    },
    {
     "name": "stdout",
     "output_type": "stream",
     "text": [
      "[INFO] epoch 180: x recon loss: 0.006066889328398428 [csvae.py fit]\n",
      "[INFO] epoch 180: y recon loss: 26.662915599253953 [csvae.py fit]\n"
     ]
    },
    {
     "name": "stderr",
     "output_type": "stream",
     "text": [
      "\r",
      " 90%|█████████ | 181/200 [00:48<00:04,  4.13it/s]"
     ]
    },
    {
     "name": "stdout",
     "output_type": "stream",
     "text": [
      "[INFO] epoch 181: x recon loss: 0.006058341726650494 [csvae.py fit]\n",
      "[INFO] epoch 181: y recon loss: 26.662860475058086 [csvae.py fit]\n"
     ]
    },
    {
     "name": "stderr",
     "output_type": "stream",
     "text": [
      "\r",
      " 91%|█████████ | 182/200 [00:48<00:04,  4.11it/s]"
     ]
    },
    {
     "name": "stdout",
     "output_type": "stream",
     "text": [
      "[INFO] epoch 182: x recon loss: 0.006049483293423154 [csvae.py fit]\n",
      "[INFO] epoch 182: y recon loss: 26.662958981039747 [csvae.py fit]\n"
     ]
    },
    {
     "name": "stderr",
     "output_type": "stream",
     "text": [
      "\r",
      " 92%|█████████▏| 183/200 [00:48<00:04,  4.09it/s]"
     ]
    },
    {
     "name": "stdout",
     "output_type": "stream",
     "text": [
      "[INFO] epoch 183: x recon loss: 0.006040422411524164 [csvae.py fit]\n",
      "[INFO] epoch 183: y recon loss: 26.66293660785841 [csvae.py fit]\n"
     ]
    },
    {
     "name": "stderr",
     "output_type": "stream",
     "text": [
      "\r",
      " 92%|█████████▏| 184/200 [00:48<00:03,  4.07it/s]"
     ]
    },
    {
     "name": "stdout",
     "output_type": "stream",
     "text": [
      "[INFO] epoch 184: x recon loss: 0.006031653928746645 [csvae.py fit]\n",
      "[INFO] epoch 184: y recon loss: 26.663025636827623 [csvae.py fit]\n"
     ]
    },
    {
     "name": "stderr",
     "output_type": "stream",
     "text": [
      "\r",
      " 92%|█████████▎| 185/200 [00:49<00:03,  4.06it/s]"
     ]
    },
    {
     "name": "stdout",
     "output_type": "stream",
     "text": [
      "[INFO] epoch 185: x recon loss: 0.006024081127978461 [csvae.py fit]\n",
      "[INFO] epoch 185: y recon loss: 26.662930781866915 [csvae.py fit]\n"
     ]
    },
    {
     "name": "stderr",
     "output_type": "stream",
     "text": [
      "\r",
      " 93%|█████████▎| 186/200 [00:49<00:03,  4.06it/s]"
     ]
    },
    {
     "name": "stdout",
     "output_type": "stream",
     "text": [
      "[INFO] epoch 186: x recon loss: 0.006016343228947271 [csvae.py fit]\n",
      "[INFO] epoch 186: y recon loss: 26.6629261302438 [csvae.py fit]\n"
     ]
    },
    {
     "name": "stderr",
     "output_type": "stream",
     "text": [
      "\r",
      " 94%|█████████▎| 187/200 [00:49<00:03,  3.92it/s]"
     ]
    },
    {
     "name": "stdout",
     "output_type": "stream",
     "text": [
      "[INFO] epoch 187: x recon loss: 0.0060093207723223305 [csvae.py fit]\n",
      "[INFO] epoch 187: y recon loss: 26.6630783604561 [csvae.py fit]\n"
     ]
    },
    {
     "name": "stderr",
     "output_type": "stream",
     "text": [
      "\r",
      " 94%|█████████▍| 188/200 [00:49<00:03,  3.97it/s]"
     ]
    },
    {
     "name": "stdout",
     "output_type": "stream",
     "text": [
      "[INFO] epoch 188: x recon loss: 0.006002857306597646 [csvae.py fit]\n",
      "[INFO] epoch 188: y recon loss: 26.66293827965146 [csvae.py fit]\n"
     ]
    },
    {
     "name": "stderr",
     "output_type": "stream",
     "text": [
      "\r",
      " 94%|█████████▍| 189/200 [00:50<00:02,  4.00it/s]"
     ]
    },
    {
     "name": "stdout",
     "output_type": "stream",
     "text": [
      "[INFO] epoch 189: x recon loss: 0.005997419239806109 [csvae.py fit]\n",
      "[INFO] epoch 189: y recon loss: 26.662931822124282 [csvae.py fit]\n"
     ]
    },
    {
     "name": "stderr",
     "output_type": "stream",
     "text": [
      "\r",
      " 95%|█████████▌| 190/200 [00:50<00:02,  4.00it/s]"
     ]
    },
    {
     "name": "stdout",
     "output_type": "stream",
     "text": [
      "[INFO] epoch 190: x recon loss: 0.005990262502531341 [csvae.py fit]\n",
      "[INFO] epoch 190: y recon loss: 26.66299236916747 [csvae.py fit]\n"
     ]
    },
    {
     "name": "stderr",
     "output_type": "stream",
     "text": [
      "\r",
      " 96%|█████████▌| 191/200 [00:50<00:02,  4.01it/s]"
     ]
    },
    {
     "name": "stdout",
     "output_type": "stream",
     "text": [
      "[INFO] epoch 191: x recon loss: 0.00598222810246322 [csvae.py fit]\n",
      "[INFO] epoch 191: y recon loss: 26.66279580672582 [csvae.py fit]\n"
     ]
    },
    {
     "name": "stderr",
     "output_type": "stream",
     "text": [
      "\r",
      " 96%|█████████▌| 192/200 [00:50<00:01,  4.00it/s]"
     ]
    },
    {
     "name": "stdout",
     "output_type": "stream",
     "text": [
      "[INFO] epoch 192: x recon loss: 0.005974819921487894 [csvae.py fit]\n",
      "[INFO] epoch 192: y recon loss: 26.66296821870952 [csvae.py fit]\n"
     ]
    },
    {
     "name": "stderr",
     "output_type": "stream",
     "text": [
      "\r",
      " 96%|█████████▋| 193/200 [00:51<00:01,  4.01it/s]"
     ]
    },
    {
     "name": "stdout",
     "output_type": "stream",
     "text": [
      "[INFO] epoch 193: x recon loss: 0.005967017186411954 [csvae.py fit]\n",
      "[INFO] epoch 193: y recon loss: 26.66256914197784 [csvae.py fit]\n"
     ]
    },
    {
     "name": "stderr",
     "output_type": "stream",
     "text": [
      "\r",
      " 97%|█████████▋| 194/200 [00:51<00:01,  4.02it/s]"
     ]
    },
    {
     "name": "stdout",
     "output_type": "stream",
     "text": [
      "[INFO] epoch 194: x recon loss: 0.005960122283070515 [csvae.py fit]\n",
      "[INFO] epoch 194: y recon loss: 26.662428637773562 [csvae.py fit]\n"
     ]
    },
    {
     "name": "stderr",
     "output_type": "stream",
     "text": [
      "\r",
      " 98%|█████████▊| 195/200 [00:51<00:01,  4.03it/s]"
     ]
    },
    {
     "name": "stdout",
     "output_type": "stream",
     "text": [
      "[INFO] epoch 195: x recon loss: 0.005952196642233781 [csvae.py fit]\n",
      "[INFO] epoch 195: y recon loss: 26.662793322582633 [csvae.py fit]\n"
     ]
    },
    {
     "name": "stderr",
     "output_type": "stream",
     "text": [
      "\r",
      " 98%|█████████▊| 196/200 [00:51<00:00,  4.08it/s]"
     ]
    },
    {
     "name": "stdout",
     "output_type": "stream",
     "text": [
      "[INFO] epoch 196: x recon loss: 0.005945567502663825 [csvae.py fit]\n",
      "[INFO] epoch 196: y recon loss: 26.662745819479074 [csvae.py fit]\n"
     ]
    },
    {
     "name": "stderr",
     "output_type": "stream",
     "text": [
      "\r",
      " 98%|█████████▊| 197/200 [00:52<00:00,  4.12it/s]"
     ]
    },
    {
     "name": "stdout",
     "output_type": "stream",
     "text": [
      "[INFO] epoch 197: x recon loss: 0.005938478219558042 [csvae.py fit]\n",
      "[INFO] epoch 197: y recon loss: 26.662906350800487 [csvae.py fit]\n"
     ]
    },
    {
     "name": "stderr",
     "output_type": "stream",
     "text": [
      "\r",
      " 99%|█████████▉| 198/200 [00:52<00:00,  4.09it/s]"
     ]
    },
    {
     "name": "stdout",
     "output_type": "stream",
     "text": [
      "[INFO] epoch 198: x recon loss: 0.005931842278071384 [csvae.py fit]\n",
      "[INFO] epoch 198: y recon loss: 26.66276218663508 [csvae.py fit]\n"
     ]
    },
    {
     "name": "stderr",
     "output_type": "stream",
     "text": [
      "\r",
      "100%|█████████▉| 199/200 [00:52<00:00,  3.62it/s]"
     ]
    },
    {
     "name": "stdout",
     "output_type": "stream",
     "text": [
      "[INFO] epoch 199: x recon loss: 0.005924175563501194 [csvae.py fit]\n",
      "[INFO] epoch 199: y recon loss: 26.662830183792114 [csvae.py fit]\n"
     ]
    },
    {
     "name": "stderr",
     "output_type": "stream",
     "text": [
      "100%|██████████| 200/200 [00:52<00:00,  3.77it/s]"
     ]
    },
    {
     "name": "stdout",
     "output_type": "stream",
     "text": [
      "[INFO] ... finished training of CSVAE [csvae.py fit]\n"
     ]
    },
    {
     "name": "stderr",
     "output_type": "stream",
     "text": [
      "\n",
      "100%|██████████| 295/295 [16:28<00:00,  3.35s/it]\n"
     ]
    },
    {
     "data": {
      "image/png": "[encoded data removed]",
      "text/plain": [
       "<Figure size 432x288 with 1 Axes>"
      ]
     },
     "metadata": {},
     "output_type": "display_data"
    },
    {
     "name": "stdout",
     "output_type": "stream",
     "text": [
      "Current Centralization is 0.5\n",
      "Current Atkinson is 0.9842668861352033\n",
      "Current Avg Proxi Index is 0.7532966883302533\n",
      "invalidation is 0.0\n",
      "0.39119240595729116\n",
      "0.38518430162473893\n",
      "0.006008104332552222\n",
      "(295, 4)\n",
      "(295,)\n"
     ]
    }
   ],
   "source": [
    "hyperparams ={\n",
    "\"data_name\": \"crud\", \n",
    "\"target_class\": [0, 1],\n",
    "\"lambda_param\": 0.001,\n",
    "\"optimizer\": \"RMSprop\",\n",
    "\"lr\": 1e-3,\n",
    "\"max_iter\": 2000,\n",
    "\n",
    "\"binary_cat_features\": True,\n",
    "\"vae_params\": {\n",
    "    \"layers\":  [len(ml_model.feature_input_order)-\\\n",
    "            len(dataset.immutables), 256,2],\n",
    "    \"train\": True,\n",
    "    \"epochs\": 200,\n",
    "    \"lr\": 1e-2,\n",
    "    \"batch_size\": 32,\n",
    "},\n",
    "}\n",
    "ar_model = CRUD(ml_model, hyperparams) \n",
    "\n",
    "negative_instances = dataset.df_train[ml_model.predict(dataset.df_train)<0.5]\n",
    "negative_instances.to_csv('./balance_data/syn_negative_instances.csv')\n",
    "cf = ar_model.get_counterfactuals(negative_instances)\n",
    "cf.index = negative_instances.index\n",
    "sensitive = \"sex_1\"\n",
    "\n",
    "import matplotlib.pyplot as plt\n",
    "import copy \n",
    "current_population = copy.deepcopy(dataset.df_train)\n",
    "\n",
    "cf = encode_constraint(cf, negative_instances, [sensitive])\n",
    "current_population = copy.deepcopy(dataset.df_train)\n",
    "current_population.loc[negative_instances.index,['x1','x2',sensitive]] = cf[['x1','x2',sensitive]].values\n",
    "current_population = current_population.dropna()\n",
    "plt.scatter(current_population.x1[current_population[sensitive]==1],current_population.x2[current_population[sensitive]==1],label='male')\n",
    "plt.scatter(current_population.x1[current_population[sensitive]==0],current_population.x2[current_population[sensitive]==0],label='female')\n",
    "temp1 = cf['x1'][negative_instances[sensitive]==1]\n",
    "temp2 = cf['x2'][negative_instances[sensitive]==1]\n",
    "# randomization for visual purpose \n",
    "noise = 0\n",
    "plt.scatter(temp1 + np.random.uniform(size=len(temp1)) * noise,\\\n",
    "    temp2 + np.random.uniform(size=len(temp2)) * noise, label = 'recourse male')\n",
    "temp1 = cf['x1'][negative_instances[sensitive]==0]\n",
    "temp2 = cf['x2'][negative_instances[sensitive]==0]\n",
    "plt.scatter(temp1 + np.random.uniform(size=len(temp1)) * noise,\\\n",
    "    temp2 + np.random.uniform(size=len(temp2)) * noise, label = 'recourse female')\n",
    "plt.legend()\n",
    "plt.show()\n",
    "plt.savefig(f'./log/synfig/syn_crud_after.pdf')\n",
    "plt.close()\n",
    "\n",
    "features = ['x1','x2']\n",
    "pred = (ml_model.predict(current_population) > 0.5).reshape(-1)\n",
    "predprob = (ml_model.predict(current_population)).reshape(-1)\n",
    "c_central, radius = centralization(current_population[sen_feature].values, \\\n",
    "    current_population[features].values, \n",
    "    radius\n",
    "    )\n",
    "print(f'Current Centralization is {c_central}')\n",
    "c_atkinson = atkinson(current_population[sen_feature].values, \\\n",
    "    current_population[features].values, \\\n",
    "    origin_features = dataset.df_train[mutable_feature].values)\n",
    "print(f'Current Atkinson is {c_atkinson}')\n",
    "a = current_population\n",
    "b = dataset.df_train\n",
    "c_ap = avg_proximity2(a[sen_feature].values, \\\n",
    "    a[features].values)\n",
    "print(f'Current Avg Proxi Index is {c_ap}')    \n",
    "\n",
    "inv_rate = invalidation(cf, ml_model)\n",
    "print(f'invalidation is {inv_rate}')\n",
    "rec_cost = recourse_cost(negative_instances, cf)\n",
    "\n",
    "negative_sens = negative_instances[sensitive]\n",
    "rec_fair = fairness_cost(negative_instances, cf, negative_sens)\n",
    "\n",
    "vynn = ynn(dataset.df[cf.columns], cf, ml_model, 5)\n",
    "close = closeness(cf[mutable_feature], dataset.df[dataset.df.y==1][mutable_feature])\n",
    "result = result.append({'metric':'centralization_after', \\\n",
    "    'value': c_central, 'method': 'CRUD'}, ignore_index = True)\n",
    "result = result.append({'metric':'atkinson_after', \\\n",
    "    'value': c_atkinson, 'method': 'CRUD'}, ignore_index = True)\n",
    "result = result.append({'metric':'avgproxi_after', \\\n",
    "    'value': c_ap, 'method': 'CRUD'}, ignore_index = True)\n",
    "\n",
    "result = result.append({'metric':'inv_rate', \\\n",
    "    'value': inv_rate, 'method': 'CRUD'}, ignore_index = True)\n",
    "result = result.append({ 'metric':'recourse_cost', \\\n",
    "    'value': rec_cost,  'method': 'CRUD'}, ignore_index = True)\n",
    "result = result.append({ 'metric':'recourse_faircost', \\\n",
    "    'value': rec_fair,  'method': 'CRUD'}, ignore_index = True) \n",
    "result = result.append({ 'metric':'ynn', \\\n",
    "    'value': vynn,  'method': 'CRUD'}, ignore_index = True)             \n",
    "result.value = result.value.astype(float)"
   ]
  },
  {
   "cell_type": "code",
   "execution_count": 13,
   "id": "18e4fee2",
   "metadata": {},
   "outputs": [
    {
     "data": {
      "text/html": [
       "<div>\n",
       "<style scoped>\n",
       "    .dataframe tbody tr th:only-of-type {\n",
       "        vertical-align: middle;\n",
       "    }\n",
       "\n",
       "    .dataframe tbody tr th {\n",
       "        vertical-align: top;\n",
       "    }\n",
       "\n",
       "    .dataframe thead th {\n",
       "        text-align: right;\n",
       "    }\n",
       "</style>\n",
       "<table border=\"1\" class=\"dataframe\">\n",
       "  <thead>\n",
       "    <tr style=\"text-align: right;\">\n",
       "      <th></th>\n",
       "      <th>metric</th>\n",
       "      <th>value</th>\n",
       "      <th>method</th>\n",
       "    </tr>\n",
       "  </thead>\n",
       "  <tbody>\n",
       "    <tr>\n",
       "      <th>0</th>\n",
       "      <td>centralization_pre</td>\n",
       "      <td>0.493056</td>\n",
       "      <td>None</td>\n",
       "    </tr>\n",
       "    <tr>\n",
       "      <th>1</th>\n",
       "      <td>atkinson_pre</td>\n",
       "      <td>0.797725</td>\n",
       "      <td>None</td>\n",
       "    </tr>\n",
       "    <tr>\n",
       "      <th>2</th>\n",
       "      <td>avgproxi_pre</td>\n",
       "      <td>0.662624</td>\n",
       "      <td>None</td>\n",
       "    </tr>\n",
       "    <tr>\n",
       "      <th>3</th>\n",
       "      <td>centralization_after</td>\n",
       "      <td>0.500000</td>\n",
       "      <td>Watcher</td>\n",
       "    </tr>\n",
       "    <tr>\n",
       "      <th>4</th>\n",
       "      <td>atkinson_after</td>\n",
       "      <td>0.823536</td>\n",
       "      <td>Watcher</td>\n",
       "    </tr>\n",
       "    <tr>\n",
       "      <th>5</th>\n",
       "      <td>avgproxi_after</td>\n",
       "      <td>0.735595</td>\n",
       "      <td>Watcher</td>\n",
       "    </tr>\n",
       "    <tr>\n",
       "      <th>6</th>\n",
       "      <td>inv_rate</td>\n",
       "      <td>0.000000</td>\n",
       "      <td>Watcher</td>\n",
       "    </tr>\n",
       "    <tr>\n",
       "      <th>7</th>\n",
       "      <td>recourse_cost</td>\n",
       "      <td>0.296403</td>\n",
       "      <td>Watcher</td>\n",
       "    </tr>\n",
       "    <tr>\n",
       "      <th>8</th>\n",
       "      <td>recourse_faircost</td>\n",
       "      <td>0.015337</td>\n",
       "      <td>Watcher</td>\n",
       "    </tr>\n",
       "    <tr>\n",
       "      <th>9</th>\n",
       "      <td>ynn</td>\n",
       "      <td>0.649492</td>\n",
       "      <td>Watcher</td>\n",
       "    </tr>\n",
       "    <tr>\n",
       "      <th>10</th>\n",
       "      <td>centralization_after</td>\n",
       "      <td>0.500000</td>\n",
       "      <td>CCHVAE</td>\n",
       "    </tr>\n",
       "    <tr>\n",
       "      <th>11</th>\n",
       "      <td>atkinson_after</td>\n",
       "      <td>0.984267</td>\n",
       "      <td>CCHVAE</td>\n",
       "    </tr>\n",
       "    <tr>\n",
       "      <th>12</th>\n",
       "      <td>avgproxi_after</td>\n",
       "      <td>0.729653</td>\n",
       "      <td>CCHVAE</td>\n",
       "    </tr>\n",
       "    <tr>\n",
       "      <th>13</th>\n",
       "      <td>inv_rate</td>\n",
       "      <td>0.000000</td>\n",
       "      <td>CCHVAE</td>\n",
       "    </tr>\n",
       "    <tr>\n",
       "      <th>14</th>\n",
       "      <td>recourse_cost</td>\n",
       "      <td>0.270499</td>\n",
       "      <td>CCHVAE</td>\n",
       "    </tr>\n",
       "    <tr>\n",
       "      <th>15</th>\n",
       "      <td>recourse_faircost</td>\n",
       "      <td>0.008486</td>\n",
       "      <td>CCHVAE</td>\n",
       "    </tr>\n",
       "    <tr>\n",
       "      <th>16</th>\n",
       "      <td>ynn</td>\n",
       "      <td>0.449492</td>\n",
       "      <td>CCHVAE</td>\n",
       "    </tr>\n",
       "    <tr>\n",
       "      <th>17</th>\n",
       "      <td>centralization_after</td>\n",
       "      <td>0.500000</td>\n",
       "      <td>CRUD</td>\n",
       "    </tr>\n",
       "    <tr>\n",
       "      <th>18</th>\n",
       "      <td>atkinson_after</td>\n",
       "      <td>0.984267</td>\n",
       "      <td>CRUD</td>\n",
       "    </tr>\n",
       "    <tr>\n",
       "      <th>19</th>\n",
       "      <td>avgproxi_after</td>\n",
       "      <td>0.753297</td>\n",
       "      <td>CRUD</td>\n",
       "    </tr>\n",
       "    <tr>\n",
       "      <th>20</th>\n",
       "      <td>inv_rate</td>\n",
       "      <td>0.000000</td>\n",
       "      <td>CRUD</td>\n",
       "    </tr>\n",
       "    <tr>\n",
       "      <th>21</th>\n",
       "      <td>recourse_cost</td>\n",
       "      <td>0.388015</td>\n",
       "      <td>CRUD</td>\n",
       "    </tr>\n",
       "    <tr>\n",
       "      <th>22</th>\n",
       "      <td>recourse_faircost</td>\n",
       "      <td>0.006008</td>\n",
       "      <td>CRUD</td>\n",
       "    </tr>\n",
       "    <tr>\n",
       "      <th>23</th>\n",
       "      <td>ynn</td>\n",
       "      <td>1.000000</td>\n",
       "      <td>CRUD</td>\n",
       "    </tr>\n",
       "  </tbody>\n",
       "</table>\n",
       "</div>"
      ],
      "text/plain": [
       "                  metric     value   method\n",
       "0     centralization_pre  0.493056     None\n",
       "1           atkinson_pre  0.797725     None\n",
       "2           avgproxi_pre  0.662624     None\n",
       "3   centralization_after  0.500000  Watcher\n",
       "4         atkinson_after  0.823536  Watcher\n",
       "5         avgproxi_after  0.735595  Watcher\n",
       "6               inv_rate  0.000000  Watcher\n",
       "7          recourse_cost  0.296403  Watcher\n",
       "8      recourse_faircost  0.015337  Watcher\n",
       "9                    ynn  0.649492  Watcher\n",
       "10  centralization_after  0.500000   CCHVAE\n",
       "11        atkinson_after  0.984267   CCHVAE\n",
       "12        avgproxi_after  0.729653   CCHVAE\n",
       "13              inv_rate  0.000000   CCHVAE\n",
       "14         recourse_cost  0.270499   CCHVAE\n",
       "15     recourse_faircost  0.008486   CCHVAE\n",
       "16                   ynn  0.449492   CCHVAE\n",
       "17  centralization_after  0.500000     CRUD\n",
       "18        atkinson_after  0.984267     CRUD\n",
       "19        avgproxi_after  0.753297     CRUD\n",
       "20              inv_rate  0.000000     CRUD\n",
       "21         recourse_cost  0.388015     CRUD\n",
       "22     recourse_faircost  0.006008     CRUD\n",
       "23                   ynn  1.000000     CRUD"
      ]
     },
     "execution_count": 13,
     "metadata": {},
     "output_type": "execute_result"
    }
   ],
   "source": [
    "result"
   ]
  },
  {
   "cell_type": "markdown",
   "id": "5c268078",
   "metadata": {},
   "source": [
    "# IBR"
   ]
  },
  {
   "cell_type": "code",
   "execution_count": 14,
   "id": "18e3bc9e",
   "metadata": {},
   "outputs": [
    {
     "name": "stdout",
     "output_type": "stream",
     "text": [
      "['sex_1', 'x1', 'x2']\n",
      "[INFO] Start training of Variational Autoencoder... [balancevae.py fit]\n",
      "[INFO] sen regularization is 1 [balancevae.py fit]\n",
      "[INFO] [Epoch: 0/100] [objective: 84.572] [balancevae.py fit]\n",
      "[INFO] [Epoch: 0/100] [sens objective: 0.499] [balancevae.py fit]\n",
      "[INFO] [ELBO train: 84.57] [balancevae.py fit]\n",
      "[INFO] [ELBO train: 79.97] [balancevae.py fit]\n",
      "[INFO] [ELBO train: 79.38] [balancevae.py fit]\n",
      "[INFO] [ELBO train: 79.51] [balancevae.py fit]\n",
      "[INFO] [ELBO train: 80.27] [balancevae.py fit]\n",
      "[INFO] [ELBO train: 80.54] [balancevae.py fit]\n",
      "[INFO] [ELBO train: 80.66] [balancevae.py fit]\n",
      "[INFO] [ELBO train: 81.53] [balancevae.py fit]\n",
      "[INFO] [ELBO train: 81.57] [balancevae.py fit]\n",
      "[INFO] [ELBO train: 81.97] [balancevae.py fit]\n",
      "[INFO] [Epoch: 10/100] [objective: 82.104] [balancevae.py fit]\n",
      "[INFO] [Epoch: 10/100] [sens objective: 0.503] [balancevae.py fit]\n",
      "[INFO] [ELBO train: 82.1] [balancevae.py fit]\n",
      "[INFO] [ELBO train: 82.5] [balancevae.py fit]\n",
      "[INFO] [ELBO train: 82.56] [balancevae.py fit]\n",
      "[INFO] [ELBO train: 82.63] [balancevae.py fit]\n",
      "[INFO] [ELBO train: 82.86] [balancevae.py fit]\n",
      "[INFO] [ELBO train: 83.11] [balancevae.py fit]\n",
      "[INFO] [ELBO train: 83.55] [balancevae.py fit]\n",
      "[INFO] [ELBO train: 83.61] [balancevae.py fit]\n",
      "[INFO] [ELBO train: 83.97] [balancevae.py fit]\n",
      "[INFO] [ELBO train: 83.78] [balancevae.py fit]\n",
      "[INFO] [Epoch: 20/100] [objective: 84.046] [balancevae.py fit]\n",
      "[INFO] [Epoch: 20/100] [sens objective: 0.500] [balancevae.py fit]\n",
      "[INFO] [ELBO train: 84.05] [balancevae.py fit]\n",
      "[INFO] [ELBO train: 84.58] [balancevae.py fit]\n",
      "[INFO] [ELBO train: 84.65] [balancevae.py fit]\n",
      "[INFO] [ELBO train: 84.78] [balancevae.py fit]\n",
      "[INFO] [ELBO train: 84.29] [balancevae.py fit]\n",
      "[INFO] [ELBO train: 85.01] [balancevae.py fit]\n",
      "[INFO] [ELBO train: 84.93] [balancevae.py fit]\n",
      "[INFO] [ELBO train: 84.84] [balancevae.py fit]\n",
      "[INFO] [ELBO train: 84.99] [balancevae.py fit]\n",
      "[INFO] [ELBO train: 85.22] [balancevae.py fit]\n",
      "[INFO] [Epoch: 30/100] [objective: 84.633] [balancevae.py fit]\n",
      "[INFO] [Epoch: 30/100] [sens objective: 0.501] [balancevae.py fit]\n",
      "[INFO] [ELBO train: 84.63] [balancevae.py fit]\n",
      "[INFO] [ELBO train: 84.86] [balancevae.py fit]\n",
      "[INFO] [ELBO train: 85.23] [balancevae.py fit]\n",
      "[INFO] [ELBO train: 85.1] [balancevae.py fit]\n",
      "[INFO] [ELBO train: 84.94] [balancevae.py fit]\n",
      "[INFO] [ELBO train: 85.01] [balancevae.py fit]\n",
      "[INFO] [ELBO train: 84.99] [balancevae.py fit]\n",
      "[INFO] [ELBO train: 84.87] [balancevae.py fit]\n",
      "[INFO] [ELBO train: 84.97] [balancevae.py fit]\n",
      "[INFO] [ELBO train: 85.08] [balancevae.py fit]\n",
      "[INFO] [Epoch: 40/100] [objective: 84.911] [balancevae.py fit]\n",
      "[INFO] [Epoch: 40/100] [sens objective: 0.501] [balancevae.py fit]\n",
      "[INFO] [ELBO train: 84.91] [balancevae.py fit]\n",
      "[INFO] [ELBO train: 84.85] [balancevae.py fit]\n",
      "[INFO] [ELBO train: 84.83] [balancevae.py fit]\n",
      "[INFO] [ELBO train: 84.88] [balancevae.py fit]\n",
      "[INFO] [ELBO train: 84.87] [balancevae.py fit]\n",
      "[INFO] [ELBO train: 84.81] [balancevae.py fit]\n",
      "[INFO] [ELBO train: 84.94] [balancevae.py fit]\n",
      "[INFO] [ELBO train: 85.02] [balancevae.py fit]\n",
      "[INFO] [ELBO train: 84.94] [balancevae.py fit]\n",
      "[INFO] [ELBO train: 84.83] [balancevae.py fit]\n",
      "[INFO] [Epoch: 50/100] [objective: 84.874] [balancevae.py fit]\n",
      "[INFO] [Epoch: 50/100] [sens objective: 0.501] [balancevae.py fit]\n",
      "[INFO] [ELBO train: 84.87] [balancevae.py fit]\n",
      "[INFO] [ELBO train: 84.86] [balancevae.py fit]\n",
      "[INFO] [ELBO train: 84.86] [balancevae.py fit]\n",
      "[INFO] [ELBO train: 84.84] [balancevae.py fit]\n",
      "[INFO] [ELBO train: 84.97] [balancevae.py fit]\n",
      "[INFO] [ELBO train: 84.88] [balancevae.py fit]\n",
      "[INFO] [ELBO train: 84.87] [balancevae.py fit]\n",
      "[INFO] [ELBO train: 84.88] [balancevae.py fit]\n",
      "[INFO] [ELBO train: 84.87] [balancevae.py fit]\n",
      "[INFO] [ELBO train: 84.84] [balancevae.py fit]\n",
      "[INFO] [Epoch: 60/100] [objective: 84.952] [balancevae.py fit]\n",
      "[INFO] [Epoch: 60/100] [sens objective: 0.498] [balancevae.py fit]\n",
      "[INFO] [ELBO train: 84.95] [balancevae.py fit]\n",
      "[INFO] [ELBO train: 84.84] [balancevae.py fit]\n",
      "[INFO] [ELBO train: 84.86] [balancevae.py fit]\n",
      "[INFO] [ELBO train: 84.87] [balancevae.py fit]\n",
      "[INFO] [ELBO train: 84.9] [balancevae.py fit]\n",
      "[INFO] [ELBO train: 84.97] [balancevae.py fit]\n",
      "[INFO] [ELBO train: 84.83] [balancevae.py fit]\n",
      "[INFO] [ELBO train: 84.89] [balancevae.py fit]\n",
      "[INFO] [ELBO train: 84.88] [balancevae.py fit]\n",
      "[INFO] [ELBO train: 84.91] [balancevae.py fit]\n",
      "[INFO] [Epoch: 70/100] [objective: 84.887] [balancevae.py fit]\n",
      "[INFO] [Epoch: 70/100] [sens objective: 0.500] [balancevae.py fit]\n",
      "[INFO] [ELBO train: 84.89] [balancevae.py fit]\n",
      "[INFO] [ELBO train: 84.9] [balancevae.py fit]\n",
      "[INFO] [ELBO train: 84.88] [balancevae.py fit]\n",
      "[INFO] [ELBO train: 84.87] [balancevae.py fit]\n",
      "[INFO] [ELBO train: 84.87] [balancevae.py fit]\n",
      "[INFO] [ELBO train: 84.85] [balancevae.py fit]\n",
      "[INFO] [ELBO train: 84.86] [balancevae.py fit]\n",
      "[INFO] [ELBO train: 84.91] [balancevae.py fit]\n",
      "[INFO] [ELBO train: 84.85] [balancevae.py fit]\n",
      "[INFO] [ELBO train: 84.82] [balancevae.py fit]\n",
      "[INFO] [Epoch: 80/100] [objective: 84.932] [balancevae.py fit]\n",
      "[INFO] [Epoch: 80/100] [sens objective: 0.499] [balancevae.py fit]\n",
      "[INFO] [ELBO train: 84.93] [balancevae.py fit]\n",
      "[INFO] [ELBO train: 84.94] [balancevae.py fit]\n",
      "[INFO] [ELBO train: 84.87] [balancevae.py fit]\n",
      "[INFO] [ELBO train: 84.89] [balancevae.py fit]\n",
      "[INFO] [ELBO train: 84.87] [balancevae.py fit]\n",
      "[INFO] [ELBO train: 84.91] [balancevae.py fit]\n",
      "[INFO] [ELBO train: 84.88] [balancevae.py fit]\n",
      "[INFO] [ELBO train: 84.87] [balancevae.py fit]\n",
      "[INFO] [ELBO train: 84.84] [balancevae.py fit]\n",
      "[INFO] [ELBO train: 84.9] [balancevae.py fit]\n",
      "[INFO] [Epoch: 90/100] [objective: 84.863] [balancevae.py fit]\n",
      "[INFO] [Epoch: 90/100] [sens objective: 0.502] [balancevae.py fit]\n",
      "[INFO] [ELBO train: 84.86] [balancevae.py fit]\n",
      "[INFO] [ELBO train: 84.9] [balancevae.py fit]\n",
      "[INFO] [ELBO train: 84.86] [balancevae.py fit]\n",
      "[INFO] [ELBO train: 84.87] [balancevae.py fit]\n",
      "[INFO] [ELBO train: 84.89] [balancevae.py fit]\n",
      "[INFO] [ELBO train: 84.86] [balancevae.py fit]\n",
      "[INFO] [ELBO train: 84.84] [balancevae.py fit]\n",
      "[INFO] [ELBO train: 84.86] [balancevae.py fit]\n",
      "[INFO] [ELBO train: 84.91] [balancevae.py fit]\n",
      "[INFO] [ELBO train: 84.9] [balancevae.py fit]\n",
      "[INFO] ... finished training of Variational Autoencoder. [balancevae.py fit]\n"
     ]
    },
    {
     "name": "stderr",
     "output_type": "stream",
     "text": [
      "100%|██████████| 295/295 [03:40<00:00,  1.34it/s]\n"
     ]
    },
    {
     "data": {
      "image/png": "[encoded data removed]",
      "text/plain": [
       "<Figure size 432x288 with 1 Axes>"
      ]
     },
     "metadata": {},
     "output_type": "display_data"
    },
    {
     "name": "stdout",
     "output_type": "stream",
     "text": [
      "Current Centralization is 0.27692307692307694\n",
      "Current Atkinson is 0.7356986795147807\n",
      "Current Avg Proxi Index is 0.7799183218332438\n",
      "invalidation is 0.0\n",
      "0.11275767244137104\n",
      "0.3300543859899606\n",
      "0.2172967135485896\n",
      "(295, 4)\n",
      "(295,)\n"
     ]
    }
   ],
   "source": [
    "sen_feature = 'sex_1'\n",
    "sen_mask = np.ones(len(ml_model.feature_input_order), dtype=bool)\n",
    "print(ml_model.feature_input_order)\n",
    "sen_mask[ml_model.feature_input_order.index(sen_feature)] = False\n",
    "sen_mask = 1 - sen_mask\n",
    "hyperparams = {\n",
    "    \"data_name\": dataset.name,\n",
    "    \"n_search_samples\": 100,\n",
    "    \"p_norm\": 2,\n",
    "    \"step\": 0.1,\n",
    "    \"max_iter\": 2000,\n",
    "    \"clamp\": True,\n",
    "    \"binary_cat_features\": True,\n",
    "    \"vae_params\": {\n",
    "        \"layers\": [len(ml_model.feature_input_order)-\\\n",
    "            len(dataset.immutables), 256,128, 8],\n",
    "        \"train\": True,\n",
    "        \"lambda_reg\": 1e-6,\n",
    "        \"epochs\": 100,\n",
    "        \"lr\": 1e-3,\n",
    "        \"kl_weight\": 1, \n",
    "        \"batch_size\": 64,\n",
    "    },  \n",
    "    \"sen_mask\": sen_mask, \n",
    "    \"gamma\": 1\n",
    "}\n",
    "ar_model = balanceCCHVAE(ml_model, hyperparams)\n",
    "\n",
    "negative_instances = dataset.df_train[ml_model.predict(dataset.df_train)<0.5]\n",
    "negative_instances.to_csv('./balance_data/syn_negative_instances.csv')\n",
    "cf = ar_model.get_counterfactuals(negative_instances)\n",
    "cf.index = negative_instances.index\n",
    "sensitive = \"sex_1\"\n",
    "\n",
    "import matplotlib.pyplot as plt\n",
    "import copy \n",
    "current_population = copy.deepcopy(dataset.df_train)\n",
    "\n",
    "cf = encode_constraint(cf, negative_instances, [sensitive])\n",
    "current_population = copy.deepcopy(dataset.df_train)\n",
    "current_population.loc[negative_instances.index,['x1','x2',sensitive]] = cf[['x1','x2',sensitive]].values\n",
    "current_population = current_population.dropna()\n",
    "plt.scatter(current_population.x1[current_population[sensitive]==1],current_population.x2[current_population[sensitive]==1],label='male')\n",
    "plt.scatter(current_population.x1[current_population[sensitive]==0],current_population.x2[current_population[sensitive]==0],label='female')\n",
    "temp1 = cf['x1'][negative_instances[sensitive]==1]\n",
    "temp2 = cf['x2'][negative_instances[sensitive]==1]\n",
    "# randomization for visual purpose \n",
    "noise = 0\n",
    "plt.scatter(temp1 + np.random.uniform(size=len(temp1)) * noise,\\\n",
    "    temp2 + np.random.uniform(size=len(temp2)) * noise, label = 'recourse male')\n",
    "temp1 = cf['x1'][negative_instances[sensitive]==0]\n",
    "temp2 = cf['x2'][negative_instances[sensitive]==0]\n",
    "plt.scatter(temp1 + np.random.uniform(size=len(temp1)) * noise,\\\n",
    "    temp2 + np.random.uniform(size=len(temp2)) * noise, label = 'recourse female')\n",
    "plt.legend()\n",
    "plt.show()\n",
    "plt.savefig(f'./log/synfig/syn_ibr_after.pdf')\n",
    "plt.close()\n",
    "\n",
    "features = ['x1','x2']\n",
    "pred = (ml_model.predict(current_population) > 0.5).reshape(-1)\n",
    "predprob = (ml_model.predict(current_population)).reshape(-1)\n",
    "c_central, radius = centralization(current_population[sen_feature].values, \\\n",
    "    current_population[features].values, \n",
    "    radius\n",
    "    )\n",
    "print(f'Current Centralization is {c_central}')\n",
    "c_atkinson = atkinson(current_population[sen_feature].values, \\\n",
    "    current_population[features].values, \\\n",
    "    origin_features = dataset.df_train[mutable_feature].values)\n",
    "print(f'Current Atkinson is {c_atkinson}')\n",
    "a = current_population\n",
    "b = dataset.df_train\n",
    "c_ap = avg_proximity2(a[sen_feature].values, \\\n",
    "    a[features].values)\n",
    "print(f'Current Avg Proxi Index is {c_ap}')    \n",
    "\n",
    "inv_rate = invalidation(cf, ml_model)\n",
    "print(f'invalidation is {inv_rate}')\n",
    "rec_cost = recourse_cost(negative_instances, cf)\n",
    "\n",
    "negative_sens = negative_instances[sensitive]\n",
    "rec_fair = fairness_cost(negative_instances, cf, negative_sens)\n",
    "\n",
    "vynn = ynn(dataset.df[cf.columns], cf, ml_model, 5)\n",
    "close = closeness(cf[mutable_feature], dataset.df[dataset.df.y==1][mutable_feature])\n",
    "result = result.append({'metric':'centralization_after', \\\n",
    "    'value': c_central, 'method': 'IBR'}, ignore_index = True)\n",
    "result = result.append({'metric':'atkinson_after', \\\n",
    "    'value': c_atkinson, 'method': 'IBR'}, ignore_index = True)\n",
    "result = result.append({'metric':'avgproxi_after', \\\n",
    "    'value': c_ap, 'method': 'IBR'}, ignore_index = True)\n",
    "\n",
    "result = result.append({'metric':'inv_rate', \\\n",
    "    'value': inv_rate, 'method': 'IBR'}, ignore_index = True)\n",
    "result = result.append({ 'metric':'recourse_cost', \\\n",
    "    'value': rec_cost,  'method': 'IBR'}, ignore_index = True)\n",
    "result = result.append({ 'metric':'recourse_faircost', \\\n",
    "    'value': rec_fair,  'method': 'IBR'}, ignore_index = True) \n",
    "result = result.append({ 'metric':'ynn', \\\n",
    "    'value': vynn,  'method': 'IBR'}, ignore_index = True)             \n",
    "result.value = result.value.astype(float)"
   ]
  },
  {
   "cell_type": "markdown",
   "id": "762bec82",
   "metadata": {},
   "source": [
    "# EBR "
   ]
  },
  {
   "cell_type": "code",
   "execution_count": 15,
   "id": "bde65831",
   "metadata": {},
   "outputs": [
    {
     "data": {
      "image/png": "[encoded data removed]",
      "text/plain": [
       "<Figure size 432x288 with 1 Axes>"
      ]
     },
     "metadata": {},
     "output_type": "display_data"
    },
    {
     "name": "stdout",
     "output_type": "stream",
     "text": [
      "Current Centralization is 0.2951388888888889\n",
      "Current Atkinson is 0.6785554729755973\n",
      "Current Avg Proxi Index is 0.8342689384898623\n",
      "invalidation is 0.0\n",
      "0.40766916841008666\n",
      "0.4610777300612426\n",
      "0.05340856165115593\n",
      "(295, 3)\n",
      "(295,)\n"
     ]
    }
   ],
   "source": [
    "import pandas as pd \n",
    "sampled_data = pd.read_csv('./balance_data/sampled_data/balance_sampling.csv', index_col = 0)\n",
    "mutable = ['x1','x2']\n",
    "cf = []\n",
    "sampled_data = sampled_data.sample(500)\n",
    "filter_thres = 0.5\n",
    "from sklearn.metrics import pairwise_distances\n",
    "sampled_data_filtered = sampled_data[sampled_data.density > np.quantile(sampled_data.density,filter_thres)]\n",
    "current_population = copy.deepcopy(dataset.df_train)\n",
    "plt.scatter(current_population.x1[current_population.sex_1==1],current_population.x2[current_population.sex_1==1],label='male')\n",
    "plt.scatter(current_population.x1[current_population.sex_1==0],current_population.x2[current_population.sex_1==0],label='female')\n",
    "plt.scatter(sampled_data_filtered['x1'],sampled_data_filtered['x2'])\n",
    "plt.legend()\n",
    "plt.title('original distribution')\n",
    "plt.close()\n",
    "for i in negative_instances.index:\n",
    "    thisdata = negative_instances.loc[i]\n",
    "    # find closest point in sampled_data_filtered which can be accepted \n",
    "    distance = pairwise_distances(thisdata[mutable].values.reshape(1,-1), sampled_data_filtered[mutable], metric='euclidean')\n",
    "    thissample = sampled_data_filtered.copy()[mutable]\n",
    "    thissample['sex_1'] = thisdata['sex_1']\n",
    "    result1 = ml_model.predict(thissample).reshape(-1)\n",
    "    # pick the one with lowest distance \n",
    "    for j in np.argsort(distance[0]):\n",
    "        if result1[j] > 0.5:\n",
    "            cf.append(thissample.iloc[j])\n",
    "            break\n",
    "cf = pd.DataFrame(cf)\n",
    "del negative_instances['y']\n",
    "cf.columns = negative_instances.columns\n",
    "cf.index = negative_instances.index\n",
    "        \n",
    "sensitive = \"sex_1\"\n",
    "\n",
    "import matplotlib.pyplot as plt\n",
    "import copy \n",
    "current_population = copy.deepcopy(dataset.df_train)\n",
    "\n",
    "cf = encode_constraint(cf, negative_instances, [sensitive])\n",
    "current_population = copy.deepcopy(dataset.df_train)\n",
    "current_population.loc[negative_instances.index,['x1','x2',sensitive]] = cf[['x1','x2',sensitive]].values\n",
    "current_population = current_population.dropna()\n",
    "plt.scatter(current_population.x1[current_population[sensitive]==1],current_population.x2[current_population[sensitive]==1],label='male')\n",
    "plt.scatter(current_population.x1[current_population[sensitive]==0],current_population.x2[current_population[sensitive]==0],label='female')\n",
    "temp1 = cf['x1'][negative_instances[sensitive]==1]\n",
    "temp2 = cf['x2'][negative_instances[sensitive]==1]\n",
    "# randomization for visual purpose \n",
    "noise = 0\n",
    "plt.scatter(temp1 + np.random.uniform(size=len(temp1)) * noise,\\\n",
    "    temp2 + np.random.uniform(size=len(temp2)) * noise, label = 'recourse male')\n",
    "temp1 = cf['x1'][negative_instances[sensitive]==0]\n",
    "temp2 = cf['x2'][negative_instances[sensitive]==0]\n",
    "plt.scatter(temp1 + np.random.uniform(size=len(temp1)) * noise,\\\n",
    "    temp2 + np.random.uniform(size=len(temp2)) * noise, label = 'recourse female')\n",
    "plt.legend()\n",
    "plt.show()\n",
    "plt.savefig(f'./log/synfig/syn_ibr_after.pdf')\n",
    "plt.close()\n",
    "\n",
    "features = ['x1','x2']\n",
    "pred = (ml_model.predict(current_population) > 0.5).reshape(-1)\n",
    "predprob = (ml_model.predict(current_population)).reshape(-1)\n",
    "c_central, radius = centralization(current_population[sen_feature].values, \\\n",
    "    current_population[features].values, \n",
    "    radius\n",
    "    )\n",
    "print(f'Current Centralization is {c_central}')\n",
    "c_atkinson = atkinson(current_population[sen_feature].values, \\\n",
    "    current_population[features].values, \\\n",
    "    origin_features = dataset.df_train[mutable_feature].values)\n",
    "print(f'Current Atkinson is {c_atkinson}')\n",
    "a = current_population\n",
    "b = dataset.df_train\n",
    "c_ap = avg_proximity2(a[sen_feature].values, \\\n",
    "    a[features].values)\n",
    "print(f'Current Avg Proxi Index is {c_ap}')    \n",
    "\n",
    "inv_rate = invalidation(cf, ml_model)\n",
    "print(f'invalidation is {inv_rate}')\n",
    "rec_cost = recourse_cost(negative_instances, cf)\n",
    "\n",
    "negative_sens = negative_instances[sensitive]\n",
    "rec_fair = fairness_cost(negative_instances, cf, negative_sens)\n",
    "\n",
    "vynn = ynn(dataset.df[cf.columns], cf, ml_model, 5)\n",
    "close = closeness(cf[mutable_feature], dataset.df[dataset.df.y==1][mutable_feature])\n",
    "result = result.append({'metric':'centralization_after', \\\n",
    "    'value': c_central, 'method': 'EBR'}, ignore_index = True)\n",
    "result = result.append({'metric':'atkinson_after', \\\n",
    "    'value': c_atkinson, 'method': 'EBR'}, ignore_index = True)\n",
    "result = result.append({'metric':'avgproxi_after', \\\n",
    "    'value': c_ap, 'method': 'EBR'}, ignore_index = True)\n",
    "\n",
    "result = result.append({'metric':'inv_rate', \\\n",
    "    'value': inv_rate, 'method': 'EBR'}, ignore_index = True)\n",
    "result = result.append({ 'metric':'recourse_cost', \\\n",
    "    'value': rec_cost,  'method': 'EBR'}, ignore_index = True)\n",
    "result = result.append({ 'metric':'recourse_faircost', \\\n",
    "    'value': rec_fair,  'method': 'EBR'}, ignore_index = True) \n",
    "result = result.append({ 'metric':'ynn', \\\n",
    "    'value': vynn,  'method': 'EBR'}, ignore_index = True)             \n",
    "result.value = result.value.astype(float)"
   ]
  },
  {
   "cell_type": "code",
   "execution_count": 16,
   "id": "b3a812f3",
   "metadata": {},
   "outputs": [
    {
     "data": {
      "text/html": [
       "<div>\n",
       "<style scoped>\n",
       "    .dataframe tbody tr th:only-of-type {\n",
       "        vertical-align: middle;\n",
       "    }\n",
       "\n",
       "    .dataframe tbody tr th {\n",
       "        vertical-align: top;\n",
       "    }\n",
       "\n",
       "    .dataframe thead th {\n",
       "        text-align: right;\n",
       "    }\n",
       "</style>\n",
       "<table border=\"1\" class=\"dataframe\">\n",
       "  <thead>\n",
       "    <tr style=\"text-align: right;\">\n",
       "      <th></th>\n",
       "      <th>metric</th>\n",
       "      <th>value</th>\n",
       "      <th>method</th>\n",
       "    </tr>\n",
       "  </thead>\n",
       "  <tbody>\n",
       "    <tr>\n",
       "      <th>0</th>\n",
       "      <td>centralization_pre</td>\n",
       "      <td>0.493056</td>\n",
       "      <td>None</td>\n",
       "    </tr>\n",
       "    <tr>\n",
       "      <th>1</th>\n",
       "      <td>atkinson_pre</td>\n",
       "      <td>0.797725</td>\n",
       "      <td>None</td>\n",
       "    </tr>\n",
       "    <tr>\n",
       "      <th>2</th>\n",
       "      <td>avgproxi_pre</td>\n",
       "      <td>0.662624</td>\n",
       "      <td>None</td>\n",
       "    </tr>\n",
       "    <tr>\n",
       "      <th>3</th>\n",
       "      <td>centralization_after</td>\n",
       "      <td>0.500000</td>\n",
       "      <td>Watcher</td>\n",
       "    </tr>\n",
       "    <tr>\n",
       "      <th>4</th>\n",
       "      <td>atkinson_after</td>\n",
       "      <td>0.823536</td>\n",
       "      <td>Watcher</td>\n",
       "    </tr>\n",
       "    <tr>\n",
       "      <th>5</th>\n",
       "      <td>avgproxi_after</td>\n",
       "      <td>0.735595</td>\n",
       "      <td>Watcher</td>\n",
       "    </tr>\n",
       "    <tr>\n",
       "      <th>6</th>\n",
       "      <td>inv_rate</td>\n",
       "      <td>0.000000</td>\n",
       "      <td>Watcher</td>\n",
       "    </tr>\n",
       "    <tr>\n",
       "      <th>7</th>\n",
       "      <td>recourse_cost</td>\n",
       "      <td>0.296403</td>\n",
       "      <td>Watcher</td>\n",
       "    </tr>\n",
       "    <tr>\n",
       "      <th>8</th>\n",
       "      <td>recourse_faircost</td>\n",
       "      <td>0.015337</td>\n",
       "      <td>Watcher</td>\n",
       "    </tr>\n",
       "    <tr>\n",
       "      <th>9</th>\n",
       "      <td>ynn</td>\n",
       "      <td>0.649492</td>\n",
       "      <td>Watcher</td>\n",
       "    </tr>\n",
       "    <tr>\n",
       "      <th>10</th>\n",
       "      <td>centralization_after</td>\n",
       "      <td>0.500000</td>\n",
       "      <td>CCHVAE</td>\n",
       "    </tr>\n",
       "    <tr>\n",
       "      <th>11</th>\n",
       "      <td>atkinson_after</td>\n",
       "      <td>0.984267</td>\n",
       "      <td>CCHVAE</td>\n",
       "    </tr>\n",
       "    <tr>\n",
       "      <th>12</th>\n",
       "      <td>avgproxi_after</td>\n",
       "      <td>0.729653</td>\n",
       "      <td>CCHVAE</td>\n",
       "    </tr>\n",
       "    <tr>\n",
       "      <th>13</th>\n",
       "      <td>inv_rate</td>\n",
       "      <td>0.000000</td>\n",
       "      <td>CCHVAE</td>\n",
       "    </tr>\n",
       "    <tr>\n",
       "      <th>14</th>\n",
       "      <td>recourse_cost</td>\n",
       "      <td>0.270499</td>\n",
       "      <td>CCHVAE</td>\n",
       "    </tr>\n",
       "    <tr>\n",
       "      <th>15</th>\n",
       "      <td>recourse_faircost</td>\n",
       "      <td>0.008486</td>\n",
       "      <td>CCHVAE</td>\n",
       "    </tr>\n",
       "    <tr>\n",
       "      <th>16</th>\n",
       "      <td>ynn</td>\n",
       "      <td>0.449492</td>\n",
       "      <td>CCHVAE</td>\n",
       "    </tr>\n",
       "    <tr>\n",
       "      <th>17</th>\n",
       "      <td>centralization_after</td>\n",
       "      <td>0.500000</td>\n",
       "      <td>CRUD</td>\n",
       "    </tr>\n",
       "    <tr>\n",
       "      <th>18</th>\n",
       "      <td>atkinson_after</td>\n",
       "      <td>0.984267</td>\n",
       "      <td>CRUD</td>\n",
       "    </tr>\n",
       "    <tr>\n",
       "      <th>19</th>\n",
       "      <td>avgproxi_after</td>\n",
       "      <td>0.753297</td>\n",
       "      <td>CRUD</td>\n",
       "    </tr>\n",
       "    <tr>\n",
       "      <th>20</th>\n",
       "      <td>inv_rate</td>\n",
       "      <td>0.000000</td>\n",
       "      <td>CRUD</td>\n",
       "    </tr>\n",
       "    <tr>\n",
       "      <th>21</th>\n",
       "      <td>recourse_cost</td>\n",
       "      <td>0.388015</td>\n",
       "      <td>CRUD</td>\n",
       "    </tr>\n",
       "    <tr>\n",
       "      <th>22</th>\n",
       "      <td>recourse_faircost</td>\n",
       "      <td>0.006008</td>\n",
       "      <td>CRUD</td>\n",
       "    </tr>\n",
       "    <tr>\n",
       "      <th>23</th>\n",
       "      <td>ynn</td>\n",
       "      <td>1.000000</td>\n",
       "      <td>CRUD</td>\n",
       "    </tr>\n",
       "    <tr>\n",
       "      <th>24</th>\n",
       "      <td>centralization_after</td>\n",
       "      <td>0.276923</td>\n",
       "      <td>IBR</td>\n",
       "    </tr>\n",
       "    <tr>\n",
       "      <th>25</th>\n",
       "      <td>atkinson_after</td>\n",
       "      <td>0.735699</td>\n",
       "      <td>IBR</td>\n",
       "    </tr>\n",
       "    <tr>\n",
       "      <th>26</th>\n",
       "      <td>avgproxi_after</td>\n",
       "      <td>0.779918</td>\n",
       "      <td>IBR</td>\n",
       "    </tr>\n",
       "    <tr>\n",
       "      <th>27</th>\n",
       "      <td>inv_rate</td>\n",
       "      <td>0.000000</td>\n",
       "      <td>IBR</td>\n",
       "    </tr>\n",
       "    <tr>\n",
       "      <th>28</th>\n",
       "      <td>recourse_cost</td>\n",
       "      <td>0.227667</td>\n",
       "      <td>IBR</td>\n",
       "    </tr>\n",
       "    <tr>\n",
       "      <th>29</th>\n",
       "      <td>recourse_faircost</td>\n",
       "      <td>0.217297</td>\n",
       "      <td>IBR</td>\n",
       "    </tr>\n",
       "    <tr>\n",
       "      <th>30</th>\n",
       "      <td>ynn</td>\n",
       "      <td>0.652881</td>\n",
       "      <td>IBR</td>\n",
       "    </tr>\n",
       "    <tr>\n",
       "      <th>31</th>\n",
       "      <td>centralization_after</td>\n",
       "      <td>0.295139</td>\n",
       "      <td>EBR</td>\n",
       "    </tr>\n",
       "    <tr>\n",
       "      <th>32</th>\n",
       "      <td>atkinson_after</td>\n",
       "      <td>0.678555</td>\n",
       "      <td>EBR</td>\n",
       "    </tr>\n",
       "    <tr>\n",
       "      <th>33</th>\n",
       "      <td>avgproxi_after</td>\n",
       "      <td>0.834269</td>\n",
       "      <td>EBR</td>\n",
       "    </tr>\n",
       "    <tr>\n",
       "      <th>34</th>\n",
       "      <td>inv_rate</td>\n",
       "      <td>0.000000</td>\n",
       "      <td>EBR</td>\n",
       "    </tr>\n",
       "    <tr>\n",
       "      <th>35</th>\n",
       "      <td>recourse_cost</td>\n",
       "      <td>0.435912</td>\n",
       "      <td>EBR</td>\n",
       "    </tr>\n",
       "    <tr>\n",
       "      <th>36</th>\n",
       "      <td>recourse_faircost</td>\n",
       "      <td>0.053409</td>\n",
       "      <td>EBR</td>\n",
       "    </tr>\n",
       "    <tr>\n",
       "      <th>37</th>\n",
       "      <td>ynn</td>\n",
       "      <td>1.000000</td>\n",
       "      <td>EBR</td>\n",
       "    </tr>\n",
       "  </tbody>\n",
       "</table>\n",
       "</div>"
      ],
      "text/plain": [
       "                  metric     value   method\n",
       "0     centralization_pre  0.493056     None\n",
       "1           atkinson_pre  0.797725     None\n",
       "2           avgproxi_pre  0.662624     None\n",
       "3   centralization_after  0.500000  Watcher\n",
       "4         atkinson_after  0.823536  Watcher\n",
       "5         avgproxi_after  0.735595  Watcher\n",
       "6               inv_rate  0.000000  Watcher\n",
       "7          recourse_cost  0.296403  Watcher\n",
       "8      recourse_faircost  0.015337  Watcher\n",
       "9                    ynn  0.649492  Watcher\n",
       "10  centralization_after  0.500000   CCHVAE\n",
       "11        atkinson_after  0.984267   CCHVAE\n",
       "12        avgproxi_after  0.729653   CCHVAE\n",
       "13              inv_rate  0.000000   CCHVAE\n",
       "14         recourse_cost  0.270499   CCHVAE\n",
       "15     recourse_faircost  0.008486   CCHVAE\n",
       "16                   ynn  0.449492   CCHVAE\n",
       "17  centralization_after  0.500000     CRUD\n",
       "18        atkinson_after  0.984267     CRUD\n",
       "19        avgproxi_after  0.753297     CRUD\n",
       "20              inv_rate  0.000000     CRUD\n",
       "21         recourse_cost  0.388015     CRUD\n",
       "22     recourse_faircost  0.006008     CRUD\n",
       "23                   ynn  1.000000     CRUD\n",
       "24  centralization_after  0.276923      IBR\n",
       "25        atkinson_after  0.735699      IBR\n",
       "26        avgproxi_after  0.779918      IBR\n",
       "27              inv_rate  0.000000      IBR\n",
       "28         recourse_cost  0.227667      IBR\n",
       "29     recourse_faircost  0.217297      IBR\n",
       "30                   ynn  0.652881      IBR\n",
       "31  centralization_after  0.295139      EBR\n",
       "32        atkinson_after  0.678555      EBR\n",
       "33        avgproxi_after  0.834269      EBR\n",
       "34              inv_rate  0.000000      EBR\n",
       "35         recourse_cost  0.435912      EBR\n",
       "36     recourse_faircost  0.053409      EBR\n",
       "37                   ynn  1.000000      EBR"
      ]
     },
     "execution_count": 16,
     "metadata": {},
     "output_type": "execute_result"
    }
   ],
   "source": [
    "result"
   ]
  },
  {
   "cell_type": "code",
   "execution_count": null,
   "id": "ee029d62",
   "metadata": {},
   "outputs": [],
   "source": []
  }
 ],
 "metadata": {
  "kernelspec": {
   "display_name": "Python 3",
   "language": "python",
   "name": "python3"
  },
  "language_info": {
   "codemirror_mode": {
    "name": "ipython",
    "version": 3
   },
   "file_extension": ".py",
   "mimetype": "text/x-python",
   "name": "python",
   "nbconvert_exporter": "python",
   "pygments_lexer": "ipython3",
   "version": "3.6.13"
  }
 },
 "nbformat": 4,
 "nbformat_minor": 5
}
